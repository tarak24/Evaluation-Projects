{
 "cells": [
  {
   "cell_type": "markdown",
   "id": "5e5d5fc3",
   "metadata": {},
   "source": [
    "# Global Power Plant Database"
   ]
  },
  {
   "cell_type": "code",
   "execution_count": 139,
   "id": "dc1e9f0a",
   "metadata": {},
   "outputs": [],
   "source": [
    "import pandas as pd\n",
    "import numpy as np\n",
    "import matplotlib.pyplot as plt\n",
    "import warnings\n",
    "warnings.filterwarnings('ignore')\n",
    "import seaborn as sns"
   ]
  },
  {
   "cell_type": "code",
   "execution_count": 140,
   "id": "3a44a363",
   "metadata": {},
   "outputs": [
    {
     "data": {
      "text/html": [
       "<div>\n",
       "<style scoped>\n",
       "    .dataframe tbody tr th:only-of-type {\n",
       "        vertical-align: middle;\n",
       "    }\n",
       "\n",
       "    .dataframe tbody tr th {\n",
       "        vertical-align: top;\n",
       "    }\n",
       "\n",
       "    .dataframe thead th {\n",
       "        text-align: right;\n",
       "    }\n",
       "</style>\n",
       "<table border=\"1\" class=\"dataframe\">\n",
       "  <thead>\n",
       "    <tr style=\"text-align: right;\">\n",
       "      <th></th>\n",
       "      <th>country</th>\n",
       "      <th>country_long</th>\n",
       "      <th>name</th>\n",
       "      <th>gppd_idnr</th>\n",
       "      <th>capacity_mw</th>\n",
       "      <th>latitude</th>\n",
       "      <th>longitude</th>\n",
       "      <th>primary_fuel</th>\n",
       "      <th>other_fuel1</th>\n",
       "      <th>other_fuel2</th>\n",
       "      <th>...</th>\n",
       "      <th>geolocation_source</th>\n",
       "      <th>wepp_id</th>\n",
       "      <th>year_of_capacity_data</th>\n",
       "      <th>generation_gwh_2013</th>\n",
       "      <th>generation_gwh_2014</th>\n",
       "      <th>generation_gwh_2015</th>\n",
       "      <th>generation_gwh_2016</th>\n",
       "      <th>generation_gwh_2017</th>\n",
       "      <th>generation_data_source</th>\n",
       "      <th>estimated_generation_gwh</th>\n",
       "    </tr>\n",
       "  </thead>\n",
       "  <tbody>\n",
       "    <tr>\n",
       "      <th>0</th>\n",
       "      <td>IND</td>\n",
       "      <td>India</td>\n",
       "      <td>ACME Solar Tower</td>\n",
       "      <td>WRI1020239</td>\n",
       "      <td>2.5</td>\n",
       "      <td>28.1839</td>\n",
       "      <td>73.2407</td>\n",
       "      <td>Solar</td>\n",
       "      <td>NaN</td>\n",
       "      <td>NaN</td>\n",
       "      <td>...</td>\n",
       "      <td>National Renewable Energy Laboratory</td>\n",
       "      <td>NaN</td>\n",
       "      <td>NaN</td>\n",
       "      <td>NaN</td>\n",
       "      <td>NaN</td>\n",
       "      <td>NaN</td>\n",
       "      <td>NaN</td>\n",
       "      <td>NaN</td>\n",
       "      <td>NaN</td>\n",
       "      <td>NaN</td>\n",
       "    </tr>\n",
       "    <tr>\n",
       "      <th>1</th>\n",
       "      <td>IND</td>\n",
       "      <td>India</td>\n",
       "      <td>ADITYA CEMENT WORKS</td>\n",
       "      <td>WRI1019881</td>\n",
       "      <td>98.0</td>\n",
       "      <td>24.7663</td>\n",
       "      <td>74.6090</td>\n",
       "      <td>Coal</td>\n",
       "      <td>NaN</td>\n",
       "      <td>NaN</td>\n",
       "      <td>...</td>\n",
       "      <td>WRI</td>\n",
       "      <td>NaN</td>\n",
       "      <td>NaN</td>\n",
       "      <td>NaN</td>\n",
       "      <td>NaN</td>\n",
       "      <td>NaN</td>\n",
       "      <td>NaN</td>\n",
       "      <td>NaN</td>\n",
       "      <td>NaN</td>\n",
       "      <td>NaN</td>\n",
       "    </tr>\n",
       "    <tr>\n",
       "      <th>2</th>\n",
       "      <td>IND</td>\n",
       "      <td>India</td>\n",
       "      <td>AES Saurashtra Windfarms</td>\n",
       "      <td>WRI1026669</td>\n",
       "      <td>39.2</td>\n",
       "      <td>21.9038</td>\n",
       "      <td>69.3732</td>\n",
       "      <td>Wind</td>\n",
       "      <td>NaN</td>\n",
       "      <td>NaN</td>\n",
       "      <td>...</td>\n",
       "      <td>WRI</td>\n",
       "      <td>NaN</td>\n",
       "      <td>NaN</td>\n",
       "      <td>NaN</td>\n",
       "      <td>NaN</td>\n",
       "      <td>NaN</td>\n",
       "      <td>NaN</td>\n",
       "      <td>NaN</td>\n",
       "      <td>NaN</td>\n",
       "      <td>NaN</td>\n",
       "    </tr>\n",
       "    <tr>\n",
       "      <th>3</th>\n",
       "      <td>IND</td>\n",
       "      <td>India</td>\n",
       "      <td>AGARTALA GT</td>\n",
       "      <td>IND0000001</td>\n",
       "      <td>135.0</td>\n",
       "      <td>23.8712</td>\n",
       "      <td>91.3602</td>\n",
       "      <td>Gas</td>\n",
       "      <td>NaN</td>\n",
       "      <td>NaN</td>\n",
       "      <td>...</td>\n",
       "      <td>WRI</td>\n",
       "      <td>NaN</td>\n",
       "      <td>2018.0</td>\n",
       "      <td>631.777928</td>\n",
       "      <td>617.789264</td>\n",
       "      <td>843.747</td>\n",
       "      <td>886.004428</td>\n",
       "      <td>663.774500</td>\n",
       "      <td>Central Electricity Authority</td>\n",
       "      <td>NaN</td>\n",
       "    </tr>\n",
       "    <tr>\n",
       "      <th>4</th>\n",
       "      <td>IND</td>\n",
       "      <td>India</td>\n",
       "      <td>AKALTARA TPP</td>\n",
       "      <td>IND0000002</td>\n",
       "      <td>1800.0</td>\n",
       "      <td>21.9603</td>\n",
       "      <td>82.4091</td>\n",
       "      <td>Coal</td>\n",
       "      <td>Oil</td>\n",
       "      <td>NaN</td>\n",
       "      <td>...</td>\n",
       "      <td>WRI</td>\n",
       "      <td>NaN</td>\n",
       "      <td>2018.0</td>\n",
       "      <td>1668.290000</td>\n",
       "      <td>3035.550000</td>\n",
       "      <td>5916.370</td>\n",
       "      <td>6243.000000</td>\n",
       "      <td>5385.579736</td>\n",
       "      <td>Central Electricity Authority</td>\n",
       "      <td>NaN</td>\n",
       "    </tr>\n",
       "  </tbody>\n",
       "</table>\n",
       "<p>5 rows × 25 columns</p>\n",
       "</div>"
      ],
      "text/plain": [
       "  country country_long                      name   gppd_idnr  capacity_mw  \\\n",
       "0     IND        India          ACME Solar Tower  WRI1020239          2.5   \n",
       "1     IND        India       ADITYA CEMENT WORKS  WRI1019881         98.0   \n",
       "2     IND        India  AES Saurashtra Windfarms  WRI1026669         39.2   \n",
       "3     IND        India               AGARTALA GT  IND0000001        135.0   \n",
       "4     IND        India              AKALTARA TPP  IND0000002       1800.0   \n",
       "\n",
       "   latitude  longitude primary_fuel other_fuel1 other_fuel2  ...  \\\n",
       "0   28.1839    73.2407        Solar         NaN         NaN  ...   \n",
       "1   24.7663    74.6090         Coal         NaN         NaN  ...   \n",
       "2   21.9038    69.3732         Wind         NaN         NaN  ...   \n",
       "3   23.8712    91.3602          Gas         NaN         NaN  ...   \n",
       "4   21.9603    82.4091         Coal         Oil         NaN  ...   \n",
       "\n",
       "                     geolocation_source  wepp_id year_of_capacity_data  \\\n",
       "0  National Renewable Energy Laboratory      NaN                   NaN   \n",
       "1                                   WRI      NaN                   NaN   \n",
       "2                                   WRI      NaN                   NaN   \n",
       "3                                   WRI      NaN                2018.0   \n",
       "4                                   WRI      NaN                2018.0   \n",
       "\n",
       "  generation_gwh_2013 generation_gwh_2014 generation_gwh_2015  \\\n",
       "0                 NaN                 NaN                 NaN   \n",
       "1                 NaN                 NaN                 NaN   \n",
       "2                 NaN                 NaN                 NaN   \n",
       "3          631.777928          617.789264             843.747   \n",
       "4         1668.290000         3035.550000            5916.370   \n",
       "\n",
       "   generation_gwh_2016  generation_gwh_2017         generation_data_source  \\\n",
       "0                  NaN                  NaN                            NaN   \n",
       "1                  NaN                  NaN                            NaN   \n",
       "2                  NaN                  NaN                            NaN   \n",
       "3           886.004428           663.774500  Central Electricity Authority   \n",
       "4          6243.000000          5385.579736  Central Electricity Authority   \n",
       "\n",
       "   estimated_generation_gwh  \n",
       "0                       NaN  \n",
       "1                       NaN  \n",
       "2                       NaN  \n",
       "3                       NaN  \n",
       "4                       NaN  \n",
       "\n",
       "[5 rows x 25 columns]"
      ]
     },
     "execution_count": 140,
     "metadata": {},
     "output_type": "execute_result"
    }
   ],
   "source": [
    "df=pd.read_csv('C:\\\\Users\\\\DELL\\\\Desktop\\\\Data Trained\\\\Evaluation Projects\\\\database_IND.csv')\n",
    "df.head()"
   ]
  },
  {
   "cell_type": "markdown",
   "id": "83201104",
   "metadata": {},
   "source": [
    "## EDA"
   ]
  },
  {
   "cell_type": "markdown",
   "id": "bb933717",
   "metadata": {},
   "source": [
    "### `country` (text): 3 character country code corresponding to the ISO 3166-1 alpha-3 specification [5]\n",
    "### `country_long` (text): longer form of the country designation\n",
    "### `name` (text): name or title of the power plant, generally in Romanized form\n",
    "### `gppd_idnr` (text): 10 or 12 character identifier for the power plant\n",
    "### `capacity_mw` (number): electrical generating capacity in megawatts\n",
    "### `latitude` (number): geolocation in decimal degrees; WGS84 (EPSG:4326)\n",
    "### `longitude` (number): geolocation in decimal degrees; WGS84 (EPSG:4326)\n",
    "### `primary_fuel` (text): energy source used in primary electricity generation or export\n",
    "### `other_fuel1` (text): energy source used in electricity generation or export\n",
    "### `other_fuel2` (text): energy source used in electricity generation or export\n",
    "### `other_fuel3` (text): energy source used in electricity generation or export\n",
    "###  `commissioning_year` (number): year of plant operation, weighted by unit-capacity when data is available\n",
    "###  `owner` (text): majority shareholder of the power plant, generally in Romanized form\n",
    "###  `source` (text): entity reporting the data; could be an organization, report, or document, generally in Romanized form\n",
    "###  `url` (text): web document corresponding to the `source` field\n",
    "### `geolocation_source` (text): attribution for geolocation information\n",
    "### `wepp_id` (text): a reference to a unique plant identifier in the widely-used PLATTS-WEPP database.\n",
    "### `year_of_capacity_data` (number): year the capacity information was reported\n",
    "### `generation_gwh_2013` (number): electricity generation in gigawatt-hours reported for the year 2013\n",
    "### `generation_gwh_2014` (number): electricity generation in gigawatt-hours reported for the year 2014\n",
    "### `generation_gwh_2015` (number): electricity generation in gigawatt-hours reported for the year 2015\n",
    "### `generation_gwh_2016` (number): electricity generation in gigawatt-hours reported for the year 2016\n",
    "### `generation_gwh_2017` (number): electricity generation in gigawatt-hours reported for the year 2017\n",
    "### `generation_data_source` (text): attribution for the reported generation information\n",
    "### `estimated_generation_gwh` (number): estimated electricity generation in gigawatt-hours for the year."
   ]
  },
  {
   "cell_type": "code",
   "execution_count": 141,
   "id": "11325b67",
   "metadata": {},
   "outputs": [
    {
     "data": {
      "text/plain": [
       "(908, 25)"
      ]
     },
     "execution_count": 141,
     "metadata": {},
     "output_type": "execute_result"
    }
   ],
   "source": [
    "df.shape"
   ]
  },
  {
   "cell_type": "code",
   "execution_count": 142,
   "id": "50e3ca7e",
   "metadata": {},
   "outputs": [
    {
     "data": {
      "text/plain": [
       "country                      object\n",
       "country_long                 object\n",
       "name                         object\n",
       "gppd_idnr                    object\n",
       "capacity_mw                 float64\n",
       "latitude                    float64\n",
       "longitude                   float64\n",
       "primary_fuel                 object\n",
       "other_fuel1                  object\n",
       "other_fuel2                  object\n",
       "other_fuel3                 float64\n",
       "commissioning_year          float64\n",
       "owner                        object\n",
       "source                       object\n",
       "url                          object\n",
       "geolocation_source           object\n",
       "wepp_id                     float64\n",
       "year_of_capacity_data       float64\n",
       "generation_gwh_2013         float64\n",
       "generation_gwh_2014         float64\n",
       "generation_gwh_2015         float64\n",
       "generation_gwh_2016         float64\n",
       "generation_gwh_2017         float64\n",
       "generation_data_source       object\n",
       "estimated_generation_gwh    float64\n",
       "dtype: object"
      ]
     },
     "execution_count": 142,
     "metadata": {},
     "output_type": "execute_result"
    }
   ],
   "source": [
    "df.dtypes"
   ]
  },
  {
   "cell_type": "code",
   "execution_count": 143,
   "id": "4908bac4",
   "metadata": {},
   "outputs": [
    {
     "data": {
      "text/plain": [
       "country                       0\n",
       "country_long                  0\n",
       "name                          0\n",
       "gppd_idnr                     0\n",
       "capacity_mw                   0\n",
       "latitude                     46\n",
       "longitude                    46\n",
       "primary_fuel                  0\n",
       "other_fuel1                 709\n",
       "other_fuel2                 907\n",
       "other_fuel3                 908\n",
       "commissioning_year          380\n",
       "owner                       566\n",
       "source                        0\n",
       "url                           0\n",
       "geolocation_source           19\n",
       "wepp_id                     908\n",
       "year_of_capacity_data       388\n",
       "generation_gwh_2013         524\n",
       "generation_gwh_2014         507\n",
       "generation_gwh_2015         483\n",
       "generation_gwh_2016         471\n",
       "generation_gwh_2017         465\n",
       "generation_data_source      458\n",
       "estimated_generation_gwh    908\n",
       "dtype: int64"
      ]
     },
     "execution_count": 143,
     "metadata": {},
     "output_type": "execute_result"
    }
   ],
   "source": [
    "df.isnull().sum()"
   ]
  },
  {
   "cell_type": "markdown",
   "id": "214bf1fe",
   "metadata": {},
   "source": [
    "### We can delete other_fuel1, other_fuel2, other_fuel3, wepp_id and estimated_genration_gwh as the null values are more for these columns."
   ]
  },
  {
   "cell_type": "code",
   "execution_count": 144,
   "id": "9d5ca19b",
   "metadata": {},
   "outputs": [
    {
     "data": {
      "text/html": [
       "<div>\n",
       "<style scoped>\n",
       "    .dataframe tbody tr th:only-of-type {\n",
       "        vertical-align: middle;\n",
       "    }\n",
       "\n",
       "    .dataframe tbody tr th {\n",
       "        vertical-align: top;\n",
       "    }\n",
       "\n",
       "    .dataframe thead th {\n",
       "        text-align: right;\n",
       "    }\n",
       "</style>\n",
       "<table border=\"1\" class=\"dataframe\">\n",
       "  <thead>\n",
       "    <tr style=\"text-align: right;\">\n",
       "      <th></th>\n",
       "      <th>capacity_mw</th>\n",
       "      <th>latitude</th>\n",
       "      <th>longitude</th>\n",
       "      <th>other_fuel3</th>\n",
       "      <th>commissioning_year</th>\n",
       "      <th>wepp_id</th>\n",
       "      <th>year_of_capacity_data</th>\n",
       "      <th>generation_gwh_2013</th>\n",
       "      <th>generation_gwh_2014</th>\n",
       "      <th>generation_gwh_2015</th>\n",
       "      <th>generation_gwh_2016</th>\n",
       "      <th>generation_gwh_2017</th>\n",
       "      <th>estimated_generation_gwh</th>\n",
       "    </tr>\n",
       "  </thead>\n",
       "  <tbody>\n",
       "    <tr>\n",
       "      <th>count</th>\n",
       "      <td>908.000000</td>\n",
       "      <td>862.000000</td>\n",
       "      <td>862.000000</td>\n",
       "      <td>0.0</td>\n",
       "      <td>528.000000</td>\n",
       "      <td>0.0</td>\n",
       "      <td>520.0</td>\n",
       "      <td>384.000000</td>\n",
       "      <td>401.000000</td>\n",
       "      <td>425.000000</td>\n",
       "      <td>437.000000</td>\n",
       "      <td>443.000000</td>\n",
       "      <td>0.0</td>\n",
       "    </tr>\n",
       "    <tr>\n",
       "      <th>mean</th>\n",
       "      <td>321.046378</td>\n",
       "      <td>21.196189</td>\n",
       "      <td>77.447848</td>\n",
       "      <td>NaN</td>\n",
       "      <td>1996.876894</td>\n",
       "      <td>NaN</td>\n",
       "      <td>2018.0</td>\n",
       "      <td>2304.059202</td>\n",
       "      <td>2420.393316</td>\n",
       "      <td>2414.072373</td>\n",
       "      <td>2453.936292</td>\n",
       "      <td>2531.754458</td>\n",
       "      <td>NaN</td>\n",
       "    </tr>\n",
       "    <tr>\n",
       "      <th>std</th>\n",
       "      <td>580.221767</td>\n",
       "      <td>6.248627</td>\n",
       "      <td>4.907260</td>\n",
       "      <td>NaN</td>\n",
       "      <td>17.047817</td>\n",
       "      <td>NaN</td>\n",
       "      <td>0.0</td>\n",
       "      <td>3794.767492</td>\n",
       "      <td>4013.558173</td>\n",
       "      <td>4183.203199</td>\n",
       "      <td>4152.038216</td>\n",
       "      <td>4187.236364</td>\n",
       "      <td>NaN</td>\n",
       "    </tr>\n",
       "    <tr>\n",
       "      <th>min</th>\n",
       "      <td>0.000000</td>\n",
       "      <td>8.168900</td>\n",
       "      <td>68.644700</td>\n",
       "      <td>NaN</td>\n",
       "      <td>1927.000000</td>\n",
       "      <td>NaN</td>\n",
       "      <td>2018.0</td>\n",
       "      <td>0.000000</td>\n",
       "      <td>0.000000</td>\n",
       "      <td>0.000000</td>\n",
       "      <td>0.000000</td>\n",
       "      <td>0.000000</td>\n",
       "      <td>NaN</td>\n",
       "    </tr>\n",
       "    <tr>\n",
       "      <th>25%</th>\n",
       "      <td>16.837500</td>\n",
       "      <td>16.771575</td>\n",
       "      <td>74.258975</td>\n",
       "      <td>NaN</td>\n",
       "      <td>1988.000000</td>\n",
       "      <td>NaN</td>\n",
       "      <td>2018.0</td>\n",
       "      <td>244.458088</td>\n",
       "      <td>223.650436</td>\n",
       "      <td>174.174750</td>\n",
       "      <td>187.193669</td>\n",
       "      <td>177.643170</td>\n",
       "      <td>NaN</td>\n",
       "    </tr>\n",
       "    <tr>\n",
       "      <th>50%</th>\n",
       "      <td>60.000000</td>\n",
       "      <td>21.778300</td>\n",
       "      <td>76.719250</td>\n",
       "      <td>NaN</td>\n",
       "      <td>2000.000000</td>\n",
       "      <td>NaN</td>\n",
       "      <td>2018.0</td>\n",
       "      <td>797.063475</td>\n",
       "      <td>805.760000</td>\n",
       "      <td>701.027250</td>\n",
       "      <td>716.728350</td>\n",
       "      <td>807.601700</td>\n",
       "      <td>NaN</td>\n",
       "    </tr>\n",
       "    <tr>\n",
       "      <th>75%</th>\n",
       "      <td>388.125000</td>\n",
       "      <td>25.516375</td>\n",
       "      <td>79.441475</td>\n",
       "      <td>NaN</td>\n",
       "      <td>2011.250000</td>\n",
       "      <td>NaN</td>\n",
       "      <td>2018.0</td>\n",
       "      <td>2795.021500</td>\n",
       "      <td>3034.575000</td>\n",
       "      <td>3080.000000</td>\n",
       "      <td>3263.483000</td>\n",
       "      <td>3258.785000</td>\n",
       "      <td>NaN</td>\n",
       "    </tr>\n",
       "    <tr>\n",
       "      <th>max</th>\n",
       "      <td>4760.000000</td>\n",
       "      <td>34.649000</td>\n",
       "      <td>95.408000</td>\n",
       "      <td>NaN</td>\n",
       "      <td>2018.000000</td>\n",
       "      <td>NaN</td>\n",
       "      <td>2018.0</td>\n",
       "      <td>27586.200000</td>\n",
       "      <td>28127.000000</td>\n",
       "      <td>30539.000000</td>\n",
       "      <td>30015.000000</td>\n",
       "      <td>35116.000000</td>\n",
       "      <td>NaN</td>\n",
       "    </tr>\n",
       "  </tbody>\n",
       "</table>\n",
       "</div>"
      ],
      "text/plain": [
       "       capacity_mw    latitude   longitude  other_fuel3  commissioning_year  \\\n",
       "count   908.000000  862.000000  862.000000          0.0          528.000000   \n",
       "mean    321.046378   21.196189   77.447848          NaN         1996.876894   \n",
       "std     580.221767    6.248627    4.907260          NaN           17.047817   \n",
       "min       0.000000    8.168900   68.644700          NaN         1927.000000   \n",
       "25%      16.837500   16.771575   74.258975          NaN         1988.000000   \n",
       "50%      60.000000   21.778300   76.719250          NaN         2000.000000   \n",
       "75%     388.125000   25.516375   79.441475          NaN         2011.250000   \n",
       "max    4760.000000   34.649000   95.408000          NaN         2018.000000   \n",
       "\n",
       "       wepp_id  year_of_capacity_data  generation_gwh_2013  \\\n",
       "count      0.0                  520.0           384.000000   \n",
       "mean       NaN                 2018.0          2304.059202   \n",
       "std        NaN                    0.0          3794.767492   \n",
       "min        NaN                 2018.0             0.000000   \n",
       "25%        NaN                 2018.0           244.458088   \n",
       "50%        NaN                 2018.0           797.063475   \n",
       "75%        NaN                 2018.0          2795.021500   \n",
       "max        NaN                 2018.0         27586.200000   \n",
       "\n",
       "       generation_gwh_2014  generation_gwh_2015  generation_gwh_2016  \\\n",
       "count           401.000000           425.000000           437.000000   \n",
       "mean           2420.393316          2414.072373          2453.936292   \n",
       "std            4013.558173          4183.203199          4152.038216   \n",
       "min               0.000000             0.000000             0.000000   \n",
       "25%             223.650436           174.174750           187.193669   \n",
       "50%             805.760000           701.027250           716.728350   \n",
       "75%            3034.575000          3080.000000          3263.483000   \n",
       "max           28127.000000         30539.000000         30015.000000   \n",
       "\n",
       "       generation_gwh_2017  estimated_generation_gwh  \n",
       "count           443.000000                       0.0  \n",
       "mean           2531.754458                       NaN  \n",
       "std            4187.236364                       NaN  \n",
       "min               0.000000                       NaN  \n",
       "25%             177.643170                       NaN  \n",
       "50%             807.601700                       NaN  \n",
       "75%            3258.785000                       NaN  \n",
       "max           35116.000000                       NaN  "
      ]
     },
     "execution_count": 144,
     "metadata": {},
     "output_type": "execute_result"
    }
   ],
   "source": [
    "df.describe()"
   ]
  },
  {
   "cell_type": "code",
   "execution_count": 145,
   "id": "645c1f4f",
   "metadata": {},
   "outputs": [
    {
     "data": {
      "text/plain": [
       "Central Electricity Authority    450\n",
       "Name: generation_data_source, dtype: int64"
      ]
     },
     "execution_count": 145,
     "metadata": {},
     "output_type": "execute_result"
    }
   ],
   "source": [
    "df['generation_data_source'].value_counts()"
   ]
  },
  {
   "cell_type": "code",
   "execution_count": 146,
   "id": "d84a4857",
   "metadata": {},
   "outputs": [
    {
     "data": {
      "text/plain": [
       "2018.0    520\n",
       "Name: year_of_capacity_data, dtype: int64"
      ]
     },
     "execution_count": 146,
     "metadata": {},
     "output_type": "execute_result"
    }
   ],
   "source": [
    "df['year_of_capacity_data'].value_counts()"
   ]
  },
  {
   "cell_type": "code",
   "execution_count": 147,
   "id": "86bd69b8",
   "metadata": {},
   "outputs": [
    {
     "data": {
      "text/plain": [
       "2013.0    28\n",
       "2015.0    26\n",
       "2012.0    23\n",
       "2016.0    21\n",
       "2014.0    17\n",
       "          ..\n",
       "1958.0     1\n",
       "1949.0     1\n",
       "1954.0     1\n",
       "1956.0     1\n",
       "1927.0     1\n",
       "Name: commissioning_year, Length: 73, dtype: int64"
      ]
     },
     "execution_count": 147,
     "metadata": {},
     "output_type": "execute_result"
    }
   ],
   "source": [
    "df['commissioning_year'].value_counts()"
   ]
  },
  {
   "cell_type": "code",
   "execution_count": 148,
   "id": "39e45cbf",
   "metadata": {},
   "outputs": [
    {
     "data": {
      "text/plain": [
       "Central Electricity Authority                520\n",
       "CDM                                          124\n",
       "Lancosola                                     10\n",
       "National Renewable Energy Laboratory           8\n",
       "National Thermal Power Corporation (NTPC)      6\n",
       "                                            ... \n",
       "Dr Ssk ltd                                     1\n",
       "Navbharat                                      1\n",
       "Chettinad Corp ltd                             1\n",
       "Bannari Sugars ltd                             1\n",
       "Lokmangal Lokmangal group                      1\n",
       "Name: source, Length: 191, dtype: int64"
      ]
     },
     "execution_count": 148,
     "metadata": {},
     "output_type": "execute_result"
    }
   ],
   "source": [
    "df['source'].value_counts()"
   ]
  },
  {
   "cell_type": "code",
   "execution_count": 149,
   "id": "1dcbee31",
   "metadata": {},
   "outputs": [
    {
     "data": {
      "text/plain": [
       "WRI                                     766\n",
       "Industry About                          119\n",
       "National Renewable Energy Laboratory      4\n",
       "Name: geolocation_source, dtype: int64"
      ]
     },
     "execution_count": 149,
     "metadata": {},
     "output_type": "execute_result"
    }
   ],
   "source": [
    "df['geolocation_source'].value_counts()"
   ]
  },
  {
   "cell_type": "code",
   "execution_count": 150,
   "id": "2bc2a230",
   "metadata": {},
   "outputs": [
    {
     "data": {
      "text/plain": [
       "Acc Acc ltd                                 4\n",
       "Sterling Agro Industries ltd.               4\n",
       "Jk Cement ltd                               4\n",
       "Tata Power Solar Systems Limited (TPREL)    3\n",
       "Government of India                         3\n",
       "                                           ..\n",
       "Maral Overseas ltd                          1\n",
       "Natural Alliend indust                      1\n",
       "India Ltd icl)                              1\n",
       "Shamanur Sugars ltd                         1\n",
       "Lokmangal Lokmangal group                   1\n",
       "Name: owner, Length: 280, dtype: int64"
      ]
     },
     "execution_count": 150,
     "metadata": {},
     "output_type": "execute_result"
    }
   ],
   "source": [
    "df['owner'].value_counts()"
   ]
  },
  {
   "cell_type": "code",
   "execution_count": 151,
   "id": "cd34ed9d",
   "metadata": {},
   "outputs": [
    {
     "data": {
      "text/plain": [
       "280"
      ]
     },
     "execution_count": 151,
     "metadata": {},
     "output_type": "execute_result"
    }
   ],
   "source": [
    "df['owner'].nunique()"
   ]
  },
  {
   "cell_type": "code",
   "execution_count": 152,
   "id": "abc79c2a",
   "metadata": {},
   "outputs": [
    {
     "data": {
      "text/plain": [
       "<AxesSubplot:xlabel='primary_fuel', ylabel='count'>"
      ]
     },
     "execution_count": 152,
     "metadata": {},
     "output_type": "execute_result"
    },
    {
     "data": {
      "image/png": "[encoded data removed]",
      "text/plain": [
       "<Figure size 432x288 with 1 Axes>"
      ]
     },
     "metadata": {
      "needs_background": "light"
     },
     "output_type": "display_data"
    }
   ],
   "source": [
    "sns.countplot(df['primary_fuel'])"
   ]
  },
  {
   "cell_type": "markdown",
   "id": "3ed718b1",
   "metadata": {},
   "source": [
    "### Most of the plants are Coal and Hydro based."
   ]
  },
  {
   "cell_type": "code",
   "execution_count": 153,
   "id": "6b7e5809",
   "metadata": {},
   "outputs": [
    {
     "data": {
      "text/plain": [
       "<AxesSubplot:xlabel='generation_gwh_2013', ylabel='capacity_mw'>"
      ]
     },
     "execution_count": 153,
     "metadata": {},
     "output_type": "execute_result"
    },
    {
     "data": {
      "image/png": "[encoded data removed]",
      "text/plain": [
       "<Figure size 432x288 with 1 Axes>"
      ]
     },
     "metadata": {
      "needs_background": "light"
     },
     "output_type": "display_data"
    }
   ],
   "source": [
    "sns.scatterplot(x='generation_gwh_2013',y='capacity_mw',hue='primary_fuel',data=df)"
   ]
  },
  {
   "cell_type": "code",
   "execution_count": 154,
   "id": "5eb52e80",
   "metadata": {},
   "outputs": [
    {
     "data": {
      "text/plain": [
       "<AxesSubplot:xlabel='generation_gwh_2014', ylabel='capacity_mw'>"
      ]
     },
     "execution_count": 154,
     "metadata": {},
     "output_type": "execute_result"
    },
    {
     "data": {
      "image/png": "[encoded data removed]",
      "text/plain": [
       "<Figure size 432x288 with 1 Axes>"
      ]
     },
     "metadata": {
      "needs_background": "light"
     },
     "output_type": "display_data"
    }
   ],
   "source": [
    "sns.scatterplot(x='generation_gwh_2014',y='capacity_mw',hue='primary_fuel',data=df)"
   ]
  },
  {
   "cell_type": "code",
   "execution_count": 155,
   "id": "f0e610fc",
   "metadata": {},
   "outputs": [
    {
     "data": {
      "text/plain": [
       "<AxesSubplot:xlabel='generation_gwh_2015', ylabel='capacity_mw'>"
      ]
     },
     "execution_count": 155,
     "metadata": {},
     "output_type": "execute_result"
    },
    {
     "data": {
      "image/png": "[encoded data removed]",
      "text/plain": [
       "<Figure size 432x288 with 1 Axes>"
      ]
     },
     "metadata": {
      "needs_background": "light"
     },
     "output_type": "display_data"
    }
   ],
   "source": [
    "sns.scatterplot(x='generation_gwh_2015',y='capacity_mw',hue='primary_fuel',data=df)"
   ]
  },
  {
   "cell_type": "code",
   "execution_count": 156,
   "id": "08a3b97c",
   "metadata": {},
   "outputs": [
    {
     "data": {
      "text/plain": [
       "<AxesSubplot:xlabel='generation_gwh_2016', ylabel='capacity_mw'>"
      ]
     },
     "execution_count": 156,
     "metadata": {},
     "output_type": "execute_result"
    },
    {
     "data": {
      "image/png": "[encoded data removed]",
      "text/plain": [
       "<Figure size 432x288 with 1 Axes>"
      ]
     },
     "metadata": {
      "needs_background": "light"
     },
     "output_type": "display_data"
    }
   ],
   "source": [
    "sns.scatterplot(x='generation_gwh_2016',y='capacity_mw',hue='primary_fuel',data=df)"
   ]
  },
  {
   "cell_type": "code",
   "execution_count": 157,
   "id": "271cf603",
   "metadata": {},
   "outputs": [
    {
     "data": {
      "text/plain": [
       "<AxesSubplot:xlabel='generation_gwh_2017', ylabel='capacity_mw'>"
      ]
     },
     "execution_count": 157,
     "metadata": {},
     "output_type": "execute_result"
    },
    {
     "data": {
      "image/png": "[encoded data removed]",
      "text/plain": [
       "<Figure size 432x288 with 1 Axes>"
      ]
     },
     "metadata": {
      "needs_background": "light"
     },
     "output_type": "display_data"
    }
   ],
   "source": [
    "sns.scatterplot(x='generation_gwh_2017',y='capacity_mw',hue='primary_fuel',data=df)"
   ]
  },
  {
   "cell_type": "markdown",
   "id": "7cbd5c6f",
   "metadata": {},
   "source": [
    "### For all the years, As the generation is more, the capacity will also be more."
   ]
  },
  {
   "cell_type": "code",
   "execution_count": 158,
   "id": "20e94155",
   "metadata": {},
   "outputs": [
    {
     "data": {
      "text/plain": [
       "<AxesSubplot:xlabel='primary_fuel', ylabel='capacity_mw'>"
      ]
     },
     "execution_count": 158,
     "metadata": {},
     "output_type": "execute_result"
    },
    {
     "data": {
      "image/png": "[encoded data removed]",
      "text/plain": [
       "<Figure size 432x288 with 1 Axes>"
      ]
     },
     "metadata": {
      "needs_background": "light"
     },
     "output_type": "display_data"
    }
   ],
   "source": [
    "sns.scatterplot(df['primary_fuel'],df['capacity_mw'])"
   ]
  },
  {
   "cell_type": "markdown",
   "id": "15798e27",
   "metadata": {},
   "source": [
    "### The plants with Coal as their primary fuel has more Capacity."
   ]
  },
  {
   "cell_type": "code",
   "execution_count": 160,
   "id": "3fe631c8",
   "metadata": {},
   "outputs": [
    {
     "data": {
      "text/plain": [
       "<AxesSubplot:xlabel='commissioning_year', ylabel='capacity_mw'>"
      ]
     },
     "execution_count": 160,
     "metadata": {},
     "output_type": "execute_result"
    },
    {
     "data": {
      "image/png": "[encoded data removed]",
      "text/plain": [
       "<Figure size 1080x360 with 1 Axes>"
      ]
     },
     "metadata": {
      "needs_background": "light"
     },
     "output_type": "display_data"
    }
   ],
   "source": [
    "plt.figure(figsize=(15,5))\n",
    "sns.scatterplot(x=df['commissioning_year'],y=df['capacity_mw'],hue=df['primary_fuel'])"
   ]
  },
  {
   "cell_type": "markdown",
   "id": "c9c868b5",
   "metadata": {},
   "source": [
    "### The oldest plants are Hydro Plants to generate Power."
   ]
  },
  {
   "cell_type": "code",
   "execution_count": 161,
   "id": "bca30da2",
   "metadata": {},
   "outputs": [
    {
     "data": {
      "image/png": "[encoded data removed]",
      "text/plain": [
       "<Figure size 288x288 with 1 Axes>"
      ]
     },
     "metadata": {
      "needs_background": "light"
     },
     "output_type": "display_data"
    },
    {
     "data": {
      "image/png": "[encoded data removed]",
      "text/plain": [
       "<Figure size 288x288 with 1 Axes>"
      ]
     },
     "metadata": {
      "needs_background": "light"
     },
     "output_type": "display_data"
    },
    {
     "data": {
      "image/png": "[encoded data removed]",
      "text/plain": [
       "<Figure size 288x288 with 1 Axes>"
      ]
     },
     "metadata": {
      "needs_background": "light"
     },
     "output_type": "display_data"
    },
    {
     "data": {
      "image/png": "[encoded data removed]",
      "text/plain": [
       "<Figure size 288x288 with 1 Axes>"
      ]
     },
     "metadata": {
      "needs_background": "light"
     },
     "output_type": "display_data"
    },
    {
     "data": {
      "image/png": "[encoded data removed]",
      "text/plain": [
       "<Figure size 288x288 with 1 Axes>"
      ]
     },
     "metadata": {
      "needs_background": "light"
     },
     "output_type": "display_data"
    },
    {
     "data": {
      "image/png": "[encoded data removed]",
      "text/plain": [
       "<Figure size 288x288 with 1 Axes>"
      ]
     },
     "metadata": {
      "needs_background": "light"
     },
     "output_type": "display_data"
    }
   ],
   "source": [
    "t=['capacity_mw','generation_gwh_2013','generation_gwh_2014','generation_gwh_2015','generation_gwh_2016','generation_gwh_2017']\n",
    "for i in t:\n",
    "    plt.figure(figsize=(4,4))\n",
    "    sns.distplot(df[i])"
   ]
  },
  {
   "cell_type": "markdown",
   "id": "05695ded",
   "metadata": {},
   "source": [
    "### The distribution is normal but the data is right skewed."
   ]
  },
  {
   "cell_type": "code",
   "execution_count": 162,
   "id": "2d1b0b13",
   "metadata": {},
   "outputs": [
    {
     "data": {
      "image/png": "[encoded data removed]",
      "text/plain": [
       "<Figure size 288x288 with 1 Axes>"
      ]
     },
     "metadata": {
      "needs_background": "light"
     },
     "output_type": "display_data"
    },
    {
     "data": {
      "image/png": "[encoded data removed]",
      "text/plain": [
       "<Figure size 288x288 with 1 Axes>"
      ]
     },
     "metadata": {
      "needs_background": "light"
     },
     "output_type": "display_data"
    },
    {
     "data": {
      "image/png": "[encoded data removed]",
      "text/plain": [
       "<Figure size 288x288 with 1 Axes>"
      ]
     },
     "metadata": {
      "needs_background": "light"
     },
     "output_type": "display_data"
    },
    {
     "data": {
      "image/png": "[encoded data removed]",
      "text/plain": [
       "<Figure size 288x288 with 1 Axes>"
      ]
     },
     "metadata": {
      "needs_background": "light"
     },
     "output_type": "display_data"
    },
    {
     "data": {
      "image/png": "[encoded data removed]",
      "text/plain": [
       "<Figure size 288x288 with 1 Axes>"
      ]
     },
     "metadata": {
      "needs_background": "light"
     },
     "output_type": "display_data"
    },
    {
     "data": {
      "image/png": "[encoded data removed]",
      "text/plain": [
       "<Figure size 288x288 with 1 Axes>"
      ]
     },
     "metadata": {
      "needs_background": "light"
     },
     "output_type": "display_data"
    }
   ],
   "source": [
    "for i in t:\n",
    "    plt.figure(figsize=(4,4))\n",
    "    sns.boxplot(df[i])"
   ]
  },
  {
   "cell_type": "markdown",
   "id": "b2fc2d23",
   "metadata": {},
   "source": [
    "### Outliers are present in all the columns"
   ]
  },
  {
   "cell_type": "code",
   "execution_count": 163,
   "id": "62b797c3",
   "metadata": {},
   "outputs": [],
   "source": [
    "cor=df.corr()"
   ]
  },
  {
   "cell_type": "code",
   "execution_count": 164,
   "id": "275d3d2e",
   "metadata": {},
   "outputs": [
    {
     "data": {
      "text/plain": [
       "<AxesSubplot:>"
      ]
     },
     "execution_count": 164,
     "metadata": {},
     "output_type": "execute_result"
    },
    {
     "data": {
      "image/png": "[encoded data removed]",
      "text/plain": [
       "<Figure size 720x432 with 2 Axes>"
      ]
     },
     "metadata": {
      "needs_background": "light"
     },
     "output_type": "display_data"
    }
   ],
   "source": [
    "plt.figure(figsize=(10,6))\n",
    "sns.heatmap(cor,annot=True)"
   ]
  },
  {
   "cell_type": "code",
   "execution_count": 165,
   "id": "3cbb8b52",
   "metadata": {},
   "outputs": [],
   "source": [
    "df.drop(['country','country_long','name','gppd_idnr','latitude','longitude','other_fuel1',\n",
    "         'other_fuel2','other_fuel3','owner','geolocation_source','source','url',\n",
    "         'wepp_id','year_of_capacity_data','estimated_generation_gwh','generation_data_source'],axis=1,inplace=True)"
   ]
  },
  {
   "cell_type": "markdown",
   "id": "e1310fcf",
   "metadata": {},
   "source": [
    "### These columns are not required for prediction, since they does not make any significant relation with output."
   ]
  },
  {
   "cell_type": "code",
   "execution_count": 166,
   "id": "12063338",
   "metadata": {},
   "outputs": [
    {
     "data": {
      "text/html": [
       "<div>\n",
       "<style scoped>\n",
       "    .dataframe tbody tr th:only-of-type {\n",
       "        vertical-align: middle;\n",
       "    }\n",
       "\n",
       "    .dataframe tbody tr th {\n",
       "        vertical-align: top;\n",
       "    }\n",
       "\n",
       "    .dataframe thead th {\n",
       "        text-align: right;\n",
       "    }\n",
       "</style>\n",
       "<table border=\"1\" class=\"dataframe\">\n",
       "  <thead>\n",
       "    <tr style=\"text-align: right;\">\n",
       "      <th></th>\n",
       "      <th>capacity_mw</th>\n",
       "      <th>primary_fuel</th>\n",
       "      <th>commissioning_year</th>\n",
       "      <th>generation_gwh_2013</th>\n",
       "      <th>generation_gwh_2014</th>\n",
       "      <th>generation_gwh_2015</th>\n",
       "      <th>generation_gwh_2016</th>\n",
       "      <th>generation_gwh_2017</th>\n",
       "    </tr>\n",
       "  </thead>\n",
       "  <tbody>\n",
       "    <tr>\n",
       "      <th>0</th>\n",
       "      <td>2.5</td>\n",
       "      <td>Solar</td>\n",
       "      <td>2011.0</td>\n",
       "      <td>NaN</td>\n",
       "      <td>NaN</td>\n",
       "      <td>NaN</td>\n",
       "      <td>NaN</td>\n",
       "      <td>NaN</td>\n",
       "    </tr>\n",
       "    <tr>\n",
       "      <th>1</th>\n",
       "      <td>98.0</td>\n",
       "      <td>Coal</td>\n",
       "      <td>NaN</td>\n",
       "      <td>NaN</td>\n",
       "      <td>NaN</td>\n",
       "      <td>NaN</td>\n",
       "      <td>NaN</td>\n",
       "      <td>NaN</td>\n",
       "    </tr>\n",
       "    <tr>\n",
       "      <th>2</th>\n",
       "      <td>39.2</td>\n",
       "      <td>Wind</td>\n",
       "      <td>NaN</td>\n",
       "      <td>NaN</td>\n",
       "      <td>NaN</td>\n",
       "      <td>NaN</td>\n",
       "      <td>NaN</td>\n",
       "      <td>NaN</td>\n",
       "    </tr>\n",
       "    <tr>\n",
       "      <th>3</th>\n",
       "      <td>135.0</td>\n",
       "      <td>Gas</td>\n",
       "      <td>2004.0</td>\n",
       "      <td>631.777928</td>\n",
       "      <td>617.789264</td>\n",
       "      <td>843.747</td>\n",
       "      <td>886.004428</td>\n",
       "      <td>663.774500</td>\n",
       "    </tr>\n",
       "    <tr>\n",
       "      <th>4</th>\n",
       "      <td>1800.0</td>\n",
       "      <td>Coal</td>\n",
       "      <td>2015.0</td>\n",
       "      <td>1668.290000</td>\n",
       "      <td>3035.550000</td>\n",
       "      <td>5916.370</td>\n",
       "      <td>6243.000000</td>\n",
       "      <td>5385.579736</td>\n",
       "    </tr>\n",
       "  </tbody>\n",
       "</table>\n",
       "</div>"
      ],
      "text/plain": [
       "   capacity_mw primary_fuel  commissioning_year  generation_gwh_2013  \\\n",
       "0          2.5        Solar              2011.0                  NaN   \n",
       "1         98.0         Coal                 NaN                  NaN   \n",
       "2         39.2         Wind                 NaN                  NaN   \n",
       "3        135.0          Gas              2004.0           631.777928   \n",
       "4       1800.0         Coal              2015.0          1668.290000   \n",
       "\n",
       "   generation_gwh_2014  generation_gwh_2015  generation_gwh_2016  \\\n",
       "0                  NaN                  NaN                  NaN   \n",
       "1                  NaN                  NaN                  NaN   \n",
       "2                  NaN                  NaN                  NaN   \n",
       "3           617.789264              843.747           886.004428   \n",
       "4          3035.550000             5916.370          6243.000000   \n",
       "\n",
       "   generation_gwh_2017  \n",
       "0                  NaN  \n",
       "1                  NaN  \n",
       "2                  NaN  \n",
       "3           663.774500  \n",
       "4          5385.579736  "
      ]
     },
     "execution_count": 166,
     "metadata": {},
     "output_type": "execute_result"
    }
   ],
   "source": [
    "df.head()"
   ]
  },
  {
   "cell_type": "code",
   "execution_count": 167,
   "id": "8e9f0416",
   "metadata": {},
   "outputs": [],
   "source": [
    "df[\"generation_gwh_2013\"].fillna(0, inplace = True)\n",
    "df[\"generation_gwh_2014\"].fillna(0, inplace = True)\n",
    "df[\"generation_gwh_2015\"].fillna(0, inplace = True)\n",
    "df[\"generation_gwh_2016\"].fillna(0, inplace = True)\n",
    "df[\"generation_gwh_2017\"].fillna(0, inplace = True)"
   ]
  },
  {
   "cell_type": "code",
   "execution_count": 168,
   "id": "661b2324",
   "metadata": {},
   "outputs": [],
   "source": [
    "solar=[]\n",
    "coal=[]\n",
    "wind=[]\n",
    "gas=[]\n",
    "hyd=[]\n",
    "biom=[]\n",
    "oil=[]\n",
    "nucle=[]\n",
    "g=['generation_gwh_2013','generation_gwh_2014','generation_gwh_2015','generation_gwh_2016','generation_gwh_2017']\n",
    "for i in g:\n",
    "    for j in df.index:\n",
    "        if df['primary_fuel'][j]=='Solar':\n",
    "            solar.append(df[i][j])\n",
    "        elif df['primary_fuel'][j]=='Coal':\n",
    "            coal.append(df[i][j])\n",
    "        elif df['primary_fuel'][j]=='Wind':\n",
    "            wind.append(df[i][j])\n",
    "        elif df['primary_fuel'][j]=='Gas':\n",
    "            gas.append(df[i][j])\n",
    "        elif df['primary_fuel'][j]=='Hydro':\n",
    "            hyd.append(df[i][j])\n",
    "        elif df['primary_fuel'][j]=='Biomass':\n",
    "            biom.append(df[i][j])\n",
    "        elif df['primary_fuel'][j]=='Oil':\n",
    "            oil.append(df[i][j])\n",
    "        elif df['primary_fuel'][j]=='Nuclear':\n",
    "            nucle.append(df[i][j])"
   ]
  },
  {
   "cell_type": "markdown",
   "id": "c545bfb6",
   "metadata": {},
   "source": [
    "### We are doing this to convert all the 0 values to its corresponding minimum values based on the primary fuel used in the plant."
   ]
  },
  {
   "cell_type": "code",
   "execution_count": 169,
   "id": "9254b64b",
   "metadata": {},
   "outputs": [],
   "source": [
    "solar.sort()\n",
    "solar=set(solar)\n",
    "coal.sort()\n",
    "coal=set(coal)\n",
    "wind.sort()\n",
    "wind=set(wind)\n",
    "gas.sort()\n",
    "gas=set(gas)\n",
    "hyd.sort()\n",
    "hyd=set(hyd)\n",
    "biom.sort()\n",
    "biom=set(biom)\n",
    "oil.sort()\n",
    "oil=set(oil)\n",
    "nucle.sort()\n",
    "nucle=set(nucle)"
   ]
  },
  {
   "cell_type": "markdown",
   "id": "56577d0f",
   "metadata": {},
   "source": [
    "### We are converting list into a set to eliminate the duplicate values present in the list. "
   ]
  },
  {
   "cell_type": "code",
   "execution_count": 170,
   "id": "15316bea",
   "metadata": {},
   "outputs": [
    {
     "name": "stdout",
     "output_type": "stream",
     "text": [
      "{0.0}\n",
      "{0.0, 6147.8, 4.313400000000001, 4.8713500000000005, 6.34865, 4101.53, 8197.0, 6153.76, 4106.29, 11.472449999999998, 8197.97, 20486.0, 6159.621, 18.909, 19.6378, 20.24275, 21.7304, 22.0, 22.755, 24.151775, 25.2816, 2074.31, 2066.39, 2068.276, 4117.339, 4117.682, 4126.3208, 12312.0, 34.7098, 8227.0, 38.21225, 6182.0409, 6189.11, 2096.0, 49.923, 51.9464, 2100.03, 54.64, 2102.0, 2103.8239, 59.29676499999999, 72.825, 73.131513, 2120.68, 6216.6381, 77.3344, 4175.29, 6224.0, 6225.693, 4179.266, 6229.793, 92.44, 12381.0, 95.0, 2143.39, 4191.364, 6243.0, 2152.69, 6249.927, 106.5792, 4208.389, 117.654, 12406.0, 120.90364, 122.02, 20603.0, 124.92480000000002, 124.7792, 125.38, 4222.614, 0.2805, 18560.0, 6274.226, 2180.429, 4229.98, 14471.0, 26761.39, 2189.0, 150.952, 2205.11, 163.611, 166.92, 6311.0, 171.355, 6316.03, 173.1111, 173.234, 174.145, 12467.0, 10422.69, 6327.03, 184.214, 2236.9908, 191.56, 6335.0, 6337.0, 6337.63, 196.23, 196.7602, 197.872, 198.288, 6341.202, 6345.2487, 6348.3, 6348.32, 208.7888, 6353.0, 210.48, 2258.3458, 215.21, 2265.47, 218.93, 219.5193, 16604.0, 2273.06, 6371.82, 233.59665, 4329.04, 240.7999, 2289.03, 2290.92, 244.388, 250.971, 4347.9741, 6396.37, 6397.0, 4350.558, 258.452, 263.847, 2311.32, 265.78, 4360.998, 10503.882, 2316.1072, 2318.186, 6415.029, 273.58, 274.96, 2321.6, 6420.386, 8470.1, 2327.9, 8470.57, 281.73, 281.981, 283.2, 16665.0, 289.245, 289.2838, 291.01875, 6434.0, 4389.5609, 6164.74, 298.28, 35116.0, 2350.934, 6449.761, 306.379, 4404.532, 6457.09, 323.0415, 326.849, 334.9, 8526.276, 336.854, 337.232, 6483.941, 340.2, 4436.7, 344.3562380310918, 6492.0, 349.19, 354.9, 356.966, 4453.203, 2406.44, 359.1398, 6501.373, 8556.424, 370.84, 2419.087, 8564.379, 373.919000361581, 18807.0, 376.2, 29047.0, 378.68, 382.45, 2430.38, 2432.6793, 4482.947, 6532.615, 4488.057, 2441.21, 395.0548, 403.96, 4499.764, 6555.64, 2463.44, 416.1, 417.168, 418.96, 2465.53, 420.909, 421.72, 4524.357, 2478.63, 432.135, 433.848, 434.64, 4529.6, 6576.796, 440.42, 443.42, 6587.527, 2493.69, 4542.028, 2495.566, 448.1, 12732.0, 2498.546, 454.1215, 8647.43, 2504.53, 2508.11, 6605.259, 463.23, 8655.446996, 2514.0, 468.36, 4564.45, 473.91, 474.37, 2521.0, 6618.7154, 478.47, 479.43, 2527.017, 481.94575, 8670.845796000001, 483.043, 6628.792, 485.62, 4585.885, 493.5488, 495.63, 14834.8, 2547.122, 8691.857, 505.76, 518.2409, 518.72, 525.139, 2580.145, 18964.0, 540.29, 4638.57, 14881.88, 546.795, 2598.618, 4652.2795, 18990.0, 4655.0, 4659.0763, 4663.18, 2617.0330000000004, 4666.672, 8773.357529, 8778.0, 4683.0, 588.74, 2642.322, 21078.0, 601.39, 6753.87, 8801.42, 2662.47, 2662.5, 2663.47, 620.678, 6768.749999999999, 628.4214, 4724.03, 6773.788, 2681.166, 6779.256, 6780.138, 2685.88, 4735.13, 641.872, 2692.7, 2693.417, 19078.0, 6792.303, 649.9857, 2697.969, 6794.6076, 2702.5, 2702.8232000000003, 4750.17755, 660.78, 2709.41, 664.0, 664.8849, 2716.0, 669.5460181999999, 669.939, 29342.0, 2720.0, 22522.0, 2725.69064, 17061.0, 687.88, 2737.058, 4788.0, 2747.91825, 2757.0, 2757.9618, 4812.82, 15054.0, 2769.371, 2772.82, 6870.637949347289, 25303.0, 728.3639999999999, 2776.947, 6877.859, 734.09, 15069.0, 739.1554, 2790.0, 19176.0, 6889.57, 2800.0, 2802.37, 6899.0, 8952.47, 2810.625, 766.26, 2822.683, 778.43, 4875.81, 6925.0, 782.209087, 788.6561, 2836.89, 19224.0, 4889.0, 4893.392, 6942.29, 19229.0, 2850.99, 2851.191, 2852.05, 805.76, 2853.46, 2858.0, 6956.983, 9004.21, 814.866, 4912.0, 2866.784, 821.798, 9013.4173, 11062.0, 4923.628, 829.691, 832.308, 2881.574, 2885.673, 2887.0, 15177.0, 6992.321, 6992.78, 852.537, 6997.9400000000005, 7006.7913, 4959.34, 0.1183, 865.4, 7018.217, 4974.38, 24599.0, 2936.0, 21370.0, 2939.888, 2942.81, 7043.329, 4998.6783000000005, 2951.9, 905.97, 5004.0, 11151.06947219136, 2962.72, 916.48, 7062.071, 11158.697, 920.129, 19353.0, 2972.753, 2972.814, 2975.66, 5026.362, 5031.0, 13227.35235, 946.141, 7090.9, 948.831, 949.05, 2998.446, 2998.632, 3000.061, 27586.2, 9155.18, 3013.554, 5064.0, 27594.0, 7118.89, 3032.6496, 986.24735, 3034.575, 3035.55, 7130.507, 7132.995, 5089.655, 15334.8763, 999.17, 1002.666, 5100.214, 5101.2656, 3055.305, 21490.0, 5109.497, 5111.95, 5119.431, 0.994875, 1.09395, 2.2757, 3.3088, 3.7026, 1025.3845, 5124.74137, 5125.82, 7177.0, 1034.05, 1045.82, 27671.0, 9246.062, 1057.8403, 3107.282, 5155.986, 7204.49, 1064.0, 5161.538, 3123.572061, 3125.74, 5174.09, 9271.0, 9271.61, 7229.330000000001, 1090.75, 5187.0794, 7235.281, 13389.0, 3152.0, 3156.053669, 7252.617, 3158.016, 7262.06, 7262.5005722, 7269.503, 7270.28, 3175.473, 1128.294, 7276.0, 3182.742, 13427.37, 3189.8, 9333.0, 5239.703, 1144.014052, 3193.101, 3194.35982, 1147.913, 7290.568, 11385.842, 13431.0, 23679.0, 1153.421, 1153.653, 1154.342, 7307.679, 3212.7, 1165.318, 5260.71, 15501.0, 1172.06, 1175.765, 5274.6625, 1185.569, 5282.0, 7330.19, 1188.71, 5288.2, 19628.0, 11440.0, 3249.0, 1204.0675, 1208.852, 3256.851, 1211.642, 3260.348, 3263.483, 3263.584, 3264.0, 1218.76, 1221.0, 7368.39, 3274.84, 11466.0, 1228.69, 1229.48, 3277.35, 5327.27, 29909.0, 5337.31, 1242.19, 5341.639, 3300.57, 1255.732, 1256.636, 3305.9567, 7399.0, 1259.123, 1262.6, 1264.99, 3312.0, 7412.0, 3318.61, 1272.52, 1274.999, 5371.95, 5373.7458, 5373.91, 3331.0, 5380.2671, 1286.12, 5382.524, 5385.579736432796, 1290.33, 21771.0, 7443.44, 7444.948, 3357.9, 3358.733, 3359.0, 3359.814, 3362.0, 7459.0, 3364.42, 3365.746, 17704.0, 5418.767, 1324.32728, 13616.0, 3378.12, 3379.1005, 3382.0, 3384.0, 1338.093, 3389.31, 30015.0, 3394.367, 5445.763, 5447.4697, 19784.0, 9546.648, 3408.69, 7505.972, 13656.0, 7513.134, 1375.348, 3424.49, 5471.328, 5474.15, 5475.16, 1380.61, 3429.3, 5476.7, 1383.037, 13675.44, 3438.21, 1391.922, 3439.0, 1393.879, 1395.0, 3444.42, 5493.37, 3449.8, 1403.843, 3454.840529, 3459.695, 5508.7643, 1413.0, 1420.412, 1423.7245, 1424.0, 5521.9, 9615.35, 1428.3904, 3480.74, 3482.79, 5531.3308, 1436.072, 1437.9547, 1438.87, 1439.363, 5532.937, 1452.889, 3502.11, 7599.0, 28078.0, 3505.611, 3515.7496, 5563.09, 3518.31, 1475.8, 3523.22, 9670.879, 3527.085, 7629.0, 3537.52, 3539.63, 13780.23, 21973.0, 5592.182, 7640.0, 3548.609, 1501.25, 7645.55, 28127.0, 1511.0, 1513.72, 1518.87, 1520.42, 3574.2349, 5629.663, 5630.601, 5633.48, 22019.0, 1542.27, 3590.9, 1545.0, 3594.971, 3595.553, 5645.389, 1550.69, 13839.0, 1552.43, 1552.96, 3600.7, 5652.0, 3609.528, 1563.457, 1564.163, 5666.0719, 5670.247, 5673.374, 3628.781, 3630.0, 1584.581, 3633.396, 3635.24, 1590.98, 3642.26, 7744.0, 5697.399, 1610.5612, 3664.5695, 5716.32, 5717.741, 3672.61, 3674.16, 1629.46, 1634.274, 3683.91, 3684.9, 9833.69, 1643.046, 1643.8983, 5741.319, 3697.34, 18033.0, 1651.1589, 5747.0, 3703.8, 3709.5522, 1668.29, 1668.631, 1670.25, 3720.064, 1673.056, 5770.78, 1678.852, 1680.976, 5777.12, 3730.102, 1683.597, 1687.044, 3738.4, 3738.81, 3741.87, 5795.848, 1701.008, 7847.42, 1710.012, 5806.851, 1712.912, 1713.201, 5809.0, 7856.0, 13998.0, 1718.0, 1718.264, 1721.426, 3769.0, 9917.772, 5824.62, 5826.29, 22215.0, 5837.766, 3797.0, 3801.42, 3805.59, 1758.58, 5855.07, 7902.0216, 7915.7, 3821.74, 3822.492, 3824.139, 1786.33, 5882.55, 3838.0, 9983.018, 9987.752, 7940.74, 3864.434, 5912.396, 3866.707, 5916.37, 3870.0695, 1831.84, 5928.097, 1846.192, 8010.253, 5963.18, 30539.0, 10063.18, 3921.79, 20311.0, 5979.125, 1887.904, 1889.0, 1899.4611, 5999.32, 14192.0, 14196.0, 3960.584, 10104.33, 20347.0, 1920.971, 3968.141, 3972.068, 6020.8487, 6020.85, 1927.747, 8072.02, 8076.8105, 6031.9565, 8081.514, 1938.249, 3991.512, 6039.88, 4004.0, 6062.339491, 6063.2, 1971.007, 18357.0, 24501.0, 1978.8, 4030.818, 1984.99, 8131.18, 4045.104, 4046.394, 1999.51, 1999.65, 22480.0, 4056.0, 6105.916, 6108.419, 2013.0, 6109.93, 2018.79, 2022.57, 2028.78, 2029.2, 4076.98, 4079.525, 6130.019928099249, 2036.0, 6133.784, 4088.539, 2042.34, 8187.43, 6140.08}\n",
      "{0.0}\n",
      "{0.0, 1.878, 2.20585, 2.85387, 2.97, 3.4172, 5.85771, 7.955, 8.29591247299784, 518.844, 10.46898, 1030.99, 12.214, 525.099, 14.107692307692307, 1527.0, 1557.9901, 23.37455, 535.411, 1562.0, 1056.423, 1024.797, 546.823, 549.8693, 1575.0, 553.615, 1068.0, 4654.18, 559.01, 560.352, 3119.863, 562.509, 566.89, 569.674, 60.718, 573.441, 1607.0, 1611.987, 588.748, 2636.864, 594.39, 605.5337, 94.855, 95.0355786, 1119.27, 100.65, 612.577, 614.442988, 617.789264, 620.207, 2156.08, 626.6846195736201, 1142.965769, 631.777928, 3193.677, 125.88, 638.9885, 1149.0, 1150.497, 129.215, 1153.89723, 131.0, 644.4, 645.293, 1156.305799, 2178.0, 136.0644, 1673.0, 3203.3, 145.405, 145.56, 145.814, 1174.0, 663.7745, 152.252966, 1686.62, 666.42, 666.941, 1180.791, 669.578138, 1687.22168, 1694.0, 160.5282, 160.8728, 673.162, 1695.81264, 2211.188, 680.475, 170.734, 171.97, 174.7967, 1198.136, 1713.14992, 178.10669, 693.296, 182.13, 693.874313, 696.22, 185.639, 2230.0, 187.1936693391032, 699.4, 1730.0, 195.884661, 206.547, 208.9768, 210.2305, 212.3774439145722, 212.9191786, 1237.589, 216.621274, 1241.6, 222.8173, 1759.182, 231.32471, 231.626436, 234.0, 751.743, 241.2454096, 242.181, 2290.811, 2801.53, 3315.0, 246.82, 6396.12, 0.821705, 257.83511, 1281.0, 1799.976, 3337.293, 266.158, 267.9, 273.01, 792.0, 282.7, 283.74811, 2844.5074, 3870.43, 1312.4, 290.59, 1314.0, 2340.0, 811.0, 1836.1148, 301.17, 304.8328, 306.396, 308.967, 309.549, 2356.816, 823.297501, 829.1142, 3393.009, 834.058, 834.349, 4418.715, 1350.0, 843.747, 333.18, 335.927, 336.68, 855.342825, 1367.92423, 2391.796, 1372.0, 357.0, 870.2, 362.206, 363.398, 875.54, 2924.0, 1391.01485, 370.625, 1908.437, 373.2247, 374.892, 886.004428, 1399.63, 4472.098, 1919.942, 384.538, 1409.186, 386.916, 904.388, 906.996, 909.0, 1425.714127, 406.76, 3993.958, 923.0, 2462.0, 416.23, 932.13, 933.0686, 933.37, 424.73, 941.0, 430.0, 0.045355, 434.18, 1459.399526, 1973.374, 1465.0, 3516.449, 445.882, 958.884, 960.735, 449.67, 452.527, 454.954, 460.268, 462.2826, 466.2978, 466.77, 469.44, 2519.0, 3031.0, 1497.798, 477.6571, 480.967, 487.339, 999.65, 2024.61, 1004.908, 494.983, 1009.043, 1014.8, 1015.02, 1531.1131, 509.0}\n",
      "{0.0, 0.25, 4.129250000000001, 4.7561, 5.651599999999999, 6.566999999999999, 6.9948500000000005, 7.31325, 8.3779, 8.9351, 12.6763, 12.736, 12.80565, 12.935, 15.61155, 16.8752, 17.382649999999998, 18.67615, 18.71595, 19.73085, 20.48705, 22.4074, 23.83025, 24.9148, 25.50185, 26.9247, 26.97445, 29.97935, 30.2679, 31.33255, 31.7803, 33.56135, 34.0091, 34.65585, 35.3225, 35.51155, 36.0787, 36.72545, 36.7553, 37.4319, 38.805, 39.680600000000005, 39.8796, 41.0935, 41.85965, 41.91935, 42.33725, 42.49645, 43.8994, 43.9392, 44.9541, 45.491400000000006, 46.8844, 48.12815, 48.496300000000005, 50.337050000000005, 50.3669, 51.1231, 53.2126, 55.322, 55.80955, 57.12693, 59.43135, 61.2124, 61.42135, 61.52085, 61.9487, 62.01835, 62.97355, 63.47105, 64.36655, 64.96355000000001, 65.07300000000001, 66.2073, 67.5605, 68.45599999999999, 69.545525, 70.33655, 72.70464999999999, 73.50065000000001, 74.6847, 74.91355, 75.17224999999999, 77.97815, 78.61495000000001, 78.8836, 79.02289999999999, 80.13730000000001, 81.63179, 82.11735, 84.86355, 85.03269999999999, 85.65955000000001, 86.565, 87.4207, 89.6296, 90.05745, 90.346, 91.6992, 92.0375, 93.34095, 94.73395, 96.66425, 96.6742, 97.22145, 98.33585, 99.94775, 101.0721, 101.87805, 102.91285, 103.1218, 105.1118, 105.6292, 106.664, 107.0023, 108.8729, 109.18135, 112.5345, 113.2907, 113.83795, 114.21605, 114.7036, 115.0817, 116.0966, 117.63885, 118.3453, 119.58905, 120.3353, 121.41985, 122.0069, 123.35015, 124.8526, 127.0615, 128.6137, 128.82264999999998, 129.0316, 130.3649, 131.0216, 132.30515, 133.5688, 134.31505, 135.84735, 136.1757, 137.01149999999998, 138.2851, 142.53772999999998, 144.00635, 146.47395, 147.0809, 148.66295, 150.2649, 150.61315, 152.06585, 153.3892, 154.0061, 155.3792, 156.94134999999997, 158.03585, 159.0806, 160.18505000000002, 162.3243, 154.12550000000002, 164.32425, 165.21975, 165.51825, 166.01575, 168.58285, 169.09029999999998, 169.47835, 169.7669, 172.50315, 173.4285, 174.17475000000002, 175.4583, 175.53789999999998, 177.17965, 177.62740000000002, 178.51295, 180.0353, 181.687, 175.86625, 183.0, 175.92595, 185.21925, 186.01525, 187.44805, 188.1147, 183.2989, 183.56755, 191.58725, 0.0995, 184.4531, 185.77645, 195.9354, 196.1145, 196.14435, 196.3135, 198.8209, 191.94545, 201.0099, 202.13425, 202.2437, 202.8009, 203.5969, 203.66655, 204.8705, 208.6117, 208.95995, 210.47235, 210.6017, 211.537, 213.81555, 214.47225, 214.4822, 215.3777, 216.313, 217.59655, 210.93005, 215.62645, 217.97465, 219.3776, 220.06415, 220.82035, 222.25315, 223.52675, 225.9645, 226.96945, 227.50675, 227.855, 229.0689, 229.9843, 232.16335, 232.42205, 234.65085, 236.16325, 237.05875, 238.004, 2286.26125, 2287.9627, 244.48145, 246.4217, 247.1779, 249.3868, 250.25245, 250.3221, 50.9838, 251.94395, 252.50115, 252.9489, 253.8842, 254.9787, 254.98865, 256.8891, 257.05825000000004, 257.6453, 257.8443, 259.46615, 259.7945, 259.92385, 259.94375, 260.2721, 261.3467, 262.47105, 264.0531, 265.37645, 265.75455, 266.05305, 266.6003, 267.58535, 268.48085, 269.43605, 270.78925, 271.635, 272.73945, 273.01805, 275.21700000000004, 277.1871, 278.25175, 279.1572, 279.48555, 57.52095, 280.89845, 285.66450000000003, 286.41075, 286.80875, 287.94305, 288.46045000000004, 289.5251, 289.9629, 293.53495, 294.68915000000004, 296.2712, 297.5846, 298.4602, 299.1766, 300.3507, 301.67405, 301.8034, 302.01235, 302.23125, 303.00735, 305.664, 305.69385, 305.7038, 306.01225, 306.46, 307.3754, 307.8729, 309.047, 313.59415, 314.3205, 314.79810000000003, 316.04185, 316.76820000000004, 318.64875, 319.4547, 320.81785, 321.31535, 321.68350000000004, 323.3153, 325.60380000000004, 65.7098, 326.0416, 326.3003, 326.45950000000005, 331.62355, 337.31495, 338.70795000000004, 339.72285, 340.33975000000004, 341.5835, 343.54365, 344.18045000000006, 344.35955, 345.15555, 345.4043, 347.60325, 348.7475, 349.245, 349.6231, 352.7275, 353.97125, 354.11055, 358.3393, 360.19, 361.09545, 362.1004, 363.94115, 365.0754500000001, 365.19485, 368.24950000000007, 6179.23855, 370.5778, 370.7967, 373.0454, 374.0603, 374.72695, 376.3687000000001, 376.61745, 379.4134, 381.13475, 381.95065, 381.95861, 382.2591, 382.4382, 383.8312, 384.1496, 384.93565, 388.17935, 389.69175, 392.0897, 392.21905, 393.6817, 394.60705, 397.3433, 79.62985, 400.41785, 401.7412, 402.02975, 80.66465, 80.7542, 403.1143, 403.56205, 403.60185, 81.7492, 403.97995, 404.95505, 406.8356, 406.9351, 82.13725, 407.04455, 409.0246, 410.56685, 412.33795, 414.4573, 416.5269, 419.32285, 419.82035, 420.0293, 420.77555, 425.15355, 427.9694, 85.6894, 428.13855, 428.1684, 428.29775, 428.4271, 428.7057, 433.7603, 435.7105, 2481.729, 439.3721, 440.4069, 441.38200000000006, 442.12825, 442.56605, 443.24265, 444.47645, 446.5361, 2494.17645, 0.0199, 450.0982, 451.0534, 4547.08035, 90.6445, 2504.4846500000003, 457.4413, 91.80865, 457.8393, 459.06315, 460.63525, 462.9536, 2508.1562000000004, 465.3615, 467.3316, 93.44045, 93.928, 468.25695, 470.5156, 475.08265, 478.58505, 479.8089, 480.59495, 480.73425, 481.5203, 482.5551, 2529.1905, 97.44035, 489.05245, 490.92305, 491.61955, 492.27625, 492.67425, 495.9677, 2539.041, 499.0124, 499.95765, 499.9875, 500.01735, 501.4601, 501.9974, 502.2561, 503.1715, 503.85805, 504.81325, 505.2013, 505.2809, 505.6789, 505.9774, 1.6716, 507.89775, 508.1664, 512.2857, 513.9175, 515.5095, 517.1910499999999, 519.85765, 2139.33955, 524.9222, 2573.81625, 529.90715, 533.7976, 106.9426, 533.9567999999999, 4629.9937, 542.36455, 542.64315, 108.98235, 544.67295, 550.7922, 551.10065, 554.1155, 556.4438, 560.0457, 2610.5815, 564.4038, 2617.59625, 570.02555, 571.35885, 571.6076, 572.07525, 574.26425, 575.9458000000001, 2150.0955000000004, 2630.11335, 116.92245, 594.0746999999999, 594.08465, 595.7463, 596.4627, 597.86565, 598.00495, 599.51735, 2651.1775, 120.44475, 606.64155, 4702.6884, 608.6016999999999, 121.85765, 121.589, 608.6116499999999, 609.2982, 122.0666, 122.09645, 614.1339, 614.4125, 616.0840999999999, 616.2433, 618.9099, 626.3127000000001, 634.8498, 2682.94785, 636.6408, 637.1383000000001, 637.40695, 638.52135, 639.785, 644.5709499999999, 2695.22615, 2696.6092, 653.56575, 654.91895, 2165.54785, 657.2174, 657.4761, 6803.3125, 131.29025, 131.5191, 662.87895, 2708.7382500000003, 132.84245, 132.90215, 665.1972999999999, 665.9833500000001, 670.50065, 674.3910999999999, 675.7244, 2725.0861, 679.0676, 679.5949499999999, 680.4606, 136.8722, 687.17685, 137.30005, 137.3498, 692.8782, 2173.6372, 696.7388, 696.80845, 139.897, 701.02725, 703.33565, 706.97735, 141.1507, 141.2303, 710.43, 711.6040999999999, 713.3851500000001, 2759.5927, 716.7283500000001, 721.3352, 144.18545, 144.4143, 144.4342, 144.4541, 730.8076, 731.3349499999999, 736.76765, 737.04625, 737.3646500000001, 738.7477, 147.56845, 147.68785, 739.77255, 741.8620500000001, 2785.8010000000004, 2789.0845, 4219.22785, 748.62805, 749.9016499999999, 150.7226, 2804.6861000000004, 758.6278, 758.79695, 763.2346500000001, 152.1952, 152.75240000000002, 152.9912, 765.50325, 777.891, 779.6521500000001, 155.72744999999998, 780.68695, 780.7964000000001, 789.8409499999999, 157.55825, 157.71745, 792.68665, 56.60555, 158.25475, 158.72240000000002, 158.73235, 158.9015, 57.91895, 159.28955, 794.7960499999999, 796.48755, 802.19885, 807.6016999999999, 808.8355, 809.7111, 811.53195, 824.9544999999999, 827.7405, 829.6111, 832.8846500000001, 833.5513000000001, 845.5609499999999, 170.0853, 170.8614, 858.73475, 867.55045, 867.7395, 871.9583, 7015.3868, 877.3512, 2925.21045, 882.6645, 887.8385, 2213.26805, 896.86315, 179.2393, 179.26914999999997, 179.49800000000002, 906.0271, 912.50455, 2961.9359, 184.9108, 933.1707, 186.35355, 186.463, 2985.1393, 945.051, 946.87185, 950.23495, 189.4281, 951.34935, 190.5226, 3008.4322500000003, 191.9753, 963.6177, 964.6127, 976.0353, 3036.541, 996.3731, 1009.29815, 7154.57735, 5108.3499, 3061.2369, 1014.3826, 1015.6761, 3065.5353000000005, 203.975, 3070.8088, 2.03975, 204.2536, 204.4327, 204.0347, 1027.46685, 7171.69135, 205.55705, 205.01975, 3085.495, 1038.4018999999998, 1045.69525, 5142.428650000001, 1059.2372, 1062.70975, 1075.9532, 1078.09245, 1082.82865, 3130.5884, 1084.1818500000002, 3135.3047, 3142.8866, 5195.68105, 1101.43515, 1103.9326, 1104.22115, 3168.7566, 1123.28535, 5229.1827, 7277.22105, 5241.809249999999, 1146.96635, 1147.3942000000002, 3209.0342, 1163.6127, 1165.3141500000002, 1166.9658499999998, 3218.49665, 2268.6199, 1182.2391, 3230.85455, 1189.57225, 3239.1429000000003, 1201.4028, 1204.11915, 1204.5967500000002, 1209.23345, 1214.22835, 1218.42725, 1218.60635, 3266.55515, 1226.9743, 1232.8249, 1240.49635, 1241.80975, 1242.76495, 3289.32075, 1246.3171, 3297.0519, 3304.18605, 1261.7197, 1262.1376, 1264.4062, 1273.84875, 1274.34625, 3322.4443, 0.9751, 1280.67445, 1297.9775, 1299.5495999999998, 55.8394, 1308.27575, 1308.5842, 1310.9821499999998, 1313.86765, 2297.057, 1320.7232, 1329.9667500000005, 1332.53385, 1336.03625, 1338.0959, 1338.76255, 3405.9745500000004, 1363.08035, 1365.5778, 68.62515, 1373.1597, 1375.6273, 1389.1195, 1401.80575, 4350.42855, 1409.6563, 1420.5615, 3474.1221, 1436.71035, 82.655645, 2321.20565, 1456.88895, 1458.5506, 87.70925000000001, 1464.5803, 1469.80405, 5565.50265, 90.79375, 2329.16565, 1479.6744499999998, 1491.21645, 2332.1407, 2332.3596, 94.87325, 97.73885, 1514.0318000000002, 1514.24075, 1516.3601, 2337.9117, 1520.60875, 3573.4032, 1529.5936, 1542.91665, 1568.0105500000002, 2349.6726, 1592.92535, 115.4001, 115.98715, 1603.0047, 116.1563, 119.84775, 1625.0539, 1627.03395, 1632.36715, 2360.538, 123.3601, 123.778, 1647.5409, 124.92225, 1650.4662, 1663.0629, 4407.18335, 1707.0120499999998, 1726.0862, 1736.84215, 1750.1851, 1751.6378, 1758.19485, 3809.10875, 5863.1569, 1792.58205, 1794.4029, 1806.8603, 1812.84025, 56.14785, 1853.486, 1938.7376, 1947.48365, 1950.6179, 1964.33895, 1973.49295, 4040.12785, 2004.925, 4058.2866, 2031.83975}\n",
      "{0.0}\n",
      "{0.0, 0.74653, 0.4257687955728225, 770.18, 5.1171, 133.4064, 8.1158, 11.308044, 12.8899, 15.0, 20.9, 27.9729, 36.34044, 37.56064325, 804.286, 39.954, 299.15290324, 186.77924, 573.274, 194.11479, 453.68, 346.69, 223.650436183, 243.634}\n",
      "{0.0, 8965.595, 3080.0, 2704.38, 8211.0, 6684.6, 6173.62, 9887.2, 6945.0, 3875.32315, 7720.62, 6825.73, 5931.49, 5937.97, 2356.63, 2999.023, 7612.0, 3268.57, 3155.0, 6996.0, 7894.4, 3036.89, 5724.02, 2403.0, 1892.0, 2916.67, 5866.94, 2027.0, 2539.0, 9453.0, 2927.0, 9335.0, 1784.0}\n"
     ]
    }
   ],
   "source": [
    "print(solar)\n",
    "print(coal)\n",
    "print(wind)\n",
    "print(gas)\n",
    "print(hyd)\n",
    "print(biom)\n",
    "print(oil)\n",
    "print(nucle)"
   ]
  },
  {
   "cell_type": "code",
   "execution_count": 171,
   "id": "ac54a5c1",
   "metadata": {},
   "outputs": [],
   "source": [
    "solar=min(solar)\n",
    "coal=sorted(coal)[1]\n",
    "wind=min(wind)\n",
    "gas=sorted(gas)[1]\n",
    "hyd=sorted(hyd)[1]\n",
    "biom=min(biom)\n",
    "oil=sorted(oil)[1]\n",
    "nucle=sorted(nucle)[1]\n",
    "for i in g:\n",
    "    for j in df.index:\n",
    "        if df['primary_fuel'][j]=='Solar' and df[i][j]==0:\n",
    "            df[i][j]=solar\n",
    "        elif df['primary_fuel'][j]=='Coal' and df[i][j]==0:\n",
    "            df[i][j]=coal\n",
    "        elif df['primary_fuel'][j]=='Wind' and df[i][j]==0:\n",
    "            df[i][j]=wind\n",
    "        elif df['primary_fuel'][j]=='Gas' and df[i][j]==0:\n",
    "            df[i][j]=gas\n",
    "        elif df['primary_fuel'][j]=='Hydro' and df[i][j]==0:\n",
    "            df[i][j]=hyd\n",
    "        elif df['primary_fuel'][j]=='Biomass' and df[i][j]==0:\n",
    "            df[i][j]=biom\n",
    "        elif df['primary_fuel'][j]=='Oil' and df[i][j]==0:\n",
    "            df[i][j]=oil\n",
    "        elif df['primary_fuel'][j]=='Nuclear' and df[i][j]==0:\n",
    "            df[i][j]=nucle"
   ]
  },
  {
   "cell_type": "markdown",
   "id": "c46b6ebc",
   "metadata": {},
   "source": [
    "### Here, we are assigning values with 0 that are present in generation_gwh columns to corrosponding minimum values. "
   ]
  },
  {
   "cell_type": "code",
   "execution_count": 172,
   "id": "6e68cf99",
   "metadata": {},
   "outputs": [
    {
     "data": {
      "text/html": [
       "<div>\n",
       "<style scoped>\n",
       "    .dataframe tbody tr th:only-of-type {\n",
       "        vertical-align: middle;\n",
       "    }\n",
       "\n",
       "    .dataframe tbody tr th {\n",
       "        vertical-align: top;\n",
       "    }\n",
       "\n",
       "    .dataframe thead th {\n",
       "        text-align: right;\n",
       "    }\n",
       "</style>\n",
       "<table border=\"1\" class=\"dataframe\">\n",
       "  <thead>\n",
       "    <tr style=\"text-align: right;\">\n",
       "      <th></th>\n",
       "      <th>capacity_mw</th>\n",
       "      <th>primary_fuel</th>\n",
       "      <th>commissioning_year</th>\n",
       "      <th>generation_gwh_2013</th>\n",
       "      <th>generation_gwh_2014</th>\n",
       "      <th>generation_gwh_2015</th>\n",
       "      <th>generation_gwh_2016</th>\n",
       "      <th>generation_gwh_2017</th>\n",
       "    </tr>\n",
       "  </thead>\n",
       "  <tbody>\n",
       "    <tr>\n",
       "      <th>0</th>\n",
       "      <td>2.5</td>\n",
       "      <td>Solar</td>\n",
       "      <td>2011.0</td>\n",
       "      <td>0.000000</td>\n",
       "      <td>0.000000</td>\n",
       "      <td>0.0000</td>\n",
       "      <td>0.000000</td>\n",
       "      <td>0.000000</td>\n",
       "    </tr>\n",
       "    <tr>\n",
       "      <th>1</th>\n",
       "      <td>98.0</td>\n",
       "      <td>Coal</td>\n",
       "      <td>NaN</td>\n",
       "      <td>0.118300</td>\n",
       "      <td>0.118300</td>\n",
       "      <td>0.1183</td>\n",
       "      <td>0.118300</td>\n",
       "      <td>0.118300</td>\n",
       "    </tr>\n",
       "    <tr>\n",
       "      <th>2</th>\n",
       "      <td>39.2</td>\n",
       "      <td>Wind</td>\n",
       "      <td>NaN</td>\n",
       "      <td>0.000000</td>\n",
       "      <td>0.000000</td>\n",
       "      <td>0.0000</td>\n",
       "      <td>0.000000</td>\n",
       "      <td>0.000000</td>\n",
       "    </tr>\n",
       "    <tr>\n",
       "      <th>3</th>\n",
       "      <td>135.0</td>\n",
       "      <td>Gas</td>\n",
       "      <td>2004.0</td>\n",
       "      <td>631.777928</td>\n",
       "      <td>617.789264</td>\n",
       "      <td>843.7470</td>\n",
       "      <td>886.004428</td>\n",
       "      <td>663.774500</td>\n",
       "    </tr>\n",
       "    <tr>\n",
       "      <th>4</th>\n",
       "      <td>1800.0</td>\n",
       "      <td>Coal</td>\n",
       "      <td>2015.0</td>\n",
       "      <td>1668.290000</td>\n",
       "      <td>3035.550000</td>\n",
       "      <td>5916.3700</td>\n",
       "      <td>6243.000000</td>\n",
       "      <td>5385.579736</td>\n",
       "    </tr>\n",
       "  </tbody>\n",
       "</table>\n",
       "</div>"
      ],
      "text/plain": [
       "   capacity_mw primary_fuel  commissioning_year  generation_gwh_2013  \\\n",
       "0          2.5        Solar              2011.0             0.000000   \n",
       "1         98.0         Coal                 NaN             0.118300   \n",
       "2         39.2         Wind                 NaN             0.000000   \n",
       "3        135.0          Gas              2004.0           631.777928   \n",
       "4       1800.0         Coal              2015.0          1668.290000   \n",
       "\n",
       "   generation_gwh_2014  generation_gwh_2015  generation_gwh_2016  \\\n",
       "0             0.000000               0.0000             0.000000   \n",
       "1             0.118300               0.1183             0.118300   \n",
       "2             0.000000               0.0000             0.000000   \n",
       "3           617.789264             843.7470           886.004428   \n",
       "4          3035.550000            5916.3700          6243.000000   \n",
       "\n",
       "   generation_gwh_2017  \n",
       "0             0.000000  \n",
       "1             0.118300  \n",
       "2             0.000000  \n",
       "3           663.774500  \n",
       "4          5385.579736  "
      ]
     },
     "execution_count": 172,
     "metadata": {},
     "output_type": "execute_result"
    }
   ],
   "source": [
    "df.head()"
   ]
  },
  {
   "cell_type": "markdown",
   "id": "f1cdcf63",
   "metadata": {},
   "source": [
    "## Encoding"
   ]
  },
  {
   "cell_type": "code",
   "execution_count": 173,
   "id": "30e96d3a",
   "metadata": {},
   "outputs": [],
   "source": [
    "cate=['primary_fuel','commissioning_year']\n",
    "from sklearn.preprocessing import LabelEncoder\n",
    "lab=LabelEncoder()\n",
    "for i in cate:\n",
    "    df[i]=lab.fit_transform(df[i].values.reshape(-1,1))"
   ]
  },
  {
   "cell_type": "code",
   "execution_count": 174,
   "id": "3bcd24ab",
   "metadata": {},
   "outputs": [
    {
     "data": {
      "text/html": [
       "<div>\n",
       "<style scoped>\n",
       "    .dataframe tbody tr th:only-of-type {\n",
       "        vertical-align: middle;\n",
       "    }\n",
       "\n",
       "    .dataframe tbody tr th {\n",
       "        vertical-align: top;\n",
       "    }\n",
       "\n",
       "    .dataframe thead th {\n",
       "        text-align: right;\n",
       "    }\n",
       "</style>\n",
       "<table border=\"1\" class=\"dataframe\">\n",
       "  <thead>\n",
       "    <tr style=\"text-align: right;\">\n",
       "      <th></th>\n",
       "      <th>capacity_mw</th>\n",
       "      <th>primary_fuel</th>\n",
       "      <th>commissioning_year</th>\n",
       "      <th>generation_gwh_2013</th>\n",
       "      <th>generation_gwh_2014</th>\n",
       "      <th>generation_gwh_2015</th>\n",
       "      <th>generation_gwh_2016</th>\n",
       "      <th>generation_gwh_2017</th>\n",
       "    </tr>\n",
       "  </thead>\n",
       "  <tbody>\n",
       "    <tr>\n",
       "      <th>0</th>\n",
       "      <td>2.5</td>\n",
       "      <td>6</td>\n",
       "      <td>65</td>\n",
       "      <td>0.000000</td>\n",
       "      <td>0.000000</td>\n",
       "      <td>0.0000</td>\n",
       "      <td>0.000000</td>\n",
       "      <td>0.000000</td>\n",
       "    </tr>\n",
       "    <tr>\n",
       "      <th>1</th>\n",
       "      <td>98.0</td>\n",
       "      <td>1</td>\n",
       "      <td>73</td>\n",
       "      <td>0.118300</td>\n",
       "      <td>0.118300</td>\n",
       "      <td>0.1183</td>\n",
       "      <td>0.118300</td>\n",
       "      <td>0.118300</td>\n",
       "    </tr>\n",
       "    <tr>\n",
       "      <th>2</th>\n",
       "      <td>39.2</td>\n",
       "      <td>7</td>\n",
       "      <td>73</td>\n",
       "      <td>0.000000</td>\n",
       "      <td>0.000000</td>\n",
       "      <td>0.0000</td>\n",
       "      <td>0.000000</td>\n",
       "      <td>0.000000</td>\n",
       "    </tr>\n",
       "    <tr>\n",
       "      <th>3</th>\n",
       "      <td>135.0</td>\n",
       "      <td>2</td>\n",
       "      <td>58</td>\n",
       "      <td>631.777928</td>\n",
       "      <td>617.789264</td>\n",
       "      <td>843.7470</td>\n",
       "      <td>886.004428</td>\n",
       "      <td>663.774500</td>\n",
       "    </tr>\n",
       "    <tr>\n",
       "      <th>4</th>\n",
       "      <td>1800.0</td>\n",
       "      <td>1</td>\n",
       "      <td>69</td>\n",
       "      <td>1668.290000</td>\n",
       "      <td>3035.550000</td>\n",
       "      <td>5916.3700</td>\n",
       "      <td>6243.000000</td>\n",
       "      <td>5385.579736</td>\n",
       "    </tr>\n",
       "  </tbody>\n",
       "</table>\n",
       "</div>"
      ],
      "text/plain": [
       "   capacity_mw  primary_fuel  commissioning_year  generation_gwh_2013  \\\n",
       "0          2.5             6                  65             0.000000   \n",
       "1         98.0             1                  73             0.118300   \n",
       "2         39.2             7                  73             0.000000   \n",
       "3        135.0             2                  58           631.777928   \n",
       "4       1800.0             1                  69          1668.290000   \n",
       "\n",
       "   generation_gwh_2014  generation_gwh_2015  generation_gwh_2016  \\\n",
       "0             0.000000               0.0000             0.000000   \n",
       "1             0.118300               0.1183             0.118300   \n",
       "2             0.000000               0.0000             0.000000   \n",
       "3           617.789264             843.7470           886.004428   \n",
       "4          3035.550000            5916.3700          6243.000000   \n",
       "\n",
       "   generation_gwh_2017  \n",
       "0             0.000000  \n",
       "1             0.118300  \n",
       "2             0.000000  \n",
       "3           663.774500  \n",
       "4          5385.579736  "
      ]
     },
     "execution_count": 174,
     "metadata": {},
     "output_type": "execute_result"
    }
   ],
   "source": [
    "df.head()"
   ]
  },
  {
   "cell_type": "markdown",
   "id": "5c3a331b",
   "metadata": {},
   "source": [
    "## Removing Outliers"
   ]
  },
  {
   "cell_type": "code",
   "execution_count": 175,
   "id": "305ac577",
   "metadata": {},
   "outputs": [],
   "source": [
    "for i in t:\n",
    "    Q1=df[i].quantile(0.25)\n",
    "    Q3=df[i].quantile(0.75)\n",
    "    IQR=Q3-Q1\n",
    "    Q1 = df[i].quantile(0.25)\n",
    "    Q3 = df[i].quantile(0.75)\n",
    "    IQR = Q3 - Q1\n",
    "    whisker_width = 1.5\n",
    "    outliers = df[(df[i] < Q1 - whisker_width*IQR) | (df[i] > Q3 + whisker_width*IQR)]\n",
    "    \n",
    "    fare_mean = df[i].mean()\n",
    "    fare_std = df[i].std()\n",
    "    low= fare_mean -(3 * fare_std)\n",
    "    high= fare_mean + (3 * fare_std)\n",
    "    fare_outliers = df[(df[i] < low) | (df[i] > high)]\n",
    "    \n",
    "    Q1 = df[i].quantile(0.25)\n",
    "    Q3 = df[i].quantile(0.75)\n",
    "    IQR = Q3 - Q1\n",
    "    whisker_width = 1.5\n",
    "    lower_whisker = Q1 -(whisker_width*IQR)\n",
    "    upper_whisker = Q3 +(whisker_width*IQR)\n",
    "    df[i]=np.where(df[i]>upper_whisker,upper_whisker,np.where(df[i]<lower_whisker,lower_whisker,df[i]))"
   ]
  },
  {
   "cell_type": "markdown",
   "id": "5578a7df",
   "metadata": {},
   "source": [
    "### Instead of eliminating the outliers, we have replaced the outliers higher than the upper whisker by the value of upper whisker and the outliers lower than the lower whisker by the value of lower whisker."
   ]
  },
  {
   "cell_type": "code",
   "execution_count": 176,
   "id": "78b3f5d7",
   "metadata": {},
   "outputs": [
    {
     "data": {
      "image/png": "[encoded data removed]",
      "text/plain": [
       "<Figure size 288x288 with 1 Axes>"
      ]
     },
     "metadata": {
      "needs_background": "light"
     },
     "output_type": "display_data"
    },
    {
     "data": {
      "image/png": "[encoded data removed]",
      "text/plain": [
       "<Figure size 288x288 with 1 Axes>"
      ]
     },
     "metadata": {
      "needs_background": "light"
     },
     "output_type": "display_data"
    },
    {
     "data": {
      "image/png": "[encoded data removed]",
      "text/plain": [
       "<Figure size 288x288 with 1 Axes>"
      ]
     },
     "metadata": {
      "needs_background": "light"
     },
     "output_type": "display_data"
    },
    {
     "data": {
      "image/png": "[encoded data removed]",
      "text/plain": [
       "<Figure size 288x288 with 1 Axes>"
      ]
     },
     "metadata": {
      "needs_background": "light"
     },
     "output_type": "display_data"
    },
    {
     "data": {
      "image/png": "[encoded data removed]",
      "text/plain": [
       "<Figure size 288x288 with 1 Axes>"
      ]
     },
     "metadata": {
      "needs_background": "light"
     },
     "output_type": "display_data"
    },
    {
     "data": {
      "image/png": "[encoded data removed]",
      "text/plain": [
       "<Figure size 288x288 with 1 Axes>"
      ]
     },
     "metadata": {
      "needs_background": "light"
     },
     "output_type": "display_data"
    }
   ],
   "source": [
    "for i in t:\n",
    "    plt.figure(figsize=(4,4))\n",
    "    sns.boxplot(df[i])"
   ]
  },
  {
   "cell_type": "markdown",
   "id": "d4513042",
   "metadata": {},
   "source": [
    "### Outliers have been succesfully removed from the data."
   ]
  },
  {
   "cell_type": "markdown",
   "id": "efb1e62c",
   "metadata": {},
   "source": [
    "## Skewness Removal"
   ]
  },
  {
   "cell_type": "code",
   "execution_count": 177,
   "id": "682e8215",
   "metadata": {},
   "outputs": [
    {
     "data": {
      "text/plain": [
       "capacity_mw            1.306045\n",
       "primary_fuel           0.471141\n",
       "commissioning_year    -1.412618\n",
       "generation_gwh_2013    1.177475\n",
       "generation_gwh_2014    1.179174\n",
       "generation_gwh_2015    1.197756\n",
       "generation_gwh_2016    1.173742\n",
       "generation_gwh_2017    1.184206\n",
       "dtype: float64"
      ]
     },
     "execution_count": 177,
     "metadata": {},
     "output_type": "execute_result"
    }
   ],
   "source": [
    "df.skew()"
   ]
  },
  {
   "cell_type": "code",
   "execution_count": 178,
   "id": "470f7552",
   "metadata": {},
   "outputs": [],
   "source": [
    "from sklearn.preprocessing import PowerTransformer\n",
    "pt = PowerTransformer(method = 'yeo-johnson')\n",
    "for i in t:\n",
    "    df[i] = pt.fit_transform(np.array(df[i]).reshape(-1,1))[:,0]"
   ]
  },
  {
   "cell_type": "code",
   "execution_count": 179,
   "id": "3688e40b",
   "metadata": {},
   "outputs": [
    {
     "data": {
      "text/plain": [
       "capacity_mw           -0.004587\n",
       "primary_fuel           0.471141\n",
       "commissioning_year    -1.412618\n",
       "generation_gwh_2013    0.448886\n",
       "generation_gwh_2014    0.417215\n",
       "generation_gwh_2015    0.342268\n",
       "generation_gwh_2016    0.297255\n",
       "generation_gwh_2017    0.287658\n",
       "dtype: float64"
      ]
     },
     "execution_count": 179,
     "metadata": {},
     "output_type": "execute_result"
    }
   ],
   "source": [
    "df.skew()"
   ]
  },
  {
   "cell_type": "markdown",
   "id": "7b1c8bf5",
   "metadata": {},
   "source": [
    "## i.) Prediction of Capacity in MW"
   ]
  },
  {
   "cell_type": "code",
   "execution_count": 180,
   "id": "92f3ea60",
   "metadata": {},
   "outputs": [],
   "source": [
    "x=df.drop(['capacity_mw'],axis=1)\n",
    "y=df['capacity_mw']"
   ]
  },
  {
   "cell_type": "markdown",
   "id": "cd5bb360",
   "metadata": {},
   "source": [
    "## Scaling"
   ]
  },
  {
   "cell_type": "code",
   "execution_count": 181,
   "id": "f8e56365",
   "metadata": {},
   "outputs": [
    {
     "data": {
      "text/html": [
       "<div>\n",
       "<style scoped>\n",
       "    .dataframe tbody tr th:only-of-type {\n",
       "        vertical-align: middle;\n",
       "    }\n",
       "\n",
       "    .dataframe tbody tr th {\n",
       "        vertical-align: top;\n",
       "    }\n",
       "\n",
       "    .dataframe thead th {\n",
       "        text-align: right;\n",
       "    }\n",
       "</style>\n",
       "<table border=\"1\" class=\"dataframe\">\n",
       "  <thead>\n",
       "    <tr style=\"text-align: right;\">\n",
       "      <th></th>\n",
       "      <th>primary_fuel</th>\n",
       "      <th>commissioning_year</th>\n",
       "      <th>generation_gwh_2013</th>\n",
       "      <th>generation_gwh_2014</th>\n",
       "      <th>generation_gwh_2015</th>\n",
       "      <th>generation_gwh_2016</th>\n",
       "      <th>generation_gwh_2017</th>\n",
       "    </tr>\n",
       "  </thead>\n",
       "  <tbody>\n",
       "    <tr>\n",
       "      <th>0</th>\n",
       "      <td>1.225418</td>\n",
       "      <td>0.287082</td>\n",
       "      <td>-0.832436</td>\n",
       "      <td>-0.845559</td>\n",
       "      <td>-0.881813</td>\n",
       "      <td>-0.902605</td>\n",
       "      <td>-0.907327</td>\n",
       "    </tr>\n",
       "    <tr>\n",
       "      <th>1</th>\n",
       "      <td>-0.967486</td>\n",
       "      <td>0.764611</td>\n",
       "      <td>-0.766466</td>\n",
       "      <td>-0.783112</td>\n",
       "      <td>-0.824721</td>\n",
       "      <td>-0.849275</td>\n",
       "      <td>-0.855461</td>\n",
       "    </tr>\n",
       "    <tr>\n",
       "      <th>2</th>\n",
       "      <td>1.663998</td>\n",
       "      <td>0.764611</td>\n",
       "      <td>-0.832436</td>\n",
       "      <td>-0.845559</td>\n",
       "      <td>-0.881813</td>\n",
       "      <td>-0.902605</td>\n",
       "      <td>-0.907327</td>\n",
       "    </tr>\n",
       "    <tr>\n",
       "      <th>3</th>\n",
       "      <td>-0.528905</td>\n",
       "      <td>-0.130755</td>\n",
       "      <td>1.255113</td>\n",
       "      <td>1.215393</td>\n",
       "      <td>1.222304</td>\n",
       "      <td>1.193662</td>\n",
       "      <td>1.114079</td>\n",
       "    </tr>\n",
       "    <tr>\n",
       "      <th>4</th>\n",
       "      <td>-0.967486</td>\n",
       "      <td>0.525846</td>\n",
       "      <td>1.349192</td>\n",
       "      <td>1.339121</td>\n",
       "      <td>1.322393</td>\n",
       "      <td>1.307121</td>\n",
       "      <td>1.305122</td>\n",
       "    </tr>\n",
       "  </tbody>\n",
       "</table>\n",
       "</div>"
      ],
      "text/plain": [
       "   primary_fuel  commissioning_year  generation_gwh_2013  generation_gwh_2014  \\\n",
       "0      1.225418            0.287082            -0.832436            -0.845559   \n",
       "1     -0.967486            0.764611            -0.766466            -0.783112   \n",
       "2      1.663998            0.764611            -0.832436            -0.845559   \n",
       "3     -0.528905           -0.130755             1.255113             1.215393   \n",
       "4     -0.967486            0.525846             1.349192             1.339121   \n",
       "\n",
       "   generation_gwh_2015  generation_gwh_2016  generation_gwh_2017  \n",
       "0            -0.881813            -0.902605            -0.907327  \n",
       "1            -0.824721            -0.849275            -0.855461  \n",
       "2            -0.881813            -0.902605            -0.907327  \n",
       "3             1.222304             1.193662             1.114079  \n",
       "4             1.322393             1.307121             1.305122  "
      ]
     },
     "execution_count": 181,
     "metadata": {},
     "output_type": "execute_result"
    }
   ],
   "source": [
    "from sklearn.preprocessing import StandardScaler\n",
    "scaler=StandardScaler()\n",
    "x=pd.DataFrame(scaler.fit_transform(x),columns=x.columns)\n",
    "x.head()"
   ]
  },
  {
   "cell_type": "markdown",
   "id": "e109c369",
   "metadata": {},
   "source": [
    "## VIF"
   ]
  },
  {
   "cell_type": "code",
   "execution_count": 182,
   "id": "f2c64275",
   "metadata": {},
   "outputs": [
    {
     "data": {
      "text/html": [
       "<div>\n",
       "<style scoped>\n",
       "    .dataframe tbody tr th:only-of-type {\n",
       "        vertical-align: middle;\n",
       "    }\n",
       "\n",
       "    .dataframe tbody tr th {\n",
       "        vertical-align: top;\n",
       "    }\n",
       "\n",
       "    .dataframe thead th {\n",
       "        text-align: right;\n",
       "    }\n",
       "</style>\n",
       "<table border=\"1\" class=\"dataframe\">\n",
       "  <thead>\n",
       "    <tr style=\"text-align: right;\">\n",
       "      <th></th>\n",
       "      <th>vif</th>\n",
       "      <th>col</th>\n",
       "    </tr>\n",
       "  </thead>\n",
       "  <tbody>\n",
       "    <tr>\n",
       "      <th>0</th>\n",
       "      <td>1.308632</td>\n",
       "      <td>primary_fuel</td>\n",
       "    </tr>\n",
       "    <tr>\n",
       "      <th>1</th>\n",
       "      <td>1.425619</td>\n",
       "      <td>commissioning_year</td>\n",
       "    </tr>\n",
       "    <tr>\n",
       "      <th>2</th>\n",
       "      <td>13.380169</td>\n",
       "      <td>generation_gwh_2013</td>\n",
       "    </tr>\n",
       "    <tr>\n",
       "      <th>3</th>\n",
       "      <td>19.209574</td>\n",
       "      <td>generation_gwh_2014</td>\n",
       "    </tr>\n",
       "    <tr>\n",
       "      <th>4</th>\n",
       "      <td>15.809053</td>\n",
       "      <td>generation_gwh_2015</td>\n",
       "    </tr>\n",
       "    <tr>\n",
       "      <th>5</th>\n",
       "      <td>23.928839</td>\n",
       "      <td>generation_gwh_2016</td>\n",
       "    </tr>\n",
       "    <tr>\n",
       "      <th>6</th>\n",
       "      <td>13.630388</td>\n",
       "      <td>generation_gwh_2017</td>\n",
       "    </tr>\n",
       "  </tbody>\n",
       "</table>\n",
       "</div>"
      ],
      "text/plain": [
       "         vif                  col\n",
       "0   1.308632         primary_fuel\n",
       "1   1.425619   commissioning_year\n",
       "2  13.380169  generation_gwh_2013\n",
       "3  19.209574  generation_gwh_2014\n",
       "4  15.809053  generation_gwh_2015\n",
       "5  23.928839  generation_gwh_2016\n",
       "6  13.630388  generation_gwh_2017"
      ]
     },
     "execution_count": 182,
     "metadata": {},
     "output_type": "execute_result"
    }
   ],
   "source": [
    "from statsmodels.stats.outliers_influence import variance_inflation_factor\n",
    "vif=pd.DataFrame()\n",
    "vif['vif']=[variance_inflation_factor(x.values,i) for i in range(len(x.columns))]\n",
    "vif['col']=x.columns\n",
    "vif"
   ]
  },
  {
   "cell_type": "markdown",
   "id": "c6607010",
   "metadata": {},
   "source": [
    "### We should drop the column with highest VIF score until all the values are below 5."
   ]
  },
  {
   "cell_type": "code",
   "execution_count": 183,
   "id": "baf800ed",
   "metadata": {},
   "outputs": [],
   "source": [
    "x.drop(['generation_gwh_2016'],axis=1,inplace=True)"
   ]
  },
  {
   "cell_type": "code",
   "execution_count": 184,
   "id": "e9ba5a57",
   "metadata": {},
   "outputs": [
    {
     "data": {
      "text/html": [
       "<div>\n",
       "<style scoped>\n",
       "    .dataframe tbody tr th:only-of-type {\n",
       "        vertical-align: middle;\n",
       "    }\n",
       "\n",
       "    .dataframe tbody tr th {\n",
       "        vertical-align: top;\n",
       "    }\n",
       "\n",
       "    .dataframe thead th {\n",
       "        text-align: right;\n",
       "    }\n",
       "</style>\n",
       "<table border=\"1\" class=\"dataframe\">\n",
       "  <thead>\n",
       "    <tr style=\"text-align: right;\">\n",
       "      <th></th>\n",
       "      <th>vif</th>\n",
       "      <th>col</th>\n",
       "    </tr>\n",
       "  </thead>\n",
       "  <tbody>\n",
       "    <tr>\n",
       "      <th>0</th>\n",
       "      <td>1.305369</td>\n",
       "      <td>primary_fuel</td>\n",
       "    </tr>\n",
       "    <tr>\n",
       "      <th>1</th>\n",
       "      <td>1.417753</td>\n",
       "      <td>commissioning_year</td>\n",
       "    </tr>\n",
       "    <tr>\n",
       "      <th>2</th>\n",
       "      <td>13.186137</td>\n",
       "      <td>generation_gwh_2013</td>\n",
       "    </tr>\n",
       "    <tr>\n",
       "      <th>3</th>\n",
       "      <td>18.993851</td>\n",
       "      <td>generation_gwh_2014</td>\n",
       "    </tr>\n",
       "    <tr>\n",
       "      <th>4</th>\n",
       "      <td>10.871549</td>\n",
       "      <td>generation_gwh_2015</td>\n",
       "    </tr>\n",
       "    <tr>\n",
       "      <th>5</th>\n",
       "      <td>6.197699</td>\n",
       "      <td>generation_gwh_2017</td>\n",
       "    </tr>\n",
       "  </tbody>\n",
       "</table>\n",
       "</div>"
      ],
      "text/plain": [
       "         vif                  col\n",
       "0   1.305369         primary_fuel\n",
       "1   1.417753   commissioning_year\n",
       "2  13.186137  generation_gwh_2013\n",
       "3  18.993851  generation_gwh_2014\n",
       "4  10.871549  generation_gwh_2015\n",
       "5   6.197699  generation_gwh_2017"
      ]
     },
     "execution_count": 184,
     "metadata": {},
     "output_type": "execute_result"
    }
   ],
   "source": [
    "from statsmodels.stats.outliers_influence import variance_inflation_factor\n",
    "vif=pd.DataFrame()\n",
    "vif['vif']=[variance_inflation_factor(x.values,i) for i in range(len(x.columns))]\n",
    "vif['col']=x.columns\n",
    "vif"
   ]
  },
  {
   "cell_type": "code",
   "execution_count": 185,
   "id": "a3389333",
   "metadata": {},
   "outputs": [],
   "source": [
    "x.drop(['generation_gwh_2014'],axis=1,inplace=True)"
   ]
  },
  {
   "cell_type": "code",
   "execution_count": 186,
   "id": "b0dad860",
   "metadata": {},
   "outputs": [
    {
     "data": {
      "text/html": [
       "<div>\n",
       "<style scoped>\n",
       "    .dataframe tbody tr th:only-of-type {\n",
       "        vertical-align: middle;\n",
       "    }\n",
       "\n",
       "    .dataframe tbody tr th {\n",
       "        vertical-align: top;\n",
       "    }\n",
       "\n",
       "    .dataframe thead th {\n",
       "        text-align: right;\n",
       "    }\n",
       "</style>\n",
       "<table border=\"1\" class=\"dataframe\">\n",
       "  <thead>\n",
       "    <tr style=\"text-align: right;\">\n",
       "      <th></th>\n",
       "      <th>vif</th>\n",
       "      <th>col</th>\n",
       "    </tr>\n",
       "  </thead>\n",
       "  <tbody>\n",
       "    <tr>\n",
       "      <th>0</th>\n",
       "      <td>1.304670</td>\n",
       "      <td>primary_fuel</td>\n",
       "    </tr>\n",
       "    <tr>\n",
       "      <th>1</th>\n",
       "      <td>1.417082</td>\n",
       "      <td>commissioning_year</td>\n",
       "    </tr>\n",
       "    <tr>\n",
       "      <th>2</th>\n",
       "      <td>5.411616</td>\n",
       "      <td>generation_gwh_2013</td>\n",
       "    </tr>\n",
       "    <tr>\n",
       "      <th>3</th>\n",
       "      <td>9.202612</td>\n",
       "      <td>generation_gwh_2015</td>\n",
       "    </tr>\n",
       "    <tr>\n",
       "      <th>4</th>\n",
       "      <td>6.113224</td>\n",
       "      <td>generation_gwh_2017</td>\n",
       "    </tr>\n",
       "  </tbody>\n",
       "</table>\n",
       "</div>"
      ],
      "text/plain": [
       "        vif                  col\n",
       "0  1.304670         primary_fuel\n",
       "1  1.417082   commissioning_year\n",
       "2  5.411616  generation_gwh_2013\n",
       "3  9.202612  generation_gwh_2015\n",
       "4  6.113224  generation_gwh_2017"
      ]
     },
     "execution_count": 186,
     "metadata": {},
     "output_type": "execute_result"
    }
   ],
   "source": [
    "from statsmodels.stats.outliers_influence import variance_inflation_factor\n",
    "vif=pd.DataFrame()\n",
    "vif['vif']=[variance_inflation_factor(x.values,i) for i in range(len(x.columns))]\n",
    "vif['col']=x.columns\n",
    "vif"
   ]
  },
  {
   "cell_type": "code",
   "execution_count": 187,
   "id": "e706cc2e",
   "metadata": {},
   "outputs": [],
   "source": [
    "x.drop(['generation_gwh_2015'],axis=1,inplace=True)"
   ]
  },
  {
   "cell_type": "code",
   "execution_count": 188,
   "id": "95e7c0b5",
   "metadata": {},
   "outputs": [
    {
     "data": {
      "text/html": [
       "<div>\n",
       "<style scoped>\n",
       "    .dataframe tbody tr th:only-of-type {\n",
       "        vertical-align: middle;\n",
       "    }\n",
       "\n",
       "    .dataframe tbody tr th {\n",
       "        vertical-align: top;\n",
       "    }\n",
       "\n",
       "    .dataframe thead th {\n",
       "        text-align: right;\n",
       "    }\n",
       "</style>\n",
       "<table border=\"1\" class=\"dataframe\">\n",
       "  <thead>\n",
       "    <tr style=\"text-align: right;\">\n",
       "      <th></th>\n",
       "      <th>vif</th>\n",
       "      <th>col</th>\n",
       "    </tr>\n",
       "  </thead>\n",
       "  <tbody>\n",
       "    <tr>\n",
       "      <th>0</th>\n",
       "      <td>1.299936</td>\n",
       "      <td>primary_fuel</td>\n",
       "    </tr>\n",
       "    <tr>\n",
       "      <th>1</th>\n",
       "      <td>1.416934</td>\n",
       "      <td>commissioning_year</td>\n",
       "    </tr>\n",
       "    <tr>\n",
       "      <th>2</th>\n",
       "      <td>3.656527</td>\n",
       "      <td>generation_gwh_2013</td>\n",
       "    </tr>\n",
       "    <tr>\n",
       "      <th>3</th>\n",
       "      <td>3.452181</td>\n",
       "      <td>generation_gwh_2017</td>\n",
       "    </tr>\n",
       "  </tbody>\n",
       "</table>\n",
       "</div>"
      ],
      "text/plain": [
       "        vif                  col\n",
       "0  1.299936         primary_fuel\n",
       "1  1.416934   commissioning_year\n",
       "2  3.656527  generation_gwh_2013\n",
       "3  3.452181  generation_gwh_2017"
      ]
     },
     "execution_count": 188,
     "metadata": {},
     "output_type": "execute_result"
    }
   ],
   "source": [
    "from statsmodels.stats.outliers_influence import variance_inflation_factor\n",
    "vif=pd.DataFrame()\n",
    "vif['vif']=[variance_inflation_factor(x.values,i) for i in range(len(x.columns))]\n",
    "vif['col']=x.columns\n",
    "vif"
   ]
  },
  {
   "cell_type": "markdown",
   "id": "8ddbc0d1",
   "metadata": {},
   "source": [
    "### Here for all the columns, VIF score is less than 5. Therefore, Multi-Collinearity in data is removed."
   ]
  },
  {
   "cell_type": "markdown",
   "id": "76978e34",
   "metadata": {},
   "source": [
    "## Choosing Random State Value"
   ]
  },
  {
   "cell_type": "code",
   "execution_count": 189,
   "id": "3015d6a7",
   "metadata": {},
   "outputs": [
    {
     "name": "stdout",
     "output_type": "stream",
     "text": [
      "max r2= 0.7607259366878585 ran state= 151\n"
     ]
    }
   ],
   "source": [
    "from sklearn.model_selection import train_test_split\n",
    "from sklearn.linear_model import LinearRegression\n",
    "from sklearn.metrics import r2_score\n",
    "maxr2=0\n",
    "maxran=0\n",
    "for i in range(1,200):\n",
    "    x_train,x_test,y_train,y_test=train_test_split(x,y,test_size=0.2,random_state=i)\n",
    "    lr=LinearRegression()\n",
    "    lr.fit(x_train,y_train)\n",
    "    pred=lr.predict(x_test)\n",
    "    r2=r2_score(y_test,pred)\n",
    "    if r2>maxr2:\n",
    "        maxr2=r2\n",
    "        maxran=i\n",
    "print('max r2=',maxr2,'ran state=',maxran)"
   ]
  },
  {
   "cell_type": "code",
   "execution_count": 190,
   "id": "79e651fa",
   "metadata": {},
   "outputs": [],
   "source": [
    "x_train,x_test,y_train,y_test=train_test_split(x,y,test_size=0.2,random_state=maxran)"
   ]
  },
  {
   "cell_type": "markdown",
   "id": "a30617dd",
   "metadata": {},
   "source": [
    "## Model Selection with Hyper Parameter Tuning"
   ]
  },
  {
   "cell_type": "code",
   "execution_count": 191,
   "id": "584c7e16",
   "metadata": {},
   "outputs": [],
   "source": [
    "from sklearn.model_selection import GridSearchCV"
   ]
  },
  {
   "cell_type": "markdown",
   "id": "488fe211",
   "metadata": {},
   "source": [
    "### Lasso Regression"
   ]
  },
  {
   "cell_type": "code",
   "execution_count": 192,
   "id": "07f40398",
   "metadata": {},
   "outputs": [
    {
     "name": "stdout",
     "output_type": "stream",
     "text": [
      "{'alpha': 0.001, 'fit_intercept': False, 'random_state': 6, 'selection': 'random'}\n"
     ]
    }
   ],
   "source": [
    "from sklearn.linear_model import Lasso\n",
    "\n",
    "parameters={'alpha':[.0001, .001, .01, .1, 1, 10],'random_state':list(range(0,10)),'fit_intercept':[True,False],'selection':['cyclic', 'random']}\n",
    "ls = Lasso()\n",
    "clf = GridSearchCV(ls,parameters)\n",
    "clf.fit(x_train,y_train)\n",
    "\n",
    "print(clf.best_params_)"
   ]
  },
  {
   "cell_type": "code",
   "execution_count": 193,
   "id": "e4803c8c",
   "metadata": {},
   "outputs": [
    {
     "data": {
      "text/plain": [
       "76.28905598208449"
      ]
     },
     "execution_count": 193,
     "metadata": {},
     "output_type": "execute_result"
    }
   ],
   "source": [
    "ls = Lasso(alpha=0.001,fit_intercept=False,random_state=6,selection='random')\n",
    "ls.fit(x_train,y_train)\n",
    "pred=ls.predict(x_test)\n",
    "r2=r2_score(y_test,pred)\n",
    "a1=r2*100\n",
    "a1"
   ]
  },
  {
   "cell_type": "code",
   "execution_count": 194,
   "id": "81795177",
   "metadata": {},
   "outputs": [
    {
     "name": "stdout",
     "output_type": "stream",
     "text": [
      "RMSE: 0.4967341320295471\n"
     ]
    }
   ],
   "source": [
    "from sklearn.metrics import mean_squared_error\n",
    "print('RMSE:', np.sqrt(mean_squared_error(y_test, pred)))"
   ]
  },
  {
   "cell_type": "markdown",
   "id": "0e6f826d",
   "metadata": {},
   "source": [
    "### Ridge"
   ]
  },
  {
   "cell_type": "code",
   "execution_count": 195,
   "id": "397393c8",
   "metadata": {},
   "outputs": [
    {
     "name": "stdout",
     "output_type": "stream",
     "text": [
      "{'alpha': 1, 'copy_X': True, 'max_iter': 1, 'normalize': False}\n"
     ]
    }
   ],
   "source": [
    "from sklearn.linear_model import Ridge\n",
    "\n",
    "parameters = {'alpha':[.0001, .001, .01, .1, 1],'max_iter':list(range(1,11)),'normalize':[True,False],'copy_X':[True,False]}\n",
    "rd = Ridge()\n",
    "clf = GridSearchCV(rd,parameters)\n",
    "clf.fit(x_train,y_train)\n",
    "\n",
    "print(clf.best_params_)"
   ]
  },
  {
   "cell_type": "code",
   "execution_count": 196,
   "id": "b9e52978",
   "metadata": {},
   "outputs": [
    {
     "data": {
      "text/plain": [
       "76.05906144557078"
      ]
     },
     "execution_count": 196,
     "metadata": {},
     "output_type": "execute_result"
    }
   ],
   "source": [
    "rd = Ridge(alpha=1,copy_X=True,max_iter=1,normalize=False)\n",
    "rd.fit(x_train,y_train)\n",
    "pred=rd.predict(x_test)\n",
    "r2=r2_score(y_test,pred)\n",
    "a2=r2*100\n",
    "a2"
   ]
  },
  {
   "cell_type": "code",
   "execution_count": 197,
   "id": "62e0c431",
   "metadata": {},
   "outputs": [
    {
     "name": "stdout",
     "output_type": "stream",
     "text": [
      "RMSE: 0.49913746162745504\n"
     ]
    }
   ],
   "source": [
    "print('RMSE:', np.sqrt(mean_squared_error(y_test, pred)))"
   ]
  },
  {
   "cell_type": "markdown",
   "id": "53cc593c",
   "metadata": {},
   "source": [
    "### Linear Regression"
   ]
  },
  {
   "cell_type": "code",
   "execution_count": 198,
   "id": "282fa704",
   "metadata": {},
   "outputs": [
    {
     "name": "stdout",
     "output_type": "stream",
     "text": [
      "{'copy_X': True, 'fit_intercept': False, 'n_jobs': 1, 'normalize': True}\n"
     ]
    }
   ],
   "source": [
    "parameters = {'fit_intercept':[True,False], 'copy_X':[True,False],'normalize':[True,False],'n_jobs':list(range(1,11))}\n",
    "lr=LinearRegression()\n",
    "clf = GridSearchCV(lr,parameters)\n",
    "clf.fit(x_train,y_train)\n",
    "\n",
    "print(clf.best_params_)"
   ]
  },
  {
   "cell_type": "code",
   "execution_count": 199,
   "id": "e73fc97c",
   "metadata": {},
   "outputs": [
    {
     "data": {
      "text/plain": [
       "76.31546209570762"
      ]
     },
     "execution_count": 199,
     "metadata": {},
     "output_type": "execute_result"
    }
   ],
   "source": [
    "lr=LinearRegression(copy_X=True,fit_intercept=False,n_jobs=1,normalize=True)\n",
    "lr.fit(x_train,y_train)\n",
    "pred=lr.predict(x_test)\n",
    "r2=r2_score(y_test,pred)\n",
    "a3=r2*100\n",
    "a3"
   ]
  },
  {
   "cell_type": "code",
   "execution_count": 200,
   "id": "af1c17c2",
   "metadata": {},
   "outputs": [
    {
     "name": "stdout",
     "output_type": "stream",
     "text": [
      "RMSE: 0.4964574565859174\n"
     ]
    }
   ],
   "source": [
    "print('RMSE:', np.sqrt(mean_squared_error(y_test, pred)))"
   ]
  },
  {
   "cell_type": "markdown",
   "id": "6627b326",
   "metadata": {},
   "source": [
    "### Decision Tree Regression"
   ]
  },
  {
   "cell_type": "code",
   "execution_count": 209,
   "id": "e24a74b7",
   "metadata": {},
   "outputs": [
    {
     "name": "stdout",
     "output_type": "stream",
     "text": [
      "{'criterion': 'friedman_mse', 'max_depth': 6, 'max_features': 'auto', 'splitter': 'best'}\n"
     ]
    }
   ],
   "source": [
    "from sklearn.tree import DecisionTreeRegressor\n",
    "parameters={'criterion':['squared_error', 'friedman_mse', 'absolute_error', 'poisson'],'splitter':['best', 'random'],'max_depth':list(range(1,11)),'max_features':['auto', 'sqrt', 'log2']}\n",
    "dtr=DecisionTreeRegressor()\n",
    "clf = GridSearchCV(dtr,parameters)\n",
    "clf.fit(x_train,y_train)\n",
    "\n",
    "print(clf.best_params_)"
   ]
  },
  {
   "cell_type": "code",
   "execution_count": 210,
   "id": "aa403731",
   "metadata": {},
   "outputs": [
    {
     "data": {
      "text/plain": [
       "84.56929174465196"
      ]
     },
     "execution_count": 210,
     "metadata": {},
     "output_type": "execute_result"
    }
   ],
   "source": [
    "dtr = DecisionTreeRegressor(criterion='friedman_mse',max_depth=6,max_features='auto',splitter='best')\n",
    "dtr.fit(x_train,y_train)\n",
    "pred=dtr.predict(x_test)\n",
    "r2=r2_score(y_test,pred)\n",
    "a4=r2*100\n",
    "a4"
   ]
  },
  {
   "cell_type": "code",
   "execution_count": 211,
   "id": "17792df7",
   "metadata": {},
   "outputs": [
    {
     "name": "stdout",
     "output_type": "stream",
     "text": [
      "RMSE: 0.40072137620359116\n"
     ]
    }
   ],
   "source": [
    "print('RMSE:', np.sqrt(mean_squared_error(y_test, pred)))"
   ]
  },
  {
   "cell_type": "markdown",
   "id": "bd4f1137",
   "metadata": {},
   "source": [
    "## Cross Validation"
   ]
  },
  {
   "cell_type": "code",
   "execution_count": 212,
   "id": "e4836fa0",
   "metadata": {},
   "outputs": [
    {
     "name": "stdout",
     "output_type": "stream",
     "text": [
      "67.58662963172716 67.48598892070065 67.5870164157579 79.325164217007\n"
     ]
    }
   ],
   "source": [
    "from sklearn.model_selection import cross_val_score\n",
    "cv1=(cross_val_score(ls,x,y,cv=5).mean())*100\n",
    "cv2=(cross_val_score(rd,x,y,cv=5).mean())*100\n",
    "cv3=(cross_val_score(lr,x,y,cv=5).mean())*100\n",
    "cv4=(cross_val_score(dtr,x,y,cv=5).mean())*100\n",
    "print(cv1,cv2,cv3,cv4)"
   ]
  },
  {
   "cell_type": "code",
   "execution_count": 213,
   "id": "bf6a62c3",
   "metadata": {},
   "outputs": [
    {
     "name": "stdout",
     "output_type": "stream",
     "text": [
      "8.702426350357328 8.573072524870128 8.728445679949715 5.244127527644963\n"
     ]
    }
   ],
   "source": [
    "print((a1-cv1),(a2-cv2),(a3-cv3),(a4-cv4))"
   ]
  },
  {
   "cell_type": "markdown",
   "id": "8240a351",
   "metadata": {},
   "source": [
    "### We can choose Decision Tree Regressor as our model, since its r2 score and cv_score has least difference."
   ]
  },
  {
   "cell_type": "code",
   "execution_count": 214,
   "id": "86a0ac75",
   "metadata": {},
   "outputs": [
    {
     "data": {
      "text/plain": [
       "84.56929174465195"
      ]
     },
     "execution_count": 214,
     "metadata": {},
     "output_type": "execute_result"
    }
   ],
   "source": [
    "fin_dtr = DecisionTreeRegressor(criterion='friedman_mse',max_depth=6,max_features='auto',splitter='best')\n",
    "fin_dtr.fit(x_train,y_train)\n",
    "pred=fin_dtr.predict(x_test)\n",
    "r2=r2_score(y_test,pred)\n",
    "fin_r2=r2*100\n",
    "fin_r2"
   ]
  },
  {
   "cell_type": "markdown",
   "id": "a5863d9e",
   "metadata": {},
   "source": [
    "## Saving the Model"
   ]
  },
  {
   "cell_type": "code",
   "execution_count": 215,
   "id": "0db7428e",
   "metadata": {},
   "outputs": [
    {
     "data": {
      "text/plain": [
       "['Final_capacity_mod.pkl']"
      ]
     },
     "execution_count": 215,
     "metadata": {},
     "output_type": "execute_result"
    }
   ],
   "source": [
    "import joblib\n",
    "joblib.dump(fin_dtr,'Final_capacity_mod.pkl')"
   ]
  },
  {
   "cell_type": "markdown",
   "id": "0a38ef1e",
   "metadata": {},
   "source": [
    "## ii.) Predicting Primary_Fuel"
   ]
  },
  {
   "cell_type": "code",
   "execution_count": 216,
   "id": "f22c609d",
   "metadata": {},
   "outputs": [
    {
     "data": {
      "text/plain": [
       "1    259\n",
       "3    250\n",
       "6    127\n",
       "7    123\n",
       "2     69\n",
       "0     50\n",
       "5     21\n",
       "4      9\n",
       "Name: primary_fuel, dtype: int64"
      ]
     },
     "execution_count": 216,
     "metadata": {},
     "output_type": "execute_result"
    }
   ],
   "source": [
    "df['primary_fuel'].value_counts()"
   ]
  },
  {
   "cell_type": "markdown",
   "id": "367098c5",
   "metadata": {},
   "source": [
    "### Here, There is a class imbalance in the output."
   ]
  },
  {
   "cell_type": "code",
   "execution_count": 217,
   "id": "e8d943c1",
   "metadata": {},
   "outputs": [
    {
     "data": {
      "text/html": [
       "<div>\n",
       "<style scoped>\n",
       "    .dataframe tbody tr th:only-of-type {\n",
       "        vertical-align: middle;\n",
       "    }\n",
       "\n",
       "    .dataframe tbody tr th {\n",
       "        vertical-align: top;\n",
       "    }\n",
       "\n",
       "    .dataframe thead th {\n",
       "        text-align: right;\n",
       "    }\n",
       "</style>\n",
       "<table border=\"1\" class=\"dataframe\">\n",
       "  <thead>\n",
       "    <tr style=\"text-align: right;\">\n",
       "      <th></th>\n",
       "      <th>capacity_mw</th>\n",
       "      <th>primary_fuel</th>\n",
       "      <th>commissioning_year</th>\n",
       "      <th>generation_gwh_2013</th>\n",
       "      <th>generation_gwh_2014</th>\n",
       "      <th>generation_gwh_2015</th>\n",
       "      <th>generation_gwh_2016</th>\n",
       "      <th>generation_gwh_2017</th>\n",
       "    </tr>\n",
       "  </thead>\n",
       "  <tbody>\n",
       "    <tr>\n",
       "      <th>0</th>\n",
       "      <td>-1.675017</td>\n",
       "      <td>6</td>\n",
       "      <td>65</td>\n",
       "      <td>-0.832436</td>\n",
       "      <td>-0.845559</td>\n",
       "      <td>-0.881813</td>\n",
       "      <td>-0.902605</td>\n",
       "      <td>-0.907327</td>\n",
       "    </tr>\n",
       "    <tr>\n",
       "      <th>1</th>\n",
       "      <td>0.193946</td>\n",
       "      <td>1</td>\n",
       "      <td>73</td>\n",
       "      <td>-0.766466</td>\n",
       "      <td>-0.783112</td>\n",
       "      <td>-0.824721</td>\n",
       "      <td>-0.849275</td>\n",
       "      <td>-0.855461</td>\n",
       "    </tr>\n",
       "    <tr>\n",
       "      <th>2</th>\n",
       "      <td>-0.314403</td>\n",
       "      <td>7</td>\n",
       "      <td>73</td>\n",
       "      <td>-0.832436</td>\n",
       "      <td>-0.845559</td>\n",
       "      <td>-0.881813</td>\n",
       "      <td>-0.902605</td>\n",
       "      <td>-0.907327</td>\n",
       "    </tr>\n",
       "    <tr>\n",
       "      <th>3</th>\n",
       "      <td>0.373830</td>\n",
       "      <td>2</td>\n",
       "      <td>58</td>\n",
       "      <td>1.255113</td>\n",
       "      <td>1.215393</td>\n",
       "      <td>1.222304</td>\n",
       "      <td>1.193662</td>\n",
       "      <td>1.114079</td>\n",
       "    </tr>\n",
       "    <tr>\n",
       "      <th>4</th>\n",
       "      <td>1.481523</td>\n",
       "      <td>1</td>\n",
       "      <td>69</td>\n",
       "      <td>1.349192</td>\n",
       "      <td>1.339121</td>\n",
       "      <td>1.322393</td>\n",
       "      <td>1.307121</td>\n",
       "      <td>1.305122</td>\n",
       "    </tr>\n",
       "  </tbody>\n",
       "</table>\n",
       "</div>"
      ],
      "text/plain": [
       "   capacity_mw  primary_fuel  commissioning_year  generation_gwh_2013  \\\n",
       "0    -1.675017             6                  65            -0.832436   \n",
       "1     0.193946             1                  73            -0.766466   \n",
       "2    -0.314403             7                  73            -0.832436   \n",
       "3     0.373830             2                  58             1.255113   \n",
       "4     1.481523             1                  69             1.349192   \n",
       "\n",
       "   generation_gwh_2014  generation_gwh_2015  generation_gwh_2016  \\\n",
       "0            -0.845559            -0.881813            -0.902605   \n",
       "1            -0.783112            -0.824721            -0.849275   \n",
       "2            -0.845559            -0.881813            -0.902605   \n",
       "3             1.215393             1.222304             1.193662   \n",
       "4             1.339121             1.322393             1.307121   \n",
       "\n",
       "   generation_gwh_2017  \n",
       "0            -0.907327  \n",
       "1            -0.855461  \n",
       "2            -0.907327  \n",
       "3             1.114079  \n",
       "4             1.305122  "
      ]
     },
     "execution_count": 217,
     "metadata": {},
     "output_type": "execute_result"
    }
   ],
   "source": [
    "df.head()"
   ]
  },
  {
   "cell_type": "code",
   "execution_count": 218,
   "id": "658b4366",
   "metadata": {},
   "outputs": [
    {
     "data": {
      "text/plain": [
       "<AxesSubplot:>"
      ]
     },
     "execution_count": 218,
     "metadata": {},
     "output_type": "execute_result"
    },
    {
     "data": {
      "image/png": "[encoded data removed]",
      "text/plain": [
       "<Figure size 720x432 with 2 Axes>"
      ]
     },
     "metadata": {
      "needs_background": "light"
     },
     "output_type": "display_data"
    }
   ],
   "source": [
    "cor=df.corr()\n",
    "plt.figure(figsize=(10,6))\n",
    "sns.heatmap(cor,annot=True)"
   ]
  },
  {
   "cell_type": "code",
   "execution_count": 219,
   "id": "2e4374a0",
   "metadata": {},
   "outputs": [],
   "source": [
    "x=df.drop(['primary_fuel'],axis=1)\n",
    "y=df['primary_fuel']"
   ]
  },
  {
   "cell_type": "markdown",
   "id": "f6417ce6",
   "metadata": {},
   "source": [
    "## VIF"
   ]
  },
  {
   "cell_type": "code",
   "execution_count": 220,
   "id": "bda7b03a",
   "metadata": {},
   "outputs": [
    {
     "data": {
      "text/html": [
       "<div>\n",
       "<style scoped>\n",
       "    .dataframe tbody tr th:only-of-type {\n",
       "        vertical-align: middle;\n",
       "    }\n",
       "\n",
       "    .dataframe tbody tr th {\n",
       "        vertical-align: top;\n",
       "    }\n",
       "\n",
       "    .dataframe thead th {\n",
       "        text-align: right;\n",
       "    }\n",
       "</style>\n",
       "<table border=\"1\" class=\"dataframe\">\n",
       "  <thead>\n",
       "    <tr style=\"text-align: right;\">\n",
       "      <th></th>\n",
       "      <th>vif</th>\n",
       "      <th>col</th>\n",
       "    </tr>\n",
       "  </thead>\n",
       "  <tbody>\n",
       "    <tr>\n",
       "      <th>0</th>\n",
       "      <td>2.829920</td>\n",
       "      <td>capacity_mw</td>\n",
       "    </tr>\n",
       "    <tr>\n",
       "      <th>1</th>\n",
       "      <td>1.024822</td>\n",
       "      <td>commissioning_year</td>\n",
       "    </tr>\n",
       "    <tr>\n",
       "      <th>2</th>\n",
       "      <td>12.951856</td>\n",
       "      <td>generation_gwh_2013</td>\n",
       "    </tr>\n",
       "    <tr>\n",
       "      <th>3</th>\n",
       "      <td>19.225020</td>\n",
       "      <td>generation_gwh_2014</td>\n",
       "    </tr>\n",
       "    <tr>\n",
       "      <th>4</th>\n",
       "      <td>15.925830</td>\n",
       "      <td>generation_gwh_2015</td>\n",
       "    </tr>\n",
       "    <tr>\n",
       "      <th>5</th>\n",
       "      <td>24.023780</td>\n",
       "      <td>generation_gwh_2016</td>\n",
       "    </tr>\n",
       "    <tr>\n",
       "      <th>6</th>\n",
       "      <td>13.990712</td>\n",
       "      <td>generation_gwh_2017</td>\n",
       "    </tr>\n",
       "  </tbody>\n",
       "</table>\n",
       "</div>"
      ],
      "text/plain": [
       "         vif                  col\n",
       "0   2.829920          capacity_mw\n",
       "1   1.024822   commissioning_year\n",
       "2  12.951856  generation_gwh_2013\n",
       "3  19.225020  generation_gwh_2014\n",
       "4  15.925830  generation_gwh_2015\n",
       "5  24.023780  generation_gwh_2016\n",
       "6  13.990712  generation_gwh_2017"
      ]
     },
     "execution_count": 220,
     "metadata": {},
     "output_type": "execute_result"
    }
   ],
   "source": [
    "from statsmodels.stats.outliers_influence import variance_inflation_factor\n",
    "vif=pd.DataFrame()\n",
    "vif['vif']=[variance_inflation_factor(x.values,i) for i in range(len(x.columns))]\n",
    "vif['col']=x.columns\n",
    "vif"
   ]
  },
  {
   "cell_type": "markdown",
   "id": "d265f4a0",
   "metadata": {},
   "source": [
    "### We should drop the column with highest VIF score until all the values are below 5."
   ]
  },
  {
   "cell_type": "code",
   "execution_count": 221,
   "id": "c6b374f2",
   "metadata": {},
   "outputs": [],
   "source": [
    "x.drop(['generation_gwh_2016'],axis=1,inplace=True)"
   ]
  },
  {
   "cell_type": "code",
   "execution_count": 223,
   "id": "1ceef967",
   "metadata": {},
   "outputs": [
    {
     "data": {
      "text/html": [
       "<div>\n",
       "<style scoped>\n",
       "    .dataframe tbody tr th:only-of-type {\n",
       "        vertical-align: middle;\n",
       "    }\n",
       "\n",
       "    .dataframe tbody tr th {\n",
       "        vertical-align: top;\n",
       "    }\n",
       "\n",
       "    .dataframe thead th {\n",
       "        text-align: right;\n",
       "    }\n",
       "</style>\n",
       "<table border=\"1\" class=\"dataframe\">\n",
       "  <thead>\n",
       "    <tr style=\"text-align: right;\">\n",
       "      <th></th>\n",
       "      <th>vif</th>\n",
       "      <th>col</th>\n",
       "    </tr>\n",
       "  </thead>\n",
       "  <tbody>\n",
       "    <tr>\n",
       "      <th>0</th>\n",
       "      <td>2.797428</td>\n",
       "      <td>capacity_mw</td>\n",
       "    </tr>\n",
       "    <tr>\n",
       "      <th>1</th>\n",
       "      <td>1.024702</td>\n",
       "      <td>commissioning_year</td>\n",
       "    </tr>\n",
       "    <tr>\n",
       "      <th>2</th>\n",
       "      <td>12.792045</td>\n",
       "      <td>generation_gwh_2013</td>\n",
       "    </tr>\n",
       "    <tr>\n",
       "      <th>3</th>\n",
       "      <td>19.018359</td>\n",
       "      <td>generation_gwh_2014</td>\n",
       "    </tr>\n",
       "    <tr>\n",
       "      <th>4</th>\n",
       "      <td>11.222188</td>\n",
       "      <td>generation_gwh_2015</td>\n",
       "    </tr>\n",
       "    <tr>\n",
       "      <th>5</th>\n",
       "      <td>6.927186</td>\n",
       "      <td>generation_gwh_2017</td>\n",
       "    </tr>\n",
       "  </tbody>\n",
       "</table>\n",
       "</div>"
      ],
      "text/plain": [
       "         vif                  col\n",
       "0   2.797428          capacity_mw\n",
       "1   1.024702   commissioning_year\n",
       "2  12.792045  generation_gwh_2013\n",
       "3  19.018359  generation_gwh_2014\n",
       "4  11.222188  generation_gwh_2015\n",
       "5   6.927186  generation_gwh_2017"
      ]
     },
     "execution_count": 223,
     "metadata": {},
     "output_type": "execute_result"
    }
   ],
   "source": [
    "from statsmodels.stats.outliers_influence import variance_inflation_factor\n",
    "vif=pd.DataFrame()\n",
    "vif['vif']=[variance_inflation_factor(x.values,i) for i in range(len(x.columns))]\n",
    "vif['col']=x.columns\n",
    "vif"
   ]
  },
  {
   "cell_type": "code",
   "execution_count": 224,
   "id": "d04eec04",
   "metadata": {},
   "outputs": [],
   "source": [
    "x.drop(['generation_gwh_2014'],axis=1,inplace=True)"
   ]
  },
  {
   "cell_type": "code",
   "execution_count": 225,
   "id": "34875498",
   "metadata": {},
   "outputs": [
    {
     "data": {
      "text/html": [
       "<div>\n",
       "<style scoped>\n",
       "    .dataframe tbody tr th:only-of-type {\n",
       "        vertical-align: middle;\n",
       "    }\n",
       "\n",
       "    .dataframe tbody tr th {\n",
       "        vertical-align: top;\n",
       "    }\n",
       "\n",
       "    .dataframe thead th {\n",
       "        text-align: right;\n",
       "    }\n",
       "</style>\n",
       "<table border=\"1\" class=\"dataframe\">\n",
       "  <thead>\n",
       "    <tr style=\"text-align: right;\">\n",
       "      <th></th>\n",
       "      <th>vif</th>\n",
       "      <th>col</th>\n",
       "    </tr>\n",
       "  </thead>\n",
       "  <tbody>\n",
       "    <tr>\n",
       "      <th>0</th>\n",
       "      <td>2.791130</td>\n",
       "      <td>capacity_mw</td>\n",
       "    </tr>\n",
       "    <tr>\n",
       "      <th>1</th>\n",
       "      <td>1.024697</td>\n",
       "      <td>commissioning_year</td>\n",
       "    </tr>\n",
       "    <tr>\n",
       "      <th>2</th>\n",
       "      <td>4.963157</td>\n",
       "      <td>generation_gwh_2013</td>\n",
       "    </tr>\n",
       "    <tr>\n",
       "      <th>3</th>\n",
       "      <td>9.489993</td>\n",
       "      <td>generation_gwh_2015</td>\n",
       "    </tr>\n",
       "    <tr>\n",
       "      <th>4</th>\n",
       "      <td>6.822344</td>\n",
       "      <td>generation_gwh_2017</td>\n",
       "    </tr>\n",
       "  </tbody>\n",
       "</table>\n",
       "</div>"
      ],
      "text/plain": [
       "        vif                  col\n",
       "0  2.791130          capacity_mw\n",
       "1  1.024697   commissioning_year\n",
       "2  4.963157  generation_gwh_2013\n",
       "3  9.489993  generation_gwh_2015\n",
       "4  6.822344  generation_gwh_2017"
      ]
     },
     "execution_count": 225,
     "metadata": {},
     "output_type": "execute_result"
    }
   ],
   "source": [
    "from statsmodels.stats.outliers_influence import variance_inflation_factor\n",
    "vif=pd.DataFrame()\n",
    "vif['vif']=[variance_inflation_factor(x.values,i) for i in range(len(x.columns))]\n",
    "vif['col']=x.columns\n",
    "vif"
   ]
  },
  {
   "cell_type": "code",
   "execution_count": 226,
   "id": "a8e14bb4",
   "metadata": {},
   "outputs": [],
   "source": [
    "x.drop(['generation_gwh_2015'],axis=1,inplace=True)"
   ]
  },
  {
   "cell_type": "code",
   "execution_count": 227,
   "id": "fa35c2e3",
   "metadata": {},
   "outputs": [
    {
     "data": {
      "text/html": [
       "<div>\n",
       "<style scoped>\n",
       "    .dataframe tbody tr th:only-of-type {\n",
       "        vertical-align: middle;\n",
       "    }\n",
       "\n",
       "    .dataframe tbody tr th {\n",
       "        vertical-align: top;\n",
       "    }\n",
       "\n",
       "    .dataframe thead th {\n",
       "        text-align: right;\n",
       "    }\n",
       "</style>\n",
       "<table border=\"1\" class=\"dataframe\">\n",
       "  <thead>\n",
       "    <tr style=\"text-align: right;\">\n",
       "      <th></th>\n",
       "      <th>vif</th>\n",
       "      <th>col</th>\n",
       "    </tr>\n",
       "  </thead>\n",
       "  <tbody>\n",
       "    <tr>\n",
       "      <th>0</th>\n",
       "      <td>2.696450</td>\n",
       "      <td>capacity_mw</td>\n",
       "    </tr>\n",
       "    <tr>\n",
       "      <th>1</th>\n",
       "      <td>1.024532</td>\n",
       "      <td>commissioning_year</td>\n",
       "    </tr>\n",
       "    <tr>\n",
       "      <th>2</th>\n",
       "      <td>3.168606</td>\n",
       "      <td>generation_gwh_2013</td>\n",
       "    </tr>\n",
       "    <tr>\n",
       "      <th>3</th>\n",
       "      <td>4.706021</td>\n",
       "      <td>generation_gwh_2017</td>\n",
       "    </tr>\n",
       "  </tbody>\n",
       "</table>\n",
       "</div>"
      ],
      "text/plain": [
       "        vif                  col\n",
       "0  2.696450          capacity_mw\n",
       "1  1.024532   commissioning_year\n",
       "2  3.168606  generation_gwh_2013\n",
       "3  4.706021  generation_gwh_2017"
      ]
     },
     "execution_count": 227,
     "metadata": {},
     "output_type": "execute_result"
    }
   ],
   "source": [
    "from statsmodels.stats.outliers_influence import variance_inflation_factor\n",
    "vif=pd.DataFrame()\n",
    "vif['vif']=[variance_inflation_factor(x.values,i) for i in range(len(x.columns))]\n",
    "vif['col']=x.columns\n",
    "vif"
   ]
  },
  {
   "cell_type": "markdown",
   "id": "6ece9010",
   "metadata": {},
   "source": [
    "### Here for all the columns, VIF score is less than 5. Therefore, Multi-Collinearity in data is removed."
   ]
  },
  {
   "cell_type": "markdown",
   "id": "508dd6c3",
   "metadata": {},
   "source": [
    "## Scaling"
   ]
  },
  {
   "cell_type": "code",
   "execution_count": 228,
   "id": "4381ee00",
   "metadata": {},
   "outputs": [
    {
     "data": {
      "text/html": [
       "<div>\n",
       "<style scoped>\n",
       "    .dataframe tbody tr th:only-of-type {\n",
       "        vertical-align: middle;\n",
       "    }\n",
       "\n",
       "    .dataframe tbody tr th {\n",
       "        vertical-align: top;\n",
       "    }\n",
       "\n",
       "    .dataframe thead th {\n",
       "        text-align: right;\n",
       "    }\n",
       "</style>\n",
       "<table border=\"1\" class=\"dataframe\">\n",
       "  <thead>\n",
       "    <tr style=\"text-align: right;\">\n",
       "      <th></th>\n",
       "      <th>capacity_mw</th>\n",
       "      <th>commissioning_year</th>\n",
       "      <th>generation_gwh_2013</th>\n",
       "      <th>generation_gwh_2017</th>\n",
       "    </tr>\n",
       "  </thead>\n",
       "  <tbody>\n",
       "    <tr>\n",
       "      <th>0</th>\n",
       "      <td>-1.675017</td>\n",
       "      <td>0.287082</td>\n",
       "      <td>-0.832436</td>\n",
       "      <td>-0.907327</td>\n",
       "    </tr>\n",
       "    <tr>\n",
       "      <th>1</th>\n",
       "      <td>0.193946</td>\n",
       "      <td>0.764611</td>\n",
       "      <td>-0.766466</td>\n",
       "      <td>-0.855461</td>\n",
       "    </tr>\n",
       "    <tr>\n",
       "      <th>2</th>\n",
       "      <td>-0.314403</td>\n",
       "      <td>0.764611</td>\n",
       "      <td>-0.832436</td>\n",
       "      <td>-0.907327</td>\n",
       "    </tr>\n",
       "    <tr>\n",
       "      <th>3</th>\n",
       "      <td>0.373830</td>\n",
       "      <td>-0.130755</td>\n",
       "      <td>1.255113</td>\n",
       "      <td>1.114079</td>\n",
       "    </tr>\n",
       "    <tr>\n",
       "      <th>4</th>\n",
       "      <td>1.481523</td>\n",
       "      <td>0.525846</td>\n",
       "      <td>1.349192</td>\n",
       "      <td>1.305122</td>\n",
       "    </tr>\n",
       "  </tbody>\n",
       "</table>\n",
       "</div>"
      ],
      "text/plain": [
       "   capacity_mw  commissioning_year  generation_gwh_2013  generation_gwh_2017\n",
       "0    -1.675017            0.287082            -0.832436            -0.907327\n",
       "1     0.193946            0.764611            -0.766466            -0.855461\n",
       "2    -0.314403            0.764611            -0.832436            -0.907327\n",
       "3     0.373830           -0.130755             1.255113             1.114079\n",
       "4     1.481523            0.525846             1.349192             1.305122"
      ]
     },
     "execution_count": 228,
     "metadata": {},
     "output_type": "execute_result"
    }
   ],
   "source": [
    "from sklearn.preprocessing import StandardScaler\n",
    "scaler=StandardScaler()\n",
    "x=pd.DataFrame(scaler.fit_transform(x),columns=x.columns)\n",
    "x.head()"
   ]
  },
  {
   "cell_type": "markdown",
   "id": "85f91d8a",
   "metadata": {},
   "source": [
    "## Sampling"
   ]
  },
  {
   "cell_type": "code",
   "execution_count": 229,
   "id": "9432d1d2",
   "metadata": {},
   "outputs": [],
   "source": [
    "from imblearn.over_sampling import SMOTE\n",
    "smo=SMOTE()\n",
    "x,y=smo.fit_resample(x,y)"
   ]
  },
  {
   "cell_type": "code",
   "execution_count": 230,
   "id": "ce1c7cde",
   "metadata": {},
   "outputs": [
    {
     "data": {
      "text/plain": [
       "0    259\n",
       "2    259\n",
       "4    259\n",
       "6    259\n",
       "1    259\n",
       "3    259\n",
       "5    259\n",
       "7    259\n",
       "Name: primary_fuel, dtype: int64"
      ]
     },
     "execution_count": 230,
     "metadata": {},
     "output_type": "execute_result"
    }
   ],
   "source": [
    "y.value_counts()"
   ]
  },
  {
   "cell_type": "markdown",
   "id": "4559d1f9",
   "metadata": {},
   "source": [
    "## Choosing Random State Value"
   ]
  },
  {
   "cell_type": "code",
   "execution_count": 231,
   "id": "0a691d30",
   "metadata": {},
   "outputs": [
    {
     "name": "stdout",
     "output_type": "stream",
     "text": [
      "max accuracy= 0.8867469879518072 ran state= 48\n"
     ]
    }
   ],
   "source": [
    "from sklearn.model_selection import train_test_split\n",
    "from sklearn.tree import DecisionTreeClassifier\n",
    "from sklearn.metrics import accuracy_score,classification_report\n",
    "maxac=0\n",
    "maxran=0\n",
    "for i in range(1,200):\n",
    "    x_train,x_test,y_train,y_test=train_test_split(x,y,test_size=0.20,random_state=i)\n",
    "    sam=DecisionTreeClassifier()\n",
    "    sam.fit(x_train,y_train)\n",
    "    pred=sam.predict(x_test)\n",
    "    acc=accuracy_score(y_test,pred)\n",
    "    if acc>maxac:\n",
    "        maxac=acc\n",
    "        maxran=i\n",
    "print('max accuracy=',maxac,'ran state=',maxran)"
   ]
  },
  {
   "cell_type": "code",
   "execution_count": 232,
   "id": "7eb16485",
   "metadata": {},
   "outputs": [],
   "source": [
    "x_train,x_test,y_train,y_test=train_test_split(x,y,test_size=0.20,random_state=maxran)"
   ]
  },
  {
   "cell_type": "markdown",
   "id": "1eeccfff",
   "metadata": {},
   "source": [
    "## Model Selection"
   ]
  },
  {
   "cell_type": "markdown",
   "id": "6f7be9f8",
   "metadata": {},
   "source": [
    "### Decision Tree Classifier"
   ]
  },
  {
   "cell_type": "code",
   "execution_count": 233,
   "id": "6459b850",
   "metadata": {},
   "outputs": [
    {
     "name": "stdout",
     "output_type": "stream",
     "text": [
      "0.8891566265060241\n",
      "              precision    recall  f1-score   support\n",
      "\n",
      "           0       0.80      0.87      0.83        45\n",
      "           1       0.93      0.89      0.91        57\n",
      "           2       0.80      0.92      0.86        49\n",
      "           3       0.87      0.84      0.85        55\n",
      "           4       0.98      0.96      0.97        68\n",
      "           5       1.00      0.98      0.99        48\n",
      "           6       0.91      0.80      0.85        50\n",
      "           7       0.80      0.84      0.82        43\n",
      "\n",
      "    accuracy                           0.89       415\n",
      "   macro avg       0.89      0.89      0.88       415\n",
      "weighted avg       0.89      0.89      0.89       415\n",
      "\n"
     ]
    }
   ],
   "source": [
    "from sklearn.tree import DecisionTreeClassifier\n",
    "dtc=DecisionTreeClassifier()\n",
    "dtc.fit(x_train,y_train)\n",
    "pred1=dtc.predict(x_test)\n",
    "dtc_clas1=classification_report(y_test,pred1)\n",
    "acc1=accuracy_score(y_test,pred1)\n",
    "print(acc1)\n",
    "print(dtc_clas1)"
   ]
  },
  {
   "cell_type": "code",
   "execution_count": 234,
   "id": "13672592",
   "metadata": {},
   "outputs": [
    {
     "data": {
      "text/plain": [
       "array([[39,  0,  0,  0,  0,  0,  1,  5],\n",
       "       [ 0, 51,  2,  4,  0,  0,  0,  0],\n",
       "       [ 0,  1, 45,  2,  1,  0,  0,  0],\n",
       "       [ 0,  1,  8, 46,  0,  0,  0,  0],\n",
       "       [ 0,  2,  1,  0, 65,  0,  0,  0],\n",
       "       [ 0,  0,  0,  1,  0, 47,  0,  0],\n",
       "       [ 6,  0,  0,  0,  0,  0, 40,  4],\n",
       "       [ 4,  0,  0,  0,  0,  0,  3, 36]], dtype=int64)"
      ]
     },
     "execution_count": 234,
     "metadata": {},
     "output_type": "execute_result"
    }
   ],
   "source": [
    "from sklearn.metrics import confusion_matrix\n",
    "con1=confusion_matrix(y_test,pred1)\n",
    "con1"
   ]
  },
  {
   "cell_type": "markdown",
   "id": "5c01bb9c",
   "metadata": {},
   "source": [
    "### Random Forest Classifier"
   ]
  },
  {
   "cell_type": "code",
   "execution_count": 235,
   "id": "6bca3083",
   "metadata": {},
   "outputs": [
    {
     "name": "stdout",
     "output_type": "stream",
     "text": [
      "0.8867469879518072\n",
      "              precision    recall  f1-score   support\n",
      "\n",
      "           0       0.80      0.87      0.83        45\n",
      "           1       0.96      0.88      0.92        57\n",
      "           2       0.74      0.98      0.84        49\n",
      "           3       0.93      0.75      0.83        55\n",
      "           4       0.97      0.97      0.97        68\n",
      "           5       1.00      1.00      1.00        48\n",
      "           6       0.91      0.80      0.85        50\n",
      "           7       0.80      0.84      0.82        43\n",
      "\n",
      "    accuracy                           0.89       415\n",
      "   macro avg       0.89      0.88      0.88       415\n",
      "weighted avg       0.90      0.89      0.89       415\n",
      "\n"
     ]
    }
   ],
   "source": [
    "from sklearn.ensemble import RandomForestClassifier\n",
    "rfc=RandomForestClassifier()\n",
    "rfc.fit(x_train,y_train)\n",
    "pred2=rfc.predict(x_test)\n",
    "rfc_clas2=classification_report(y_test,pred2)\n",
    "acc2=accuracy_score(y_test,pred2)\n",
    "print(acc2)\n",
    "print(rfc_clas2)"
   ]
  },
  {
   "cell_type": "code",
   "execution_count": 236,
   "id": "bad2ceaa",
   "metadata": {},
   "outputs": [
    {
     "data": {
      "text/plain": [
       "array([[39,  0,  0,  0,  0,  0,  1,  5],\n",
       "       [ 0, 50,  3,  3,  1,  0,  0,  0],\n",
       "       [ 0,  0, 48,  0,  1,  0,  0,  0],\n",
       "       [ 0,  1, 13, 41,  0,  0,  0,  0],\n",
       "       [ 0,  1,  1,  0, 66,  0,  0,  0],\n",
       "       [ 0,  0,  0,  0,  0, 48,  0,  0],\n",
       "       [ 6,  0,  0,  0,  0,  0, 40,  4],\n",
       "       [ 4,  0,  0,  0,  0,  0,  3, 36]], dtype=int64)"
      ]
     },
     "execution_count": 236,
     "metadata": {},
     "output_type": "execute_result"
    }
   ],
   "source": [
    "con2=confusion_matrix(y_test,pred2)\n",
    "con2"
   ]
  },
  {
   "cell_type": "markdown",
   "id": "3adc2c33",
   "metadata": {},
   "source": [
    "### Support Vectors"
   ]
  },
  {
   "cell_type": "code",
   "execution_count": 237,
   "id": "d1dae09f",
   "metadata": {},
   "outputs": [
    {
     "name": "stdout",
     "output_type": "stream",
     "text": [
      "0.6771084337349398\n",
      "              precision    recall  f1-score   support\n",
      "\n",
      "           0       0.49      1.00      0.66        45\n",
      "           1       0.70      0.12      0.21        57\n",
      "           2       0.56      0.63      0.60        49\n",
      "           3       0.83      0.69      0.75        55\n",
      "           4       0.69      1.00      0.82        68\n",
      "           5       0.98      1.00      0.99        48\n",
      "           6       0.79      0.62      0.70        50\n",
      "           7       0.50      0.30      0.38        43\n",
      "\n",
      "    accuracy                           0.68       415\n",
      "   macro avg       0.69      0.67      0.64       415\n",
      "weighted avg       0.70      0.68      0.64       415\n",
      "\n"
     ]
    }
   ],
   "source": [
    "from sklearn.svm import SVC\n",
    "sup=SVC()\n",
    "sup.fit(x_train,y_train)\n",
    "pred3=sup.predict(x_test)\n",
    "sv_clas3=classification_report(y_test,pred3)\n",
    "acc3=accuracy_score(y_test,pred3)\n",
    "print(acc3)\n",
    "print(sv_clas3)"
   ]
  },
  {
   "cell_type": "code",
   "execution_count": 238,
   "id": "51de9210",
   "metadata": {},
   "outputs": [
    {
     "data": {
      "text/plain": [
       "array([[45,  0,  0,  0,  0,  0,  0,  0],\n",
       "       [ 9,  7, 10,  2, 22,  0,  0,  7],\n",
       "       [ 2,  2, 31,  6,  4,  1,  0,  3],\n",
       "       [ 0,  1, 12, 38,  4,  0,  0,  0],\n",
       "       [ 0,  0,  0,  0, 68,  0,  0,  0],\n",
       "       [ 0,  0,  0,  0,  0, 48,  0,  0],\n",
       "       [14,  0,  2,  0,  0,  0, 31,  3],\n",
       "       [22,  0,  0,  0,  0,  0,  8, 13]], dtype=int64)"
      ]
     },
     "execution_count": 238,
     "metadata": {},
     "output_type": "execute_result"
    }
   ],
   "source": [
    "con3=confusion_matrix(y_test,pred3)\n",
    "con3"
   ]
  },
  {
   "cell_type": "markdown",
   "id": "46f70a77",
   "metadata": {},
   "source": [
    "### KNN Classifier"
   ]
  },
  {
   "cell_type": "code",
   "execution_count": 239,
   "id": "59a4e6c8",
   "metadata": {},
   "outputs": [
    {
     "name": "stdout",
     "output_type": "stream",
     "text": [
      "0.8\n",
      "              precision    recall  f1-score   support\n",
      "\n",
      "           0       0.73      0.73      0.73        45\n",
      "           1       0.75      0.67      0.70        57\n",
      "           2       0.69      0.90      0.78        49\n",
      "           3       0.87      0.73      0.79        55\n",
      "           4       0.91      0.88      0.90        68\n",
      "           5       0.98      1.00      0.99        48\n",
      "           6       0.84      0.76      0.80        50\n",
      "           7       0.63      0.72      0.67        43\n",
      "\n",
      "    accuracy                           0.80       415\n",
      "   macro avg       0.80      0.80      0.80       415\n",
      "weighted avg       0.81      0.80      0.80       415\n",
      "\n"
     ]
    }
   ],
   "source": [
    "from sklearn.neighbors import KNeighborsClassifier\n",
    "knn1=KNeighborsClassifier()\n",
    "knn1.fit(x_train,y_train)\n",
    "pred4=knn1.predict(x_test)\n",
    "sv_clas4=classification_report(y_test,pred4)\n",
    "acc4=accuracy_score(y_test,pred4)\n",
    "print(acc4)\n",
    "print(sv_clas4)"
   ]
  },
  {
   "cell_type": "code",
   "execution_count": 240,
   "id": "df7805c3",
   "metadata": {},
   "outputs": [
    {
     "data": {
      "text/plain": [
       "array([[33,  0,  0,  0,  0,  0,  1, 11],\n",
       "       [ 0, 38,  6,  4,  5,  0,  0,  4],\n",
       "       [ 1,  2, 44,  1,  0,  1,  0,  0],\n",
       "       [ 0,  5,  9, 40,  1,  0,  0,  0],\n",
       "       [ 0,  5,  2,  1, 60,  0,  0,  0],\n",
       "       [ 0,  0,  0,  0,  0, 48,  0,  0],\n",
       "       [ 6,  1,  2,  0,  0,  0, 38,  3],\n",
       "       [ 5,  0,  1,  0,  0,  0,  6, 31]], dtype=int64)"
      ]
     },
     "execution_count": 240,
     "metadata": {},
     "output_type": "execute_result"
    }
   ],
   "source": [
    "con4=confusion_matrix(y_test,pred4)\n",
    "con4"
   ]
  },
  {
   "cell_type": "markdown",
   "id": "e465d019",
   "metadata": {},
   "source": [
    "## Cross Validation"
   ]
  },
  {
   "cell_type": "code",
   "execution_count": 241,
   "id": "6ed6ac6c",
   "metadata": {},
   "outputs": [
    {
     "name": "stdout",
     "output_type": "stream",
     "text": [
      "0.8262720447005414 0.8489587334846634 0.6467271986496712 0.7799452883999767\n"
     ]
    }
   ],
   "source": [
    "from sklearn.model_selection import cross_val_score\n",
    "cv1=cross_val_score(dtc,x,y,cv=5).mean()\n",
    "cv2=cross_val_score(rfc,x,y,cv=5).mean()\n",
    "cv3=cross_val_score(sup,x,y,cv=5).mean()\n",
    "cv4=cross_val_score(knn1,x,y,cv=5).mean()\n",
    "print(cv1,cv2,cv3,cv4)"
   ]
  },
  {
   "cell_type": "code",
   "execution_count": 242,
   "id": "2da22c7d",
   "metadata": {},
   "outputs": [
    {
     "name": "stdout",
     "output_type": "stream",
     "text": [
      "0.06288458180548273 0.037788254467143734 0.030381235085268576 0.020054711600023367\n"
     ]
    }
   ],
   "source": [
    "print((acc1-cv1),(acc2-cv2),(acc3-cv3),(acc4-cv4))"
   ]
  },
  {
   "cell_type": "markdown",
   "id": "81860373",
   "metadata": {},
   "source": [
    "### We can choose KNN Classifier as our model since its cv_score and accuracy score are almost similar."
   ]
  },
  {
   "cell_type": "code",
   "execution_count": 244,
   "id": "a69ba3c6",
   "metadata": {},
   "outputs": [
    {
     "name": "stdout",
     "output_type": "stream",
     "text": [
      "{'algorithm': 'ball_tree', 'n_jobs': 1, 'n_neighbors': 3, 'weights': 'distance'}\n"
     ]
    }
   ],
   "source": [
    "from sklearn.model_selection import GridSearchCV\n",
    "parameters={'n_neighbors':list(range(3,22,2)),'weights':['uniform', 'distance'],'algorithm':['auto', 'ball_tree', 'kd_tree', 'brute'],'n_jobs':list(range(1,10))}\n",
    "gsc=GridSearchCV(knn1,parameters)\n",
    "gsc.fit(x_train,y_train)\n",
    "print(gsc.best_params_)"
   ]
  },
  {
   "cell_type": "code",
   "execution_count": 245,
   "id": "c7530f37",
   "metadata": {},
   "outputs": [
    {
     "name": "stdout",
     "output_type": "stream",
     "text": [
      "Final_Accuracy: 81.92771084337349\n"
     ]
    }
   ],
   "source": [
    "fin_fuel_model=KNeighborsClassifier(n_neighbors=3,weights='distance',algorithm='ball_tree',n_jobs=1)\n",
    "fin_fuel_model.fit(x_train,y_train)\n",
    "pred5=fin_fuel_model.predict(x_test)\n",
    "knn_acc=accuracy_score(y_test,pred5)\n",
    "print(\"Final_Accuracy:\",knn_acc*100)"
   ]
  },
  {
   "cell_type": "code",
   "execution_count": 246,
   "id": "c835550e",
   "metadata": {},
   "outputs": [
    {
     "data": {
      "text/plain": [
       "array([[30,  0,  0,  0,  0,  0,  1, 14],\n",
       "       [ 0, 43,  6,  5,  3,  0,  0,  0],\n",
       "       [ 0,  1, 45,  2,  0,  1,  0,  0],\n",
       "       [ 0,  4, 10, 38,  2,  1,  0,  0],\n",
       "       [ 0,  5,  1,  1, 61,  0,  0,  0],\n",
       "       [ 0,  0,  0,  0,  0, 48,  0,  0],\n",
       "       [ 6,  1,  2,  0,  0,  0, 37,  4],\n",
       "       [ 1,  0,  1,  0,  0,  0,  3, 38]], dtype=int64)"
      ]
     },
     "execution_count": 246,
     "metadata": {},
     "output_type": "execute_result"
    }
   ],
   "source": [
    "con5=confusion_matrix(y_test,pred5)\n",
    "con5"
   ]
  },
  {
   "cell_type": "markdown",
   "id": "a3c0313b",
   "metadata": {},
   "source": [
    "## Saving the Model"
   ]
  },
  {
   "cell_type": "code",
   "execution_count": 247,
   "id": "3f30fc70",
   "metadata": {},
   "outputs": [
    {
     "data": {
      "text/plain": [
       "['Final_Fuel_mod.pkl']"
      ]
     },
     "execution_count": 247,
     "metadata": {},
     "output_type": "execute_result"
    }
   ],
   "source": [
    "import joblib\n",
    "joblib.dump(fin_fuel_model,'Final_Fuel_mod.pkl')"
   ]
  }
 ],
 "metadata": {
  "kernelspec": {
   "display_name": "Python 3",
   "language": "python",
   "name": "python3"
  },
  "language_info": {
   "codemirror_mode": {
    "name": "ipython",
    "version": 3
   },
   "file_extension": ".py",
   "mimetype": "text/x-python",
   "name": "python",
   "nbconvert_exporter": "python",
   "pygments_lexer": "ipython3",
   "version": "3.8.8"
  }
 },
 "nbformat": 4,
 "nbformat_minor": 5
}
