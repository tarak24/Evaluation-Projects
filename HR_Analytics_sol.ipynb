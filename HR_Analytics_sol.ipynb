{
 "cells": [
  {
   "cell_type": "markdown",
   "id": "05cd241e",
   "metadata": {},
   "source": [
    "# HR Analytics Project"
   ]
  },
  {
   "cell_type": "code",
   "execution_count": 1,
   "id": "9b627472",
   "metadata": {},
   "outputs": [],
   "source": [
    "import pandas as pd\n",
    "import numpy as np\n",
    "import matplotlib.pyplot as plt\n",
    "import warnings\n",
    "warnings.filterwarnings('ignore')\n",
    "import seaborn as sns"
   ]
  },
  {
   "cell_type": "code",
   "execution_count": 2,
   "id": "822d4416",
   "metadata": {},
   "outputs": [
    {
     "data": {
      "text/html": [
       "<div>\n",
       "<style scoped>\n",
       "    .dataframe tbody tr th:only-of-type {\n",
       "        vertical-align: middle;\n",
       "    }\n",
       "\n",
       "    .dataframe tbody tr th {\n",
       "        vertical-align: top;\n",
       "    }\n",
       "\n",
       "    .dataframe thead th {\n",
       "        text-align: right;\n",
       "    }\n",
       "</style>\n",
       "<table border=\"1\" class=\"dataframe\">\n",
       "  <thead>\n",
       "    <tr style=\"text-align: right;\">\n",
       "      <th></th>\n",
       "      <th>Age</th>\n",
       "      <th>Attrition</th>\n",
       "      <th>BusinessTravel</th>\n",
       "      <th>DailyRate</th>\n",
       "      <th>Department</th>\n",
       "      <th>DistanceFromHome</th>\n",
       "      <th>Education</th>\n",
       "      <th>EducationField</th>\n",
       "      <th>EmployeeCount</th>\n",
       "      <th>EmployeeNumber</th>\n",
       "      <th>...</th>\n",
       "      <th>RelationshipSatisfaction</th>\n",
       "      <th>StandardHours</th>\n",
       "      <th>StockOptionLevel</th>\n",
       "      <th>TotalWorkingYears</th>\n",
       "      <th>TrainingTimesLastYear</th>\n",
       "      <th>WorkLifeBalance</th>\n",
       "      <th>YearsAtCompany</th>\n",
       "      <th>YearsInCurrentRole</th>\n",
       "      <th>YearsSinceLastPromotion</th>\n",
       "      <th>YearsWithCurrManager</th>\n",
       "    </tr>\n",
       "  </thead>\n",
       "  <tbody>\n",
       "    <tr>\n",
       "      <th>0</th>\n",
       "      <td>41</td>\n",
       "      <td>Yes</td>\n",
       "      <td>Travel_Rarely</td>\n",
       "      <td>1102</td>\n",
       "      <td>Sales</td>\n",
       "      <td>1</td>\n",
       "      <td>2</td>\n",
       "      <td>Life Sciences</td>\n",
       "      <td>1</td>\n",
       "      <td>1</td>\n",
       "      <td>...</td>\n",
       "      <td>1</td>\n",
       "      <td>80</td>\n",
       "      <td>0</td>\n",
       "      <td>8</td>\n",
       "      <td>0</td>\n",
       "      <td>1</td>\n",
       "      <td>6</td>\n",
       "      <td>4</td>\n",
       "      <td>0</td>\n",
       "      <td>5</td>\n",
       "    </tr>\n",
       "    <tr>\n",
       "      <th>1</th>\n",
       "      <td>49</td>\n",
       "      <td>No</td>\n",
       "      <td>Travel_Frequently</td>\n",
       "      <td>279</td>\n",
       "      <td>Research &amp; Development</td>\n",
       "      <td>8</td>\n",
       "      <td>1</td>\n",
       "      <td>Life Sciences</td>\n",
       "      <td>1</td>\n",
       "      <td>2</td>\n",
       "      <td>...</td>\n",
       "      <td>4</td>\n",
       "      <td>80</td>\n",
       "      <td>1</td>\n",
       "      <td>10</td>\n",
       "      <td>3</td>\n",
       "      <td>3</td>\n",
       "      <td>10</td>\n",
       "      <td>7</td>\n",
       "      <td>1</td>\n",
       "      <td>7</td>\n",
       "    </tr>\n",
       "    <tr>\n",
       "      <th>2</th>\n",
       "      <td>37</td>\n",
       "      <td>Yes</td>\n",
       "      <td>Travel_Rarely</td>\n",
       "      <td>1373</td>\n",
       "      <td>Research &amp; Development</td>\n",
       "      <td>2</td>\n",
       "      <td>2</td>\n",
       "      <td>Other</td>\n",
       "      <td>1</td>\n",
       "      <td>4</td>\n",
       "      <td>...</td>\n",
       "      <td>2</td>\n",
       "      <td>80</td>\n",
       "      <td>0</td>\n",
       "      <td>7</td>\n",
       "      <td>3</td>\n",
       "      <td>3</td>\n",
       "      <td>0</td>\n",
       "      <td>0</td>\n",
       "      <td>0</td>\n",
       "      <td>0</td>\n",
       "    </tr>\n",
       "    <tr>\n",
       "      <th>3</th>\n",
       "      <td>33</td>\n",
       "      <td>No</td>\n",
       "      <td>Travel_Frequently</td>\n",
       "      <td>1392</td>\n",
       "      <td>Research &amp; Development</td>\n",
       "      <td>3</td>\n",
       "      <td>4</td>\n",
       "      <td>Life Sciences</td>\n",
       "      <td>1</td>\n",
       "      <td>5</td>\n",
       "      <td>...</td>\n",
       "      <td>3</td>\n",
       "      <td>80</td>\n",
       "      <td>0</td>\n",
       "      <td>8</td>\n",
       "      <td>3</td>\n",
       "      <td>3</td>\n",
       "      <td>8</td>\n",
       "      <td>7</td>\n",
       "      <td>3</td>\n",
       "      <td>0</td>\n",
       "    </tr>\n",
       "    <tr>\n",
       "      <th>4</th>\n",
       "      <td>27</td>\n",
       "      <td>No</td>\n",
       "      <td>Travel_Rarely</td>\n",
       "      <td>591</td>\n",
       "      <td>Research &amp; Development</td>\n",
       "      <td>2</td>\n",
       "      <td>1</td>\n",
       "      <td>Medical</td>\n",
       "      <td>1</td>\n",
       "      <td>7</td>\n",
       "      <td>...</td>\n",
       "      <td>4</td>\n",
       "      <td>80</td>\n",
       "      <td>1</td>\n",
       "      <td>6</td>\n",
       "      <td>3</td>\n",
       "      <td>3</td>\n",
       "      <td>2</td>\n",
       "      <td>2</td>\n",
       "      <td>2</td>\n",
       "      <td>2</td>\n",
       "    </tr>\n",
       "  </tbody>\n",
       "</table>\n",
       "<p>5 rows × 35 columns</p>\n",
       "</div>"
      ],
      "text/plain": [
       "   Age Attrition     BusinessTravel  DailyRate              Department  \\\n",
       "0   41       Yes      Travel_Rarely       1102                   Sales   \n",
       "1   49        No  Travel_Frequently        279  Research & Development   \n",
       "2   37       Yes      Travel_Rarely       1373  Research & Development   \n",
       "3   33        No  Travel_Frequently       1392  Research & Development   \n",
       "4   27        No      Travel_Rarely        591  Research & Development   \n",
       "\n",
       "   DistanceFromHome  Education EducationField  EmployeeCount  EmployeeNumber  \\\n",
       "0                 1          2  Life Sciences              1               1   \n",
       "1                 8          1  Life Sciences              1               2   \n",
       "2                 2          2          Other              1               4   \n",
       "3                 3          4  Life Sciences              1               5   \n",
       "4                 2          1        Medical              1               7   \n",
       "\n",
       "   ...  RelationshipSatisfaction StandardHours  StockOptionLevel  \\\n",
       "0  ...                         1            80                 0   \n",
       "1  ...                         4            80                 1   \n",
       "2  ...                         2            80                 0   \n",
       "3  ...                         3            80                 0   \n",
       "4  ...                         4            80                 1   \n",
       "\n",
       "   TotalWorkingYears  TrainingTimesLastYear WorkLifeBalance  YearsAtCompany  \\\n",
       "0                  8                      0               1               6   \n",
       "1                 10                      3               3              10   \n",
       "2                  7                      3               3               0   \n",
       "3                  8                      3               3               8   \n",
       "4                  6                      3               3               2   \n",
       "\n",
       "  YearsInCurrentRole  YearsSinceLastPromotion  YearsWithCurrManager  \n",
       "0                  4                        0                     5  \n",
       "1                  7                        1                     7  \n",
       "2                  0                        0                     0  \n",
       "3                  7                        3                     0  \n",
       "4                  2                        2                     2  \n",
       "\n",
       "[5 rows x 35 columns]"
      ]
     },
     "execution_count": 2,
     "metadata": {},
     "output_type": "execute_result"
    }
   ],
   "source": [
    "df=pd.read_csv('C:\\\\Users\\\\DELL\\\\Desktop\\\\Data Trained\\\\Evaluation Projects\\\\WA_Fn-UseC_-HR-Employee-Attrition.csv')\n",
    "df.head()"
   ]
  },
  {
   "cell_type": "code",
   "execution_count": 3,
   "id": "11a3c20a",
   "metadata": {},
   "outputs": [
    {
     "data": {
      "text/plain": [
       "(1470, 35)"
      ]
     },
     "execution_count": 3,
     "metadata": {},
     "output_type": "execute_result"
    }
   ],
   "source": [
    "df.shape"
   ]
  },
  {
   "cell_type": "code",
   "execution_count": 4,
   "id": "1caf6287",
   "metadata": {},
   "outputs": [
    {
     "data": {
      "text/plain": [
       "Age                          int64\n",
       "Attrition                   object\n",
       "BusinessTravel              object\n",
       "DailyRate                    int64\n",
       "Department                  object\n",
       "DistanceFromHome             int64\n",
       "Education                    int64\n",
       "EducationField              object\n",
       "EmployeeCount                int64\n",
       "EmployeeNumber               int64\n",
       "EnvironmentSatisfaction      int64\n",
       "Gender                      object\n",
       "HourlyRate                   int64\n",
       "JobInvolvement               int64\n",
       "JobLevel                     int64\n",
       "JobRole                     object\n",
       "JobSatisfaction              int64\n",
       "MaritalStatus               object\n",
       "MonthlyIncome                int64\n",
       "MonthlyRate                  int64\n",
       "NumCompaniesWorked           int64\n",
       "Over18                      object\n",
       "OverTime                    object\n",
       "PercentSalaryHike            int64\n",
       "PerformanceRating            int64\n",
       "RelationshipSatisfaction     int64\n",
       "StandardHours                int64\n",
       "StockOptionLevel             int64\n",
       "TotalWorkingYears            int64\n",
       "TrainingTimesLastYear        int64\n",
       "WorkLifeBalance              int64\n",
       "YearsAtCompany               int64\n",
       "YearsInCurrentRole           int64\n",
       "YearsSinceLastPromotion      int64\n",
       "YearsWithCurrManager         int64\n",
       "dtype: object"
      ]
     },
     "execution_count": 4,
     "metadata": {},
     "output_type": "execute_result"
    }
   ],
   "source": [
    "df.dtypes"
   ]
  },
  {
   "cell_type": "code",
   "execution_count": 5,
   "id": "6f9f99cc",
   "metadata": {},
   "outputs": [
    {
     "data": {
      "text/plain": [
       "Age                         0\n",
       "Attrition                   0\n",
       "BusinessTravel              0\n",
       "DailyRate                   0\n",
       "Department                  0\n",
       "DistanceFromHome            0\n",
       "Education                   0\n",
       "EducationField              0\n",
       "EmployeeCount               0\n",
       "EmployeeNumber              0\n",
       "EnvironmentSatisfaction     0\n",
       "Gender                      0\n",
       "HourlyRate                  0\n",
       "JobInvolvement              0\n",
       "JobLevel                    0\n",
       "JobRole                     0\n",
       "JobSatisfaction             0\n",
       "MaritalStatus               0\n",
       "MonthlyIncome               0\n",
       "MonthlyRate                 0\n",
       "NumCompaniesWorked          0\n",
       "Over18                      0\n",
       "OverTime                    0\n",
       "PercentSalaryHike           0\n",
       "PerformanceRating           0\n",
       "RelationshipSatisfaction    0\n",
       "StandardHours               0\n",
       "StockOptionLevel            0\n",
       "TotalWorkingYears           0\n",
       "TrainingTimesLastYear       0\n",
       "WorkLifeBalance             0\n",
       "YearsAtCompany              0\n",
       "YearsInCurrentRole          0\n",
       "YearsSinceLastPromotion     0\n",
       "YearsWithCurrManager        0\n",
       "dtype: int64"
      ]
     },
     "execution_count": 5,
     "metadata": {},
     "output_type": "execute_result"
    }
   ],
   "source": [
    "df.isnull().sum()"
   ]
  },
  {
   "cell_type": "code",
   "execution_count": 6,
   "id": "16104617",
   "metadata": {},
   "outputs": [
    {
     "data": {
      "text/plain": [
       "1    521\n",
       "0    197\n",
       "3    159\n",
       "2    146\n",
       "4    139\n",
       "7     74\n",
       "6     70\n",
       "5     63\n",
       "9     52\n",
       "8     49\n",
       "Name: NumCompaniesWorked, dtype: int64"
      ]
     },
     "execution_count": 6,
     "metadata": {},
     "output_type": "execute_result"
    }
   ],
   "source": [
    "df['NumCompaniesWorked'].value_counts()"
   ]
  },
  {
   "cell_type": "code",
   "execution_count": 7,
   "id": "84ffea01",
   "metadata": {},
   "outputs": [
    {
     "data": {
      "text/plain": [
       "array(['Travel_Rarely', 'Travel_Frequently', 'Non-Travel'], dtype=object)"
      ]
     },
     "execution_count": 7,
     "metadata": {},
     "output_type": "execute_result"
    }
   ],
   "source": [
    "df['BusinessTravel'].unique()"
   ]
  },
  {
   "cell_type": "code",
   "execution_count": 8,
   "id": "a62557dc",
   "metadata": {},
   "outputs": [
    {
     "data": {
      "text/plain": [
       "array(['Sales', 'Research & Development', 'Human Resources'], dtype=object)"
      ]
     },
     "execution_count": 8,
     "metadata": {},
     "output_type": "execute_result"
    }
   ],
   "source": [
    "df['Department'].unique()"
   ]
  },
  {
   "cell_type": "code",
   "execution_count": 9,
   "id": "c9b598d6",
   "metadata": {},
   "outputs": [
    {
     "data": {
      "text/plain": [
       "array(['Life Sciences', 'Other', 'Medical', 'Marketing',\n",
       "       'Technical Degree', 'Human Resources'], dtype=object)"
      ]
     },
     "execution_count": 9,
     "metadata": {},
     "output_type": "execute_result"
    }
   ],
   "source": [
    "df['EducationField'].unique()"
   ]
  },
  {
   "cell_type": "code",
   "execution_count": 10,
   "id": "b8eab969",
   "metadata": {},
   "outputs": [
    {
     "data": {
      "text/plain": [
       "array([0, 1, 3, 2], dtype=int64)"
      ]
     },
     "execution_count": 10,
     "metadata": {},
     "output_type": "execute_result"
    }
   ],
   "source": [
    "df['StockOptionLevel'].unique()"
   ]
  },
  {
   "cell_type": "code",
   "execution_count": 11,
   "id": "8cf40a2a",
   "metadata": {},
   "outputs": [
    {
     "data": {
      "text/plain": [
       "array([0, 3, 2, 5, 1, 4, 6], dtype=int64)"
      ]
     },
     "execution_count": 11,
     "metadata": {},
     "output_type": "execute_result"
    }
   ],
   "source": [
    "df['TrainingTimesLastYear'].unique()"
   ]
  },
  {
   "cell_type": "code",
   "execution_count": 12,
   "id": "a5ae82af",
   "metadata": {},
   "outputs": [
    {
     "data": {
      "text/plain": [
       "array([41, 49, 37, 33, 27, 32, 59, 30, 38, 36, 35, 29, 31, 34, 28, 22, 53,\n",
       "       24, 21, 42, 44, 46, 39, 43, 50, 26, 48, 55, 45, 56, 23, 51, 40, 54,\n",
       "       58, 20, 25, 19, 57, 52, 47, 18, 60], dtype=int64)"
      ]
     },
     "execution_count": 12,
     "metadata": {},
     "output_type": "execute_result"
    }
   ],
   "source": [
    "df['Age'].unique()"
   ]
  },
  {
   "cell_type": "code",
   "execution_count": 13,
   "id": "83d5b2d1",
   "metadata": {},
   "outputs": [],
   "source": [
    "df.drop(['EmployeeCount','EmployeeNumber'],axis=1,inplace=True)"
   ]
  },
  {
   "cell_type": "markdown",
   "id": "3d761b25",
   "metadata": {},
   "source": [
    "### These columns can be dropped because these columns wont effect the attrition in any way."
   ]
  },
  {
   "cell_type": "markdown",
   "id": "3afc0202",
   "metadata": {},
   "source": [
    "## EDA"
   ]
  },
  {
   "cell_type": "markdown",
   "id": "0f6040bf",
   "metadata": {},
   "source": [
    "## Independent Analysis"
   ]
  },
  {
   "cell_type": "code",
   "execution_count": 14,
   "id": "70e31ffa",
   "metadata": {},
   "outputs": [
    {
     "data": {
      "text/plain": [
       "<AxesSubplot:xlabel='Attrition', ylabel='count'>"
      ]
     },
     "execution_count": 14,
     "metadata": {},
     "output_type": "execute_result"
    },
    {
     "data": {
      "image/png": "[encoded data removed]",
      "text/plain": [
       "<Figure size 432x288 with 1 Axes>"
      ]
     },
     "metadata": {
      "needs_background": "light"
     },
     "output_type": "display_data"
    }
   ],
   "source": [
    "sns.countplot(df['Attrition'])"
   ]
  },
  {
   "cell_type": "markdown",
   "id": "6db17194",
   "metadata": {},
   "source": [
    "### There is a class imbalance in the data. We should to Sampling for this column to get equal output values."
   ]
  },
  {
   "cell_type": "code",
   "execution_count": 16,
   "id": "c48b5d47",
   "metadata": {},
   "outputs": [
    {
     "data": {
      "text/plain": [
       "<AxesSubplot:xlabel='BusinessTravel', ylabel='count'>"
      ]
     },
     "execution_count": 16,
     "metadata": {},
     "output_type": "execute_result"
    },
    {
     "data": {
      "image/png": "[encoded data removed]",
      "text/plain": [
       "<Figure size 432x288 with 1 Axes>"
      ]
     },
     "metadata": {
      "needs_background": "light"
     },
     "output_type": "display_data"
    }
   ],
   "source": [
    "sns.countplot(df['BusinessTravel'])"
   ]
  },
  {
   "cell_type": "markdown",
   "id": "2037b4e6",
   "metadata": {},
   "source": [
    "### From the data, we can see most of the employees travels very rarely."
   ]
  },
  {
   "cell_type": "code",
   "execution_count": 18,
   "id": "1f45968f",
   "metadata": {},
   "outputs": [
    {
     "data": {
      "text/plain": [
       "<AxesSubplot:xlabel='Department', ylabel='count'>"
      ]
     },
     "execution_count": 18,
     "metadata": {},
     "output_type": "execute_result"
    },
    {
     "data": {
      "image/png": "[encoded data removed]",
      "text/plain": [
       "<Figure size 432x288 with 1 Axes>"
      ]
     },
     "metadata": {
      "needs_background": "light"
     },
     "output_type": "display_data"
    }
   ],
   "source": [
    "sns.countplot(df['Department'])"
   ]
  },
  {
   "cell_type": "markdown",
   "id": "d5378ed4",
   "metadata": {},
   "source": [
    "### Most of the Employees works in Research and Development Department."
   ]
  },
  {
   "cell_type": "code",
   "execution_count": 20,
   "id": "7add2738",
   "metadata": {},
   "outputs": [
    {
     "data": {
      "text/plain": [
       "<AxesSubplot:xlabel='EducationField', ylabel='count'>"
      ]
     },
     "execution_count": 20,
     "metadata": {},
     "output_type": "execute_result"
    },
    {
     "data": {
      "image/png": "[encoded data removed]",
      "text/plain": [
       "<Figure size 432x288 with 1 Axes>"
      ]
     },
     "metadata": {
      "needs_background": "light"
     },
     "output_type": "display_data"
    }
   ],
   "source": [
    "sns.countplot(df['EducationField'])"
   ]
  },
  {
   "cell_type": "markdown",
   "id": "f030d051",
   "metadata": {},
   "source": [
    "### Most of the employees are from Life sciences and Medical Department."
   ]
  },
  {
   "cell_type": "markdown",
   "id": "e69fc47b",
   "metadata": {},
   "source": [
    "### We can divide the Education column like follows\n",
    "### 1 - studied upto Diploma\n",
    "### 2 - studied upto Bachelor Degree\n",
    "### 3 - studied upto Engineering Degree\n",
    "### 4 - studied upto Masters\n",
    "### 5 - studied upto PG\n",
    "## The above are only assumptions since it is not mentioned in the dataset"
   ]
  },
  {
   "cell_type": "code",
   "execution_count": 23,
   "id": "1676a42e",
   "metadata": {},
   "outputs": [
    {
     "data": {
      "text/plain": [
       "<AxesSubplot:xlabel='Education', ylabel='count'>"
      ]
     },
     "execution_count": 23,
     "metadata": {},
     "output_type": "execute_result"
    },
    {
     "data": {
      "image/png": "[encoded data removed]",
      "text/plain": [
       "<Figure size 432x288 with 1 Axes>"
      ]
     },
     "metadata": {
      "needs_background": "light"
     },
     "output_type": "display_data"
    }
   ],
   "source": [
    "sns.countplot(df['Education'])"
   ]
  },
  {
   "cell_type": "markdown",
   "id": "310f5f5b",
   "metadata": {},
   "source": [
    "### Many of the employees studied till engineering"
   ]
  },
  {
   "cell_type": "code",
   "execution_count": 25,
   "id": "43621880",
   "metadata": {},
   "outputs": [
    {
     "data": {
      "text/plain": [
       "<AxesSubplot:xlabel='RelationshipSatisfaction', ylabel='count'>"
      ]
     },
     "execution_count": 25,
     "metadata": {},
     "output_type": "execute_result"
    },
    {
     "data": {
      "image/png": "[encoded data removed]",
      "text/plain": [
       "<Figure size 432x288 with 1 Axes>"
      ]
     },
     "metadata": {
      "needs_background": "light"
     },
     "output_type": "display_data"
    }
   ],
   "source": [
    "sns.countplot(df['RelationshipSatisfaction'])"
   ]
  },
  {
   "cell_type": "markdown",
   "id": "ba8fe9ec",
   "metadata": {},
   "source": [
    "### Most of the employees are having almost satisfied relationship."
   ]
  },
  {
   "cell_type": "code",
   "execution_count": 27,
   "id": "4f5cc353",
   "metadata": {},
   "outputs": [
    {
     "data": {
      "text/plain": [
       "<AxesSubplot:xlabel='Gender', ylabel='count'>"
      ]
     },
     "execution_count": 27,
     "metadata": {},
     "output_type": "execute_result"
    },
    {
     "data": {
      "image/png": "[encoded data removed]",
      "text/plain": [
       "<Figure size 432x288 with 1 Axes>"
      ]
     },
     "metadata": {
      "needs_background": "light"
     },
     "output_type": "display_data"
    }
   ],
   "source": [
    "sns.countplot(df['Gender'])"
   ]
  },
  {
   "cell_type": "markdown",
   "id": "f38284c3",
   "metadata": {},
   "source": [
    "### There are more Male employees in the company."
   ]
  },
  {
   "cell_type": "code",
   "execution_count": 29,
   "id": "ee863b5a",
   "metadata": {},
   "outputs": [
    {
     "data": {
      "text/plain": [
       "<AxesSubplot:xlabel='EnvironmentSatisfaction', ylabel='count'>"
      ]
     },
     "execution_count": 29,
     "metadata": {},
     "output_type": "execute_result"
    },
    {
     "data": {
      "image/png": "[encoded data removed]",
      "text/plain": [
       "<Figure size 432x288 with 1 Axes>"
      ]
     },
     "metadata": {
      "needs_background": "light"
     },
     "output_type": "display_data"
    }
   ],
   "source": [
    "sns.countplot(df['EnvironmentSatisfaction'])"
   ]
  },
  {
   "cell_type": "markdown",
   "id": "04d20ac3",
   "metadata": {},
   "source": [
    "### Most of the employees are almost satisfied with Company's Environment."
   ]
  },
  {
   "cell_type": "code",
   "execution_count": 31,
   "id": "83a57206",
   "metadata": {},
   "outputs": [
    {
     "data": {
      "text/plain": [
       "<AxesSubplot:xlabel='JobInvolvement', ylabel='count'>"
      ]
     },
     "execution_count": 31,
     "metadata": {},
     "output_type": "execute_result"
    },
    {
     "data": {
      "image/png": "[encoded data removed]",
      "text/plain": [
       "<Figure size 432x288 with 1 Axes>"
      ]
     },
     "metadata": {
      "needs_background": "light"
     },
     "output_type": "display_data"
    }
   ],
   "source": [
    "sns.countplot(df['JobInvolvement'])"
   ]
  },
  {
   "cell_type": "markdown",
   "id": "deae2524",
   "metadata": {},
   "source": [
    "### Most of the employees are averagely involved in their jobs."
   ]
  },
  {
   "cell_type": "code",
   "execution_count": 33,
   "id": "e1846c86",
   "metadata": {},
   "outputs": [
    {
     "data": {
      "text/plain": [
       "<AxesSubplot:xlabel='JobLevel', ylabel='count'>"
      ]
     },
     "execution_count": 33,
     "metadata": {},
     "output_type": "execute_result"
    },
    {
     "data": {
      "image/png": "[encoded data removed]",
      "text/plain": [
       "<Figure size 432x288 with 1 Axes>"
      ]
     },
     "metadata": {
      "needs_background": "light"
     },
     "output_type": "display_data"
    }
   ],
   "source": [
    "sns.countplot(df['JobLevel'])"
   ]
  },
  {
   "cell_type": "markdown",
   "id": "cb9d28d7",
   "metadata": {},
   "source": [
    "### Most of the employees are in the basic level of job."
   ]
  },
  {
   "cell_type": "code",
   "execution_count": 35,
   "id": "f00150ec",
   "metadata": {},
   "outputs": [
    {
     "data": {
      "text/plain": [
       "<AxesSubplot:xlabel='JobRole', ylabel='count'>"
      ]
     },
     "execution_count": 35,
     "metadata": {},
     "output_type": "execute_result"
    },
    {
     "data": {
      "image/png": "[encoded data removed]",
      "text/plain": [
       "<Figure size 1368x360 with 1 Axes>"
      ]
     },
     "metadata": {
      "needs_background": "light"
     },
     "output_type": "display_data"
    }
   ],
   "source": [
    "plt.figure(figsize=(19,5))\n",
    "sns.countplot(df['JobRole'])"
   ]
  },
  {
   "cell_type": "markdown",
   "id": "fa0852af",
   "metadata": {},
   "source": [
    "### Sales Executives, Research Scientist, Laboratory Technician are more in number in the company where HR's are less."
   ]
  },
  {
   "cell_type": "code",
   "execution_count": 37,
   "id": "ddf08d25",
   "metadata": {},
   "outputs": [
    {
     "data": {
      "text/plain": [
       "<AxesSubplot:xlabel='JobSatisfaction', ylabel='count'>"
      ]
     },
     "execution_count": 37,
     "metadata": {},
     "output_type": "execute_result"
    },
    {
     "data": {
      "image/png": "[encoded data removed]",
      "text/plain": [
       "<Figure size 432x288 with 1 Axes>"
      ]
     },
     "metadata": {
      "needs_background": "light"
     },
     "output_type": "display_data"
    }
   ],
   "source": [
    "sns.countplot(df['JobSatisfaction'])"
   ]
  },
  {
   "cell_type": "markdown",
   "id": "0747f1db",
   "metadata": {},
   "source": [
    "### Most of the employees are satisfied with their jobs."
   ]
  },
  {
   "cell_type": "code",
   "execution_count": 39,
   "id": "6f33b98f",
   "metadata": {},
   "outputs": [
    {
     "data": {
      "text/plain": [
       "<AxesSubplot:xlabel='MaritalStatus', ylabel='count'>"
      ]
     },
     "execution_count": 39,
     "metadata": {},
     "output_type": "execute_result"
    },
    {
     "data": {
      "image/png": "[encoded data removed]",
      "text/plain": [
       "<Figure size 432x288 with 1 Axes>"
      ]
     },
     "metadata": {
      "needs_background": "light"
     },
     "output_type": "display_data"
    }
   ],
   "source": [
    "sns.countplot(df['MaritalStatus'])"
   ]
  },
  {
   "cell_type": "markdown",
   "id": "7dd1458c",
   "metadata": {},
   "source": [
    "### There are mostly married and single employees in the company."
   ]
  },
  {
   "cell_type": "code",
   "execution_count": 41,
   "id": "6240868c",
   "metadata": {},
   "outputs": [
    {
     "data": {
      "text/plain": [
       "<AxesSubplot:xlabel='Over18', ylabel='count'>"
      ]
     },
     "execution_count": 41,
     "metadata": {},
     "output_type": "execute_result"
    },
    {
     "data": {
      "image/png": "[encoded data removed]",
      "text/plain": [
       "<Figure size 432x288 with 1 Axes>"
      ]
     },
     "metadata": {
      "needs_background": "light"
     },
     "output_type": "display_data"
    }
   ],
   "source": [
    "sns.countplot(df['Over18'])"
   ]
  },
  {
   "cell_type": "markdown",
   "id": "c60f0c13",
   "metadata": {},
   "source": [
    "### We can drop this column since everyone is above 18."
   ]
  },
  {
   "cell_type": "code",
   "execution_count": 43,
   "id": "80138ab4",
   "metadata": {},
   "outputs": [
    {
     "data": {
      "text/plain": [
       "<AxesSubplot:xlabel='OverTime', ylabel='count'>"
      ]
     },
     "execution_count": 43,
     "metadata": {},
     "output_type": "execute_result"
    },
    {
     "data": {
      "image/png": "[encoded data removed]",
      "text/plain": [
       "<Figure size 432x288 with 1 Axes>"
      ]
     },
     "metadata": {
      "needs_background": "light"
     },
     "output_type": "display_data"
    }
   ],
   "source": [
    "sns.countplot(df['OverTime'])"
   ]
  },
  {
   "cell_type": "markdown",
   "id": "7b5b7711",
   "metadata": {},
   "source": [
    "### Only Less than half of employees are doing overtime."
   ]
  },
  {
   "cell_type": "code",
   "execution_count": 45,
   "id": "99ce9b37",
   "metadata": {},
   "outputs": [
    {
     "data": {
      "text/plain": [
       "<AxesSubplot:xlabel='PerformanceRating', ylabel='count'>"
      ]
     },
     "execution_count": 45,
     "metadata": {},
     "output_type": "execute_result"
    },
    {
     "data": {
      "image/png": "[encoded data removed]",
      "text/plain": [
       "<Figure size 432x288 with 1 Axes>"
      ]
     },
     "metadata": {
      "needs_background": "light"
     },
     "output_type": "display_data"
    }
   ],
   "source": [
    "sns.countplot(df['PerformanceRating'])"
   ]
  },
  {
   "cell_type": "markdown",
   "id": "049cddbe",
   "metadata": {},
   "source": [
    "### Maximum number of employees are averagely rated."
   ]
  },
  {
   "cell_type": "code",
   "execution_count": 47,
   "id": "19c592a1",
   "metadata": {},
   "outputs": [
    {
     "data": {
      "text/plain": [
       "<AxesSubplot:xlabel='StockOptionLevel', ylabel='count'>"
      ]
     },
     "execution_count": 47,
     "metadata": {},
     "output_type": "execute_result"
    },
    {
     "data": {
      "image/png": "[encoded data removed]",
      "text/plain": [
       "<Figure size 432x288 with 1 Axes>"
      ]
     },
     "metadata": {
      "needs_background": "light"
     },
     "output_type": "display_data"
    }
   ],
   "source": [
    "sns.countplot(df['StockOptionLevel'])"
   ]
  },
  {
   "cell_type": "markdown",
   "id": "6de2e16f",
   "metadata": {},
   "source": [
    "### Most of the employees are with least stock options."
   ]
  },
  {
   "cell_type": "code",
   "execution_count": 49,
   "id": "2c7c3406",
   "metadata": {},
   "outputs": [
    {
     "data": {
      "text/plain": [
       "<AxesSubplot:xlabel='TrainingTimesLastYear', ylabel='count'>"
      ]
     },
     "execution_count": 49,
     "metadata": {},
     "output_type": "execute_result"
    },
    {
     "data": {
      "image/png": "[encoded data removed]",
      "text/plain": [
       "<Figure size 432x288 with 1 Axes>"
      ]
     },
     "metadata": {
      "needs_background": "light"
     },
     "output_type": "display_data"
    }
   ],
   "source": [
    "sns.countplot(df['TrainingTimesLastYear'])"
   ]
  },
  {
   "cell_type": "markdown",
   "id": "cfbb46f7",
   "metadata": {},
   "source": [
    "### Training has been conducted 2-3 times to most of the employees."
   ]
  },
  {
   "cell_type": "code",
   "execution_count": 51,
   "id": "33405de5",
   "metadata": {},
   "outputs": [
    {
     "data": {
      "text/plain": [
       "<AxesSubplot:xlabel='WorkLifeBalance', ylabel='count'>"
      ]
     },
     "execution_count": 51,
     "metadata": {},
     "output_type": "execute_result"
    },
    {
     "data": {
      "image/png": "[encoded data removed]",
      "text/plain": [
       "<Figure size 432x288 with 1 Axes>"
      ]
     },
     "metadata": {
      "needs_background": "light"
     },
     "output_type": "display_data"
    }
   ],
   "source": [
    "sns.countplot(df['WorkLifeBalance'])"
   ]
  },
  {
   "cell_type": "markdown",
   "id": "b6c63579",
   "metadata": {},
   "source": [
    "### Most of the employees think their work life balance is average."
   ]
  },
  {
   "cell_type": "markdown",
   "id": "4a370099",
   "metadata": {},
   "source": [
    "## Analysis with respect to Attrition."
   ]
  },
  {
   "cell_type": "code",
   "execution_count": 54,
   "id": "23e554a1",
   "metadata": {},
   "outputs": [
    {
     "data": {
      "text/plain": [
       "<AxesSubplot:xlabel='BusinessTravel', ylabel='count'>"
      ]
     },
     "execution_count": 54,
     "metadata": {},
     "output_type": "execute_result"
    },
    {
     "data": {
      "image/png": "[encoded data removed]",
      "text/plain": [
       "<Figure size 432x288 with 1 Axes>"
      ]
     },
     "metadata": {
      "needs_background": "light"
     },
     "output_type": "display_data"
    }
   ],
   "source": [
    "sns.countplot(df['BusinessTravel'],hue=df['Attrition'])"
   ]
  },
  {
   "cell_type": "markdown",
   "id": "96a28dc8",
   "metadata": {},
   "source": [
    "### Those who travel rarely has more tendency to leave the job."
   ]
  },
  {
   "cell_type": "code",
   "execution_count": 56,
   "id": "166355cc",
   "metadata": {},
   "outputs": [
    {
     "data": {
      "text/plain": [
       "<AxesSubplot:xlabel='Department', ylabel='count'>"
      ]
     },
     "execution_count": 56,
     "metadata": {},
     "output_type": "execute_result"
    },
    {
     "data": {
      "image/png": "[encoded data removed]",
      "text/plain": [
       "<Figure size 432x288 with 1 Axes>"
      ]
     },
     "metadata": {
      "needs_background": "light"
     },
     "output_type": "display_data"
    }
   ],
   "source": [
    "sns.countplot(df['Department'],hue=df['Attrition'])"
   ]
  },
  {
   "cell_type": "markdown",
   "id": "42a8b81a",
   "metadata": {},
   "source": [
    "### People from Research and Development department are more likely to leave the company."
   ]
  },
  {
   "cell_type": "code",
   "execution_count": 58,
   "id": "9efc8823",
   "metadata": {},
   "outputs": [
    {
     "data": {
      "text/plain": [
       "<AxesSubplot:xlabel='EnvironmentSatisfaction', ylabel='count'>"
      ]
     },
     "execution_count": 58,
     "metadata": {},
     "output_type": "execute_result"
    },
    {
     "data": {
      "image/png": "[encoded data removed]",
      "text/plain": [
       "<Figure size 432x288 with 1 Axes>"
      ]
     },
     "metadata": {
      "needs_background": "light"
     },
     "output_type": "display_data"
    }
   ],
   "source": [
    "sns.countplot(df['EnvironmentSatisfaction'],hue=df['Attrition'])"
   ]
  },
  {
   "cell_type": "markdown",
   "id": "6498879f",
   "metadata": {},
   "source": [
    "### Environmental satisfaction is not making a significant cause to attrition."
   ]
  },
  {
   "cell_type": "code",
   "execution_count": 60,
   "id": "210d1e7f",
   "metadata": {},
   "outputs": [
    {
     "data": {
      "text/plain": [
       "<AxesSubplot:xlabel='JobInvolvement', ylabel='count'>"
      ]
     },
     "execution_count": 60,
     "metadata": {},
     "output_type": "execute_result"
    },
    {
     "data": {
      "image/png": "[encoded data removed]",
      "text/plain": [
       "<Figure size 432x288 with 1 Axes>"
      ]
     },
     "metadata": {
      "needs_background": "light"
     },
     "output_type": "display_data"
    }
   ],
   "source": [
    "sns.countplot(df['JobInvolvement'],hue=df['Attrition'])"
   ]
  },
  {
   "cell_type": "markdown",
   "id": "a680f23f",
   "metadata": {},
   "source": [
    "### Employees with less job involvement tends to leave the company."
   ]
  },
  {
   "cell_type": "code",
   "execution_count": 62,
   "id": "eae03a3f",
   "metadata": {},
   "outputs": [
    {
     "data": {
      "text/plain": [
       "<AxesSubplot:xlabel='JobLevel', ylabel='count'>"
      ]
     },
     "execution_count": 62,
     "metadata": {},
     "output_type": "execute_result"
    },
    {
     "data": {
      "image/png": "[encoded data removed]",
      "text/plain": [
       "<Figure size 432x288 with 1 Axes>"
      ]
     },
     "metadata": {
      "needs_background": "light"
     },
     "output_type": "display_data"
    }
   ],
   "source": [
    "sns.countplot(df['JobLevel'],hue=df['Attrition'])"
   ]
  },
  {
   "cell_type": "markdown",
   "id": "b65c80ce",
   "metadata": {},
   "source": [
    "### Employees with basic job level tends to leave the company to get high job levels."
   ]
  },
  {
   "cell_type": "code",
   "execution_count": 64,
   "id": "8a9f0f76",
   "metadata": {},
   "outputs": [
    {
     "data": {
      "text/plain": [
       "<AxesSubplot:xlabel='JobRole', ylabel='count'>"
      ]
     },
     "execution_count": 64,
     "metadata": {},
     "output_type": "execute_result"
    },
    {
     "data": {
      "image/png": "[encoded data removed]",
      "text/plain": [
       "<Figure size 1368x360 with 1 Axes>"
      ]
     },
     "metadata": {
      "needs_background": "light"
     },
     "output_type": "display_data"
    }
   ],
   "source": [
    "plt.figure(figsize=(19,5))\n",
    "sns.countplot(df['JobRole'],hue=df['Attrition'])"
   ]
  },
  {
   "cell_type": "markdown",
   "id": "ee05f756",
   "metadata": {},
   "source": [
    "### Most of the sales representatives are tend to leave the job."
   ]
  },
  {
   "cell_type": "code",
   "execution_count": 66,
   "id": "54ccc5c2",
   "metadata": {},
   "outputs": [
    {
     "data": {
      "text/plain": [
       "<AxesSubplot:xlabel='JobSatisfaction', ylabel='count'>"
      ]
     },
     "execution_count": 66,
     "metadata": {},
     "output_type": "execute_result"
    },
    {
     "data": {
      "image/png": "[encoded data removed]",
      "text/plain": [
       "<Figure size 432x288 with 1 Axes>"
      ]
     },
     "metadata": {
      "needs_background": "light"
     },
     "output_type": "display_data"
    }
   ],
   "source": [
    "sns.countplot(df['JobSatisfaction'],hue=df['Attrition'])"
   ]
  },
  {
   "cell_type": "markdown",
   "id": "06c681df",
   "metadata": {},
   "source": [
    "### Job Satisfaction is also not making much impact on attrition."
   ]
  },
  {
   "cell_type": "code",
   "execution_count": 68,
   "id": "9b559ff9",
   "metadata": {},
   "outputs": [
    {
     "data": {
      "text/plain": [
       "<AxesSubplot:xlabel='MaritalStatus', ylabel='count'>"
      ]
     },
     "execution_count": 68,
     "metadata": {},
     "output_type": "execute_result"
    },
    {
     "data": {
      "image/png": "[encoded data removed]",
      "text/plain": [
       "<Figure size 432x288 with 1 Axes>"
      ]
     },
     "metadata": {
      "needs_background": "light"
     },
     "output_type": "display_data"
    }
   ],
   "source": [
    "sns.countplot(df['MaritalStatus'],hue=df['Attrition'])"
   ]
  },
  {
   "cell_type": "markdown",
   "id": "3e7b8456",
   "metadata": {},
   "source": [
    "### Most of single employees tends to leave the company."
   ]
  },
  {
   "cell_type": "code",
   "execution_count": 70,
   "id": "92c83d4b",
   "metadata": {},
   "outputs": [
    {
     "data": {
      "text/plain": [
       "<AxesSubplot:xlabel='OverTime', ylabel='count'>"
      ]
     },
     "execution_count": 70,
     "metadata": {},
     "output_type": "execute_result"
    },
    {
     "data": {
      "image/png": "[encoded data removed]",
      "text/plain": [
       "<Figure size 432x288 with 1 Axes>"
      ]
     },
     "metadata": {
      "needs_background": "light"
     },
     "output_type": "display_data"
    }
   ],
   "source": [
    "sns.countplot(df['OverTime'],hue=df['Attrition'])"
   ]
  },
  {
   "cell_type": "markdown",
   "id": "76274142",
   "metadata": {},
   "source": [
    "### Employees doing overtime tends to leave the company."
   ]
  },
  {
   "cell_type": "code",
   "execution_count": 72,
   "id": "52c34735",
   "metadata": {},
   "outputs": [
    {
     "data": {
      "text/plain": [
       "<AxesSubplot:xlabel='WorkLifeBalance', ylabel='count'>"
      ]
     },
     "execution_count": 72,
     "metadata": {},
     "output_type": "execute_result"
    },
    {
     "data": {
      "image/png": "[encoded data removed]",
      "text/plain": [
       "<Figure size 432x288 with 1 Axes>"
      ]
     },
     "metadata": {
      "needs_background": "light"
     },
     "output_type": "display_data"
    }
   ],
   "source": [
    "sns.countplot(df['WorkLifeBalance'],hue=df['Attrition'])"
   ]
  },
  {
   "cell_type": "markdown",
   "id": "947968d6",
   "metadata": {},
   "source": [
    "### Employees with less worklife balance are tend to leave the company."
   ]
  },
  {
   "cell_type": "markdown",
   "id": "565dcaff",
   "metadata": {},
   "source": [
    "## Analysis of Continuous values with respect to Attrition"
   ]
  },
  {
   "cell_type": "code",
   "execution_count": 75,
   "id": "e2d4c68e",
   "metadata": {},
   "outputs": [
    {
     "data": {
      "text/html": [
       "<div>\n",
       "<style scoped>\n",
       "    .dataframe tbody tr th:only-of-type {\n",
       "        vertical-align: middle;\n",
       "    }\n",
       "\n",
       "    .dataframe tbody tr th {\n",
       "        vertical-align: top;\n",
       "    }\n",
       "\n",
       "    .dataframe thead th {\n",
       "        text-align: right;\n",
       "    }\n",
       "</style>\n",
       "<table border=\"1\" class=\"dataframe\">\n",
       "  <thead>\n",
       "    <tr style=\"text-align: right;\">\n",
       "      <th></th>\n",
       "      <th>Age</th>\n",
       "      <th>Attrition</th>\n",
       "      <th>BusinessTravel</th>\n",
       "      <th>DailyRate</th>\n",
       "      <th>Department</th>\n",
       "      <th>DistanceFromHome</th>\n",
       "      <th>Education</th>\n",
       "      <th>EducationField</th>\n",
       "      <th>EnvironmentSatisfaction</th>\n",
       "      <th>Gender</th>\n",
       "      <th>...</th>\n",
       "      <th>RelationshipSatisfaction</th>\n",
       "      <th>StandardHours</th>\n",
       "      <th>StockOptionLevel</th>\n",
       "      <th>TotalWorkingYears</th>\n",
       "      <th>TrainingTimesLastYear</th>\n",
       "      <th>WorkLifeBalance</th>\n",
       "      <th>YearsAtCompany</th>\n",
       "      <th>YearsInCurrentRole</th>\n",
       "      <th>YearsSinceLastPromotion</th>\n",
       "      <th>YearsWithCurrManager</th>\n",
       "    </tr>\n",
       "  </thead>\n",
       "  <tbody>\n",
       "    <tr>\n",
       "      <th>0</th>\n",
       "      <td>41</td>\n",
       "      <td>Yes</td>\n",
       "      <td>Travel_Rarely</td>\n",
       "      <td>1102</td>\n",
       "      <td>Sales</td>\n",
       "      <td>1</td>\n",
       "      <td>2</td>\n",
       "      <td>Life Sciences</td>\n",
       "      <td>2</td>\n",
       "      <td>Female</td>\n",
       "      <td>...</td>\n",
       "      <td>1</td>\n",
       "      <td>80</td>\n",
       "      <td>0</td>\n",
       "      <td>8</td>\n",
       "      <td>0</td>\n",
       "      <td>1</td>\n",
       "      <td>6</td>\n",
       "      <td>4</td>\n",
       "      <td>0</td>\n",
       "      <td>5</td>\n",
       "    </tr>\n",
       "    <tr>\n",
       "      <th>1</th>\n",
       "      <td>49</td>\n",
       "      <td>No</td>\n",
       "      <td>Travel_Frequently</td>\n",
       "      <td>279</td>\n",
       "      <td>Research &amp; Development</td>\n",
       "      <td>8</td>\n",
       "      <td>1</td>\n",
       "      <td>Life Sciences</td>\n",
       "      <td>3</td>\n",
       "      <td>Male</td>\n",
       "      <td>...</td>\n",
       "      <td>4</td>\n",
       "      <td>80</td>\n",
       "      <td>1</td>\n",
       "      <td>10</td>\n",
       "      <td>3</td>\n",
       "      <td>3</td>\n",
       "      <td>10</td>\n",
       "      <td>7</td>\n",
       "      <td>1</td>\n",
       "      <td>7</td>\n",
       "    </tr>\n",
       "    <tr>\n",
       "      <th>2</th>\n",
       "      <td>37</td>\n",
       "      <td>Yes</td>\n",
       "      <td>Travel_Rarely</td>\n",
       "      <td>1373</td>\n",
       "      <td>Research &amp; Development</td>\n",
       "      <td>2</td>\n",
       "      <td>2</td>\n",
       "      <td>Other</td>\n",
       "      <td>4</td>\n",
       "      <td>Male</td>\n",
       "      <td>...</td>\n",
       "      <td>2</td>\n",
       "      <td>80</td>\n",
       "      <td>0</td>\n",
       "      <td>7</td>\n",
       "      <td>3</td>\n",
       "      <td>3</td>\n",
       "      <td>0</td>\n",
       "      <td>0</td>\n",
       "      <td>0</td>\n",
       "      <td>0</td>\n",
       "    </tr>\n",
       "    <tr>\n",
       "      <th>3</th>\n",
       "      <td>33</td>\n",
       "      <td>No</td>\n",
       "      <td>Travel_Frequently</td>\n",
       "      <td>1392</td>\n",
       "      <td>Research &amp; Development</td>\n",
       "      <td>3</td>\n",
       "      <td>4</td>\n",
       "      <td>Life Sciences</td>\n",
       "      <td>4</td>\n",
       "      <td>Female</td>\n",
       "      <td>...</td>\n",
       "      <td>3</td>\n",
       "      <td>80</td>\n",
       "      <td>0</td>\n",
       "      <td>8</td>\n",
       "      <td>3</td>\n",
       "      <td>3</td>\n",
       "      <td>8</td>\n",
       "      <td>7</td>\n",
       "      <td>3</td>\n",
       "      <td>0</td>\n",
       "    </tr>\n",
       "    <tr>\n",
       "      <th>4</th>\n",
       "      <td>27</td>\n",
       "      <td>No</td>\n",
       "      <td>Travel_Rarely</td>\n",
       "      <td>591</td>\n",
       "      <td>Research &amp; Development</td>\n",
       "      <td>2</td>\n",
       "      <td>1</td>\n",
       "      <td>Medical</td>\n",
       "      <td>1</td>\n",
       "      <td>Male</td>\n",
       "      <td>...</td>\n",
       "      <td>4</td>\n",
       "      <td>80</td>\n",
       "      <td>1</td>\n",
       "      <td>6</td>\n",
       "      <td>3</td>\n",
       "      <td>3</td>\n",
       "      <td>2</td>\n",
       "      <td>2</td>\n",
       "      <td>2</td>\n",
       "      <td>2</td>\n",
       "    </tr>\n",
       "  </tbody>\n",
       "</table>\n",
       "<p>5 rows × 33 columns</p>\n",
       "</div>"
      ],
      "text/plain": [
       "   Age Attrition     BusinessTravel  DailyRate              Department  \\\n",
       "0   41       Yes      Travel_Rarely       1102                   Sales   \n",
       "1   49        No  Travel_Frequently        279  Research & Development   \n",
       "2   37       Yes      Travel_Rarely       1373  Research & Development   \n",
       "3   33        No  Travel_Frequently       1392  Research & Development   \n",
       "4   27        No      Travel_Rarely        591  Research & Development   \n",
       "\n",
       "   DistanceFromHome  Education EducationField  EnvironmentSatisfaction  \\\n",
       "0                 1          2  Life Sciences                        2   \n",
       "1                 8          1  Life Sciences                        3   \n",
       "2                 2          2          Other                        4   \n",
       "3                 3          4  Life Sciences                        4   \n",
       "4                 2          1        Medical                        1   \n",
       "\n",
       "   Gender  ...  RelationshipSatisfaction  StandardHours  StockOptionLevel  \\\n",
       "0  Female  ...                         1             80                 0   \n",
       "1    Male  ...                         4             80                 1   \n",
       "2    Male  ...                         2             80                 0   \n",
       "3  Female  ...                         3             80                 0   \n",
       "4    Male  ...                         4             80                 1   \n",
       "\n",
       "  TotalWorkingYears  TrainingTimesLastYear WorkLifeBalance  YearsAtCompany  \\\n",
       "0                 8                      0               1               6   \n",
       "1                10                      3               3              10   \n",
       "2                 7                      3               3               0   \n",
       "3                 8                      3               3               8   \n",
       "4                 6                      3               3               2   \n",
       "\n",
       "   YearsInCurrentRole  YearsSinceLastPromotion YearsWithCurrManager  \n",
       "0                   4                        0                    5  \n",
       "1                   7                        1                    7  \n",
       "2                   0                        0                    0  \n",
       "3                   7                        3                    0  \n",
       "4                   2                        2                    2  \n",
       "\n",
       "[5 rows x 33 columns]"
      ]
     },
     "execution_count": 75,
     "metadata": {},
     "output_type": "execute_result"
    }
   ],
   "source": [
    "df1=df\n",
    "df1.head()"
   ]
  },
  {
   "cell_type": "code",
   "execution_count": 76,
   "id": "259d385e",
   "metadata": {},
   "outputs": [
    {
     "name": "stdout",
     "output_type": "stream",
     "text": [
      "1499\n",
      "802.4857142857143\n",
      "102\n"
     ]
    }
   ],
   "source": [
    "print(df1['DailyRate'].max())\n",
    "print(df1['DailyRate'].mean())\n",
    "print(df1['DailyRate'].min())"
   ]
  },
  {
   "cell_type": "code",
   "execution_count": 77,
   "id": "32b1a71d",
   "metadata": {},
   "outputs": [],
   "source": [
    "df1.loc[(df1.DailyRate>=102) & (df1.DailyRate<452), 'DailyRate'] = (102+452)/2\n",
    "df1.loc[(df1.DailyRate>=452) & (df1.DailyRate<1152), 'DailyRate'] = 802\n",
    "df1.loc[(df1.DailyRate>=1152) & (df1.DailyRate<=1499), 'DailyRate']= (1152+1499)/2"
   ]
  },
  {
   "cell_type": "code",
   "execution_count": 78,
   "id": "ecd6b58c",
   "metadata": {},
   "outputs": [
    {
     "data": {
      "text/plain": [
       "<AxesSubplot:xlabel='DailyRate', ylabel='count'>"
      ]
     },
     "execution_count": 78,
     "metadata": {},
     "output_type": "execute_result"
    },
    {
     "data": {
      "image/png": "[encoded data removed]",
      "text/plain": [
       "<Figure size 432x288 with 1 Axes>"
      ]
     },
     "metadata": {
      "needs_background": "light"
     },
     "output_type": "display_data"
    }
   ],
   "source": [
    "sns.countplot(df1['DailyRate'],hue=df1['Attrition'])"
   ]
  },
  {
   "cell_type": "markdown",
   "id": "cd30c583",
   "metadata": {},
   "source": [
    "### Employees with low DailyRate tends to leave the company"
   ]
  },
  {
   "cell_type": "code",
   "execution_count": 80,
   "id": "87f29e92",
   "metadata": {},
   "outputs": [
    {
     "name": "stdout",
     "output_type": "stream",
     "text": [
      "29\n",
      "9.19251700680272\n",
      "1\n"
     ]
    }
   ],
   "source": [
    "print(df1['DistanceFromHome'].max())\n",
    "print(df1['DistanceFromHome'].mean())\n",
    "print(df1['DistanceFromHome'].min())"
   ]
  },
  {
   "cell_type": "code",
   "execution_count": 81,
   "id": "2e67ad61",
   "metadata": {},
   "outputs": [],
   "source": [
    "df1.loc[(df1.DistanceFromHome>=1) & (df1.DistanceFromHome<6), 'DistanceFromHome'] = 4\n",
    "df1.loc[(df1.DistanceFromHome>=6) & (df1.DistanceFromHome<15), 'DistanceFromHome'] = 10\n",
    "df1.loc[(df1.DistanceFromHome>=15) & (df1.DistanceFromHome<=29), 'DistanceFromHome']= 20"
   ]
  },
  {
   "cell_type": "code",
   "execution_count": 82,
   "id": "cadfe233",
   "metadata": {},
   "outputs": [
    {
     "data": {
      "text/plain": [
       "<AxesSubplot:xlabel='DistanceFromHome', ylabel='count'>"
      ]
     },
     "execution_count": 82,
     "metadata": {},
     "output_type": "execute_result"
    },
    {
     "data": {
      "image/png": "[encoded data removed]",
      "text/plain": [
       "<Figure size 432x288 with 1 Axes>"
      ]
     },
     "metadata": {
      "needs_background": "light"
     },
     "output_type": "display_data"
    }
   ],
   "source": [
    "sns.countplot(df1['DistanceFromHome'],hue=df1['Attrition'])"
   ]
  },
  {
   "cell_type": "markdown",
   "id": "0274c40f",
   "metadata": {},
   "source": [
    "### Employees whose home is distant from has a tendency to leave the company"
   ]
  },
  {
   "cell_type": "code",
   "execution_count": 84,
   "id": "436b083f",
   "metadata": {},
   "outputs": [
    {
     "name": "stdout",
     "output_type": "stream",
     "text": [
      "25\n",
      "15.209523809523809\n",
      "11\n"
     ]
    }
   ],
   "source": [
    "print(df1['PercentSalaryHike'].max())\n",
    "print(df1['PercentSalaryHike'].mean())\n",
    "print(df1['PercentSalaryHike'].min())"
   ]
  },
  {
   "cell_type": "code",
   "execution_count": 85,
   "id": "d40f2570",
   "metadata": {},
   "outputs": [],
   "source": [
    "df1.loc[(df1.PercentSalaryHike>=11) & (df1.PercentSalaryHike<15), 'PercentSalaryHike'] = 13\n",
    "df1.loc[(df1.PercentSalaryHike>=15) & (df1.PercentSalaryHike<20), 'PercentSalaryHike'] = 18\n",
    "df1.loc[(df1.PercentSalaryHike>=20) & (df1.PercentSalaryHike<=25), 'PercentSalaryHike']= 23"
   ]
  },
  {
   "cell_type": "code",
   "execution_count": 86,
   "id": "1227c825",
   "metadata": {},
   "outputs": [
    {
     "data": {
      "text/plain": [
       "<AxesSubplot:xlabel='PercentSalaryHike', ylabel='count'>"
      ]
     },
     "execution_count": 86,
     "metadata": {},
     "output_type": "execute_result"
    },
    {
     "data": {
      "image/png": "[encoded data removed]",
      "text/plain": [
       "<Figure size 432x288 with 1 Axes>"
      ]
     },
     "metadata": {
      "needs_background": "light"
     },
     "output_type": "display_data"
    }
   ],
   "source": [
    "sns.countplot(df1['PercentSalaryHike'],hue=df1['Attrition'])"
   ]
  },
  {
   "cell_type": "markdown",
   "id": "75587b33",
   "metadata": {},
   "source": [
    "### Employees with less salary hike tends to leave the company."
   ]
  },
  {
   "cell_type": "code",
   "execution_count": 88,
   "id": "be97c969",
   "metadata": {},
   "outputs": [
    {
     "data": {
      "text/plain": [
       "<AxesSubplot:xlabel='YearsAtCompany', ylabel='count'>"
      ]
     },
     "execution_count": 88,
     "metadata": {},
     "output_type": "execute_result"
    },
    {
     "data": {
      "image/png": "[encoded data removed]",
      "text/plain": [
       "<Figure size 1080x576 with 1 Axes>"
      ]
     },
     "metadata": {
      "needs_background": "light"
     },
     "output_type": "display_data"
    }
   ],
   "source": [
    "plt.figure(figsize=(15,8))\n",
    "sns.countplot(df['YearsAtCompany'],hue=df['Attrition'])"
   ]
  },
  {
   "cell_type": "markdown",
   "id": "75440f41",
   "metadata": {},
   "source": [
    "### Employees with least years in the company tends to leave the company."
   ]
  },
  {
   "cell_type": "code",
   "execution_count": 90,
   "id": "e05c0ace",
   "metadata": {},
   "outputs": [],
   "source": [
    "df.drop(['Over18','StandardHours'],axis=1,inplace=True)"
   ]
  },
  {
   "cell_type": "code",
   "execution_count": 166,
   "id": "e38a12ca",
   "metadata": {},
   "outputs": [
    {
     "data": {
      "image/png": "[encoded data removed]",
      "text/plain": [
       "<Figure size 288x144 with 1 Axes>"
      ]
     },
     "metadata": {
      "needs_background": "light"
     },
     "output_type": "display_data"
    },
    {
     "data": {
      "image/png": "[encoded data removed]",
      "text/plain": [
       "<Figure size 288x144 with 1 Axes>"
      ]
     },
     "metadata": {
      "needs_background": "light"
     },
     "output_type": "display_data"
    },
    {
     "data": {
      "image/png": "[encoded data removed]",
      "text/plain": [
       "<Figure size 288x144 with 1 Axes>"
      ]
     },
     "metadata": {
      "needs_background": "light"
     },
     "output_type": "display_data"
    },
    {
     "data": {
      "image/png": "[encoded data removed]",
      "text/plain": [
       "<Figure size 288x144 with 1 Axes>"
      ]
     },
     "metadata": {
      "needs_background": "light"
     },
     "output_type": "display_data"
    },
    {
     "data": {
      "image/png": "[encoded data removed]",
      "text/plain": [
       "<Figure size 288x144 with 1 Axes>"
      ]
     },
     "metadata": {
      "needs_background": "light"
     },
     "output_type": "display_data"
    },
    {
     "data": {
      "image/png": "[encoded data removed]",
      "text/plain": [
       "<Figure size 288x144 with 1 Axes>"
      ]
     },
     "metadata": {
      "needs_background": "light"
     },
     "output_type": "display_data"
    },
    {
     "data": {
      "image/png": "[encoded data removed]",
      "text/plain": [
       "<Figure size 288x144 with 1 Axes>"
      ]
     },
     "metadata": {
      "needs_background": "light"
     },
     "output_type": "display_data"
    },
    {
     "data": {
      "image/png": "[encoded data removed]",
      "text/plain": [
       "<Figure size 288x144 with 1 Axes>"
      ]
     },
     "metadata": {
      "needs_background": "light"
     },
     "output_type": "display_data"
    },
    {
     "data": {
      "image/png": "[encoded data removed]",
      "text/plain": [
       "<Figure size 288x144 with 1 Axes>"
      ]
     },
     "metadata": {
      "needs_background": "light"
     },
     "output_type": "display_data"
    },
    {
     "data": {
      "image/png": "[encoded data removed]",
      "text/plain": [
       "<Figure size 288x144 with 1 Axes>"
      ]
     },
     "metadata": {
      "needs_background": "light"
     },
     "output_type": "display_data"
    },
    {
     "data": {
      "image/png": "[encoded data removed]",
      "text/plain": [
       "<Figure size 288x144 with 1 Axes>"
      ]
     },
     "metadata": {
      "needs_background": "light"
     },
     "output_type": "display_data"
    },
    {
     "data": {
      "image/png": "[encoded data removed]",
      "text/plain": [
       "<Figure size 288x144 with 1 Axes>"
      ]
     },
     "metadata": {
      "needs_background": "light"
     },
     "output_type": "display_data"
    },
    {
     "data": {
      "image/png": "[encoded data removed]",
      "text/plain": [
       "<Figure size 288x144 with 1 Axes>"
      ]
     },
     "metadata": {
      "needs_background": "light"
     },
     "output_type": "display_data"
    }
   ],
   "source": [
    "t=['Age','DailyRate','DistanceFromHome','HourlyRate','MonthlyIncome','MonthlyRate','NumCompaniesWorked','PercentSalaryHike',\n",
    "  'TotalWorkingYears','YearsAtCompany','YearsInCurrentRole','YearsSinceLastPromotion','YearsWithCurrManager']\n",
    "for i in t:\n",
    "    plt.figure(figsize=(4,2))\n",
    "    sns.distplot(df[i])"
   ]
  },
  {
   "cell_type": "markdown",
   "id": "1fe70816",
   "metadata": {},
   "source": [
    "### There are many columns which are not normally distributed and skewness is present in the data."
   ]
  },
  {
   "cell_type": "code",
   "execution_count": 168,
   "id": "4ecedf3e",
   "metadata": {},
   "outputs": [
    {
     "data": {
      "image/png": "[encoded data removed]",
      "text/plain": [
       "<Figure size 432x144 with 1 Axes>"
      ]
     },
     "metadata": {
      "needs_background": "light"
     },
     "output_type": "display_data"
    },
    {
     "data": {
      "image/png": "[encoded data removed]",
      "text/plain": [
       "<Figure size 432x144 with 1 Axes>"
      ]
     },
     "metadata": {
      "needs_background": "light"
     },
     "output_type": "display_data"
    },
    {
     "data": {
      "image/png": "[encoded data removed]",
      "text/plain": [
       "<Figure size 432x144 with 1 Axes>"
      ]
     },
     "metadata": {
      "needs_background": "light"
     },
     "output_type": "display_data"
    },
    {
     "data": {
      "image/png": "[encoded data removed]",
      "text/plain": [
       "<Figure size 432x144 with 1 Axes>"
      ]
     },
     "metadata": {
      "needs_background": "light"
     },
     "output_type": "display_data"
    },
    {
     "data": {
      "image/png": "[encoded data removed]",
      "text/plain": [
       "<Figure size 432x144 with 1 Axes>"
      ]
     },
     "metadata": {
      "needs_background": "light"
     },
     "output_type": "display_data"
    },
    {
     "data": {
      "image/png": "[encoded data removed]",
      "text/plain": [
       "<Figure size 432x144 with 1 Axes>"
      ]
     },
     "metadata": {
      "needs_background": "light"
     },
     "output_type": "display_data"
    },
    {
     "data": {
      "image/png": "[encoded data removed]",
      "text/plain": [
       "<Figure size 432x144 with 1 Axes>"
      ]
     },
     "metadata": {
      "needs_background": "light"
     },
     "output_type": "display_data"
    },
    {
     "data": {
      "image/png": "[encoded data removed]",
      "text/plain": [
       "<Figure size 432x144 with 1 Axes>"
      ]
     },
     "metadata": {
      "needs_background": "light"
     },
     "output_type": "display_data"
    },
    {
     "data": {
      "image/png": "[encoded data removed]",
      "text/plain": [
       "<Figure size 432x144 with 1 Axes>"
      ]
     },
     "metadata": {
      "needs_background": "light"
     },
     "output_type": "display_data"
    },
    {
     "data": {
      "image/png": "[encoded data removed]",
      "text/plain": [
       "<Figure size 432x144 with 1 Axes>"
      ]
     },
     "metadata": {
      "needs_background": "light"
     },
     "output_type": "display_data"
    },
    {
     "data": {
      "image/png": "[encoded data removed]",
      "text/plain": [
       "<Figure size 432x144 with 1 Axes>"
      ]
     },
     "metadata": {
      "needs_background": "light"
     },
     "output_type": "display_data"
    },
    {
     "data": {
      "image/png": "[encoded data removed]",
      "text/plain": [
       "<Figure size 432x144 with 1 Axes>"
      ]
     },
     "metadata": {
      "needs_background": "light"
     },
     "output_type": "display_data"
    },
    {
     "data": {
      "image/png": "[encoded data removed]",
      "text/plain": [
       "<Figure size 432x144 with 1 Axes>"
      ]
     },
     "metadata": {
      "needs_background": "light"
     },
     "output_type": "display_data"
    }
   ],
   "source": [
    "for i in t:\n",
    "    plt.figure(figsize=(6,2))\n",
    "    sns.boxplot(df[i])"
   ]
  },
  {
   "cell_type": "markdown",
   "id": "2ada0128",
   "metadata": {},
   "source": [
    "### There are outliers present in DistanceFromHome, Monthly Income, NumCompaniesWorked, TotalWorkingYears, YearsAtCompany, YearsInCurrentRole, YearsSiceLastPromotion and YearsWithCurrManager columns."
   ]
  },
  {
   "cell_type": "markdown",
   "id": "5363d310",
   "metadata": {},
   "source": [
    "## Encoding"
   ]
  },
  {
   "cell_type": "code",
   "execution_count": 92,
   "id": "914cddbd",
   "metadata": {},
   "outputs": [],
   "source": [
    "cate=['Attrition','BusinessTravel','Department','EducationField','Gender','JobRole','MaritalStatus','OverTime']"
   ]
  },
  {
   "cell_type": "code",
   "execution_count": 93,
   "id": "21aca072",
   "metadata": {},
   "outputs": [],
   "source": [
    "from sklearn.preprocessing import LabelEncoder\n",
    "lab=LabelEncoder()\n",
    "for i in cate:\n",
    "    df[i]=lab.fit_transform(df[i].values.reshape(-1,1))"
   ]
  },
  {
   "cell_type": "code",
   "execution_count": 94,
   "id": "51a27024",
   "metadata": {},
   "outputs": [
    {
     "data": {
      "text/html": [
       "<div>\n",
       "<style scoped>\n",
       "    .dataframe tbody tr th:only-of-type {\n",
       "        vertical-align: middle;\n",
       "    }\n",
       "\n",
       "    .dataframe tbody tr th {\n",
       "        vertical-align: top;\n",
       "    }\n",
       "\n",
       "    .dataframe thead th {\n",
       "        text-align: right;\n",
       "    }\n",
       "</style>\n",
       "<table border=\"1\" class=\"dataframe\">\n",
       "  <thead>\n",
       "    <tr style=\"text-align: right;\">\n",
       "      <th></th>\n",
       "      <th>Age</th>\n",
       "      <th>Attrition</th>\n",
       "      <th>BusinessTravel</th>\n",
       "      <th>DailyRate</th>\n",
       "      <th>Department</th>\n",
       "      <th>DistanceFromHome</th>\n",
       "      <th>Education</th>\n",
       "      <th>EducationField</th>\n",
       "      <th>EnvironmentSatisfaction</th>\n",
       "      <th>Gender</th>\n",
       "      <th>...</th>\n",
       "      <th>PerformanceRating</th>\n",
       "      <th>RelationshipSatisfaction</th>\n",
       "      <th>StockOptionLevel</th>\n",
       "      <th>TotalWorkingYears</th>\n",
       "      <th>TrainingTimesLastYear</th>\n",
       "      <th>WorkLifeBalance</th>\n",
       "      <th>YearsAtCompany</th>\n",
       "      <th>YearsInCurrentRole</th>\n",
       "      <th>YearsSinceLastPromotion</th>\n",
       "      <th>YearsWithCurrManager</th>\n",
       "    </tr>\n",
       "  </thead>\n",
       "  <tbody>\n",
       "    <tr>\n",
       "      <th>0</th>\n",
       "      <td>41</td>\n",
       "      <td>1</td>\n",
       "      <td>2</td>\n",
       "      <td>802.0</td>\n",
       "      <td>2</td>\n",
       "      <td>4</td>\n",
       "      <td>2</td>\n",
       "      <td>1</td>\n",
       "      <td>2</td>\n",
       "      <td>0</td>\n",
       "      <td>...</td>\n",
       "      <td>3</td>\n",
       "      <td>1</td>\n",
       "      <td>0</td>\n",
       "      <td>8</td>\n",
       "      <td>0</td>\n",
       "      <td>1</td>\n",
       "      <td>6</td>\n",
       "      <td>4</td>\n",
       "      <td>0</td>\n",
       "      <td>5</td>\n",
       "    </tr>\n",
       "    <tr>\n",
       "      <th>1</th>\n",
       "      <td>49</td>\n",
       "      <td>0</td>\n",
       "      <td>1</td>\n",
       "      <td>277.0</td>\n",
       "      <td>1</td>\n",
       "      <td>10</td>\n",
       "      <td>1</td>\n",
       "      <td>1</td>\n",
       "      <td>3</td>\n",
       "      <td>1</td>\n",
       "      <td>...</td>\n",
       "      <td>4</td>\n",
       "      <td>4</td>\n",
       "      <td>1</td>\n",
       "      <td>10</td>\n",
       "      <td>3</td>\n",
       "      <td>3</td>\n",
       "      <td>10</td>\n",
       "      <td>7</td>\n",
       "      <td>1</td>\n",
       "      <td>7</td>\n",
       "    </tr>\n",
       "    <tr>\n",
       "      <th>2</th>\n",
       "      <td>37</td>\n",
       "      <td>1</td>\n",
       "      <td>2</td>\n",
       "      <td>1325.5</td>\n",
       "      <td>1</td>\n",
       "      <td>4</td>\n",
       "      <td>2</td>\n",
       "      <td>4</td>\n",
       "      <td>4</td>\n",
       "      <td>1</td>\n",
       "      <td>...</td>\n",
       "      <td>3</td>\n",
       "      <td>2</td>\n",
       "      <td>0</td>\n",
       "      <td>7</td>\n",
       "      <td>3</td>\n",
       "      <td>3</td>\n",
       "      <td>0</td>\n",
       "      <td>0</td>\n",
       "      <td>0</td>\n",
       "      <td>0</td>\n",
       "    </tr>\n",
       "    <tr>\n",
       "      <th>3</th>\n",
       "      <td>33</td>\n",
       "      <td>0</td>\n",
       "      <td>1</td>\n",
       "      <td>1325.5</td>\n",
       "      <td>1</td>\n",
       "      <td>4</td>\n",
       "      <td>4</td>\n",
       "      <td>1</td>\n",
       "      <td>4</td>\n",
       "      <td>0</td>\n",
       "      <td>...</td>\n",
       "      <td>3</td>\n",
       "      <td>3</td>\n",
       "      <td>0</td>\n",
       "      <td>8</td>\n",
       "      <td>3</td>\n",
       "      <td>3</td>\n",
       "      <td>8</td>\n",
       "      <td>7</td>\n",
       "      <td>3</td>\n",
       "      <td>0</td>\n",
       "    </tr>\n",
       "    <tr>\n",
       "      <th>4</th>\n",
       "      <td>27</td>\n",
       "      <td>0</td>\n",
       "      <td>2</td>\n",
       "      <td>802.0</td>\n",
       "      <td>1</td>\n",
       "      <td>4</td>\n",
       "      <td>1</td>\n",
       "      <td>3</td>\n",
       "      <td>1</td>\n",
       "      <td>1</td>\n",
       "      <td>...</td>\n",
       "      <td>3</td>\n",
       "      <td>4</td>\n",
       "      <td>1</td>\n",
       "      <td>6</td>\n",
       "      <td>3</td>\n",
       "      <td>3</td>\n",
       "      <td>2</td>\n",
       "      <td>2</td>\n",
       "      <td>2</td>\n",
       "      <td>2</td>\n",
       "    </tr>\n",
       "  </tbody>\n",
       "</table>\n",
       "<p>5 rows × 31 columns</p>\n",
       "</div>"
      ],
      "text/plain": [
       "   Age  Attrition  BusinessTravel  DailyRate  Department  DistanceFromHome  \\\n",
       "0   41          1               2      802.0           2                 4   \n",
       "1   49          0               1      277.0           1                10   \n",
       "2   37          1               2     1325.5           1                 4   \n",
       "3   33          0               1     1325.5           1                 4   \n",
       "4   27          0               2      802.0           1                 4   \n",
       "\n",
       "   Education  EducationField  EnvironmentSatisfaction  Gender  ...  \\\n",
       "0          2               1                        2       0  ...   \n",
       "1          1               1                        3       1  ...   \n",
       "2          2               4                        4       1  ...   \n",
       "3          4               1                        4       0  ...   \n",
       "4          1               3                        1       1  ...   \n",
       "\n",
       "   PerformanceRating  RelationshipSatisfaction  StockOptionLevel  \\\n",
       "0                  3                         1                 0   \n",
       "1                  4                         4                 1   \n",
       "2                  3                         2                 0   \n",
       "3                  3                         3                 0   \n",
       "4                  3                         4                 1   \n",
       "\n",
       "   TotalWorkingYears  TrainingTimesLastYear  WorkLifeBalance  YearsAtCompany  \\\n",
       "0                  8                      0                1               6   \n",
       "1                 10                      3                3              10   \n",
       "2                  7                      3                3               0   \n",
       "3                  8                      3                3               8   \n",
       "4                  6                      3                3               2   \n",
       "\n",
       "   YearsInCurrentRole  YearsSinceLastPromotion  YearsWithCurrManager  \n",
       "0                   4                        0                     5  \n",
       "1                   7                        1                     7  \n",
       "2                   0                        0                     0  \n",
       "3                   7                        3                     0  \n",
       "4                   2                        2                     2  \n",
       "\n",
       "[5 rows x 31 columns]"
      ]
     },
     "execution_count": 94,
     "metadata": {},
     "output_type": "execute_result"
    }
   ],
   "source": [
    "df.head()"
   ]
  },
  {
   "cell_type": "code",
   "execution_count": 95,
   "id": "10ddeb95",
   "metadata": {},
   "outputs": [
    {
     "data": {
      "text/html": [
       "<div>\n",
       "<style scoped>\n",
       "    .dataframe tbody tr th:only-of-type {\n",
       "        vertical-align: middle;\n",
       "    }\n",
       "\n",
       "    .dataframe tbody tr th {\n",
       "        vertical-align: top;\n",
       "    }\n",
       "\n",
       "    .dataframe thead th {\n",
       "        text-align: right;\n",
       "    }\n",
       "</style>\n",
       "<table border=\"1\" class=\"dataframe\">\n",
       "  <thead>\n",
       "    <tr style=\"text-align: right;\">\n",
       "      <th></th>\n",
       "      <th>Age</th>\n",
       "      <th>Attrition</th>\n",
       "      <th>BusinessTravel</th>\n",
       "      <th>DailyRate</th>\n",
       "      <th>Department</th>\n",
       "      <th>DistanceFromHome</th>\n",
       "      <th>Education</th>\n",
       "      <th>EducationField</th>\n",
       "      <th>EnvironmentSatisfaction</th>\n",
       "      <th>Gender</th>\n",
       "      <th>...</th>\n",
       "      <th>PerformanceRating</th>\n",
       "      <th>RelationshipSatisfaction</th>\n",
       "      <th>StockOptionLevel</th>\n",
       "      <th>TotalWorkingYears</th>\n",
       "      <th>TrainingTimesLastYear</th>\n",
       "      <th>WorkLifeBalance</th>\n",
       "      <th>YearsAtCompany</th>\n",
       "      <th>YearsInCurrentRole</th>\n",
       "      <th>YearsSinceLastPromotion</th>\n",
       "      <th>YearsWithCurrManager</th>\n",
       "    </tr>\n",
       "  </thead>\n",
       "  <tbody>\n",
       "    <tr>\n",
       "      <th>Age</th>\n",
       "      <td>1.000000</td>\n",
       "      <td>-0.159205</td>\n",
       "      <td>0.024751</td>\n",
       "      <td>-0.005075</td>\n",
       "      <td>-0.031882</td>\n",
       "      <td>-0.009238</td>\n",
       "      <td>0.208034</td>\n",
       "      <td>-0.040873</td>\n",
       "      <td>0.010146</td>\n",
       "      <td>-0.036311</td>\n",
       "      <td>...</td>\n",
       "      <td>0.001904</td>\n",
       "      <td>0.053535</td>\n",
       "      <td>0.037510</td>\n",
       "      <td>0.680381</td>\n",
       "      <td>-0.019621</td>\n",
       "      <td>-0.021490</td>\n",
       "      <td>0.311309</td>\n",
       "      <td>0.212901</td>\n",
       "      <td>0.216513</td>\n",
       "      <td>0.202089</td>\n",
       "    </tr>\n",
       "    <tr>\n",
       "      <th>Attrition</th>\n",
       "      <td>-0.159205</td>\n",
       "      <td>1.000000</td>\n",
       "      <td>0.000074</td>\n",
       "      <td>-0.066331</td>\n",
       "      <td>0.063991</td>\n",
       "      <td>0.072614</td>\n",
       "      <td>-0.031373</td>\n",
       "      <td>0.026846</td>\n",
       "      <td>-0.103369</td>\n",
       "      <td>0.029453</td>\n",
       "      <td>...</td>\n",
       "      <td>0.002889</td>\n",
       "      <td>-0.045872</td>\n",
       "      <td>-0.137145</td>\n",
       "      <td>-0.171063</td>\n",
       "      <td>-0.059478</td>\n",
       "      <td>-0.063939</td>\n",
       "      <td>-0.134392</td>\n",
       "      <td>-0.160545</td>\n",
       "      <td>-0.033019</td>\n",
       "      <td>-0.156199</td>\n",
       "    </tr>\n",
       "    <tr>\n",
       "      <th>BusinessTravel</th>\n",
       "      <td>0.024751</td>\n",
       "      <td>0.000074</td>\n",
       "      <td>1.000000</td>\n",
       "      <td>-0.000250</td>\n",
       "      <td>-0.009044</td>\n",
       "      <td>-0.019336</td>\n",
       "      <td>0.000757</td>\n",
       "      <td>0.023724</td>\n",
       "      <td>0.004174</td>\n",
       "      <td>-0.032981</td>\n",
       "      <td>...</td>\n",
       "      <td>-0.026341</td>\n",
       "      <td>-0.035986</td>\n",
       "      <td>-0.016727</td>\n",
       "      <td>0.034226</td>\n",
       "      <td>0.015240</td>\n",
       "      <td>-0.011256</td>\n",
       "      <td>-0.014575</td>\n",
       "      <td>-0.011497</td>\n",
       "      <td>-0.032591</td>\n",
       "      <td>-0.022636</td>\n",
       "    </tr>\n",
       "    <tr>\n",
       "      <th>DailyRate</th>\n",
       "      <td>-0.005075</td>\n",
       "      <td>-0.066331</td>\n",
       "      <td>-0.000250</td>\n",
       "      <td>1.000000</td>\n",
       "      <td>0.017941</td>\n",
       "      <td>-0.013360</td>\n",
       "      <td>-0.029520</td>\n",
       "      <td>0.051635</td>\n",
       "      <td>-0.000401</td>\n",
       "      <td>0.009845</td>\n",
       "      <td>...</td>\n",
       "      <td>0.002464</td>\n",
       "      <td>0.014105</td>\n",
       "      <td>0.040983</td>\n",
       "      <td>0.010857</td>\n",
       "      <td>0.019500</td>\n",
       "      <td>-0.029061</td>\n",
       "      <td>-0.016605</td>\n",
       "      <td>0.022805</td>\n",
       "      <td>-0.030845</td>\n",
       "      <td>-0.016111</td>\n",
       "    </tr>\n",
       "    <tr>\n",
       "      <th>Department</th>\n",
       "      <td>-0.031882</td>\n",
       "      <td>0.063991</td>\n",
       "      <td>-0.009044</td>\n",
       "      <td>0.017941</td>\n",
       "      <td>1.000000</td>\n",
       "      <td>0.000625</td>\n",
       "      <td>0.007996</td>\n",
       "      <td>0.013720</td>\n",
       "      <td>-0.019395</td>\n",
       "      <td>-0.041583</td>\n",
       "      <td>...</td>\n",
       "      <td>-0.024604</td>\n",
       "      <td>-0.022414</td>\n",
       "      <td>-0.012193</td>\n",
       "      <td>-0.015762</td>\n",
       "      <td>0.036875</td>\n",
       "      <td>0.026383</td>\n",
       "      <td>0.022920</td>\n",
       "      <td>0.056315</td>\n",
       "      <td>0.040061</td>\n",
       "      <td>0.034282</td>\n",
       "    </tr>\n",
       "    <tr>\n",
       "      <th>DistanceFromHome</th>\n",
       "      <td>-0.009238</td>\n",
       "      <td>0.072614</td>\n",
       "      <td>-0.019336</td>\n",
       "      <td>-0.013360</td>\n",
       "      <td>0.000625</td>\n",
       "      <td>1.000000</td>\n",
       "      <td>0.021638</td>\n",
       "      <td>-0.010240</td>\n",
       "      <td>-0.009827</td>\n",
       "      <td>0.007767</td>\n",
       "      <td>...</td>\n",
       "      <td>0.026136</td>\n",
       "      <td>0.014239</td>\n",
       "      <td>0.045196</td>\n",
       "      <td>-0.007565</td>\n",
       "      <td>-0.028062</td>\n",
       "      <td>-0.034866</td>\n",
       "      <td>0.002294</td>\n",
       "      <td>0.016878</td>\n",
       "      <td>0.011324</td>\n",
       "      <td>0.013450</td>\n",
       "    </tr>\n",
       "    <tr>\n",
       "      <th>Education</th>\n",
       "      <td>0.208034</td>\n",
       "      <td>-0.031373</td>\n",
       "      <td>0.000757</td>\n",
       "      <td>-0.029520</td>\n",
       "      <td>0.007996</td>\n",
       "      <td>0.021638</td>\n",
       "      <td>1.000000</td>\n",
       "      <td>-0.039592</td>\n",
       "      <td>-0.027128</td>\n",
       "      <td>-0.016547</td>\n",
       "      <td>...</td>\n",
       "      <td>-0.024539</td>\n",
       "      <td>-0.009118</td>\n",
       "      <td>0.018422</td>\n",
       "      <td>0.148280</td>\n",
       "      <td>-0.025100</td>\n",
       "      <td>0.009819</td>\n",
       "      <td>0.069114</td>\n",
       "      <td>0.060236</td>\n",
       "      <td>0.054254</td>\n",
       "      <td>0.069065</td>\n",
       "    </tr>\n",
       "    <tr>\n",
       "      <th>EducationField</th>\n",
       "      <td>-0.040873</td>\n",
       "      <td>0.026846</td>\n",
       "      <td>0.023724</td>\n",
       "      <td>0.051635</td>\n",
       "      <td>0.013720</td>\n",
       "      <td>-0.010240</td>\n",
       "      <td>-0.039592</td>\n",
       "      <td>1.000000</td>\n",
       "      <td>0.043163</td>\n",
       "      <td>-0.002504</td>\n",
       "      <td>...</td>\n",
       "      <td>-0.005614</td>\n",
       "      <td>-0.004378</td>\n",
       "      <td>-0.016185</td>\n",
       "      <td>-0.027848</td>\n",
       "      <td>0.049195</td>\n",
       "      <td>0.041191</td>\n",
       "      <td>-0.018692</td>\n",
       "      <td>-0.010506</td>\n",
       "      <td>0.002326</td>\n",
       "      <td>-0.004130</td>\n",
       "    </tr>\n",
       "    <tr>\n",
       "      <th>EnvironmentSatisfaction</th>\n",
       "      <td>0.010146</td>\n",
       "      <td>-0.103369</td>\n",
       "      <td>0.004174</td>\n",
       "      <td>-0.000401</td>\n",
       "      <td>-0.019395</td>\n",
       "      <td>-0.009827</td>\n",
       "      <td>-0.027128</td>\n",
       "      <td>0.043163</td>\n",
       "      <td>1.000000</td>\n",
       "      <td>0.000508</td>\n",
       "      <td>...</td>\n",
       "      <td>-0.029548</td>\n",
       "      <td>0.007665</td>\n",
       "      <td>0.003432</td>\n",
       "      <td>-0.002693</td>\n",
       "      <td>-0.019359</td>\n",
       "      <td>0.027627</td>\n",
       "      <td>0.001458</td>\n",
       "      <td>0.018007</td>\n",
       "      <td>0.016194</td>\n",
       "      <td>-0.004999</td>\n",
       "    </tr>\n",
       "    <tr>\n",
       "      <th>Gender</th>\n",
       "      <td>-0.036311</td>\n",
       "      <td>0.029453</td>\n",
       "      <td>-0.032981</td>\n",
       "      <td>0.009845</td>\n",
       "      <td>-0.041583</td>\n",
       "      <td>0.007767</td>\n",
       "      <td>-0.016547</td>\n",
       "      <td>-0.002504</td>\n",
       "      <td>0.000508</td>\n",
       "      <td>1.000000</td>\n",
       "      <td>...</td>\n",
       "      <td>-0.013859</td>\n",
       "      <td>0.022868</td>\n",
       "      <td>0.012716</td>\n",
       "      <td>-0.046881</td>\n",
       "      <td>-0.038787</td>\n",
       "      <td>-0.002753</td>\n",
       "      <td>-0.029747</td>\n",
       "      <td>-0.041483</td>\n",
       "      <td>-0.026985</td>\n",
       "      <td>-0.030599</td>\n",
       "    </tr>\n",
       "    <tr>\n",
       "      <th>HourlyRate</th>\n",
       "      <td>0.024287</td>\n",
       "      <td>-0.006846</td>\n",
       "      <td>0.026528</td>\n",
       "      <td>0.019387</td>\n",
       "      <td>-0.004144</td>\n",
       "      <td>0.025829</td>\n",
       "      <td>0.016775</td>\n",
       "      <td>-0.021941</td>\n",
       "      <td>-0.049857</td>\n",
       "      <td>-0.000478</td>\n",
       "      <td>...</td>\n",
       "      <td>-0.002172</td>\n",
       "      <td>0.001330</td>\n",
       "      <td>0.050263</td>\n",
       "      <td>-0.002334</td>\n",
       "      <td>-0.008548</td>\n",
       "      <td>-0.004607</td>\n",
       "      <td>-0.019582</td>\n",
       "      <td>-0.024106</td>\n",
       "      <td>-0.026716</td>\n",
       "      <td>-0.020123</td>\n",
       "    </tr>\n",
       "    <tr>\n",
       "      <th>JobInvolvement</th>\n",
       "      <td>0.029820</td>\n",
       "      <td>-0.130016</td>\n",
       "      <td>0.039062</td>\n",
       "      <td>0.060319</td>\n",
       "      <td>-0.024586</td>\n",
       "      <td>0.010432</td>\n",
       "      <td>0.042438</td>\n",
       "      <td>-0.002655</td>\n",
       "      <td>-0.008278</td>\n",
       "      <td>0.017960</td>\n",
       "      <td>...</td>\n",
       "      <td>-0.029071</td>\n",
       "      <td>0.034297</td>\n",
       "      <td>0.021523</td>\n",
       "      <td>-0.005533</td>\n",
       "      <td>-0.015338</td>\n",
       "      <td>-0.014617</td>\n",
       "      <td>-0.021355</td>\n",
       "      <td>0.008717</td>\n",
       "      <td>-0.024184</td>\n",
       "      <td>0.025976</td>\n",
       "    </tr>\n",
       "    <tr>\n",
       "      <th>JobLevel</th>\n",
       "      <td>0.509604</td>\n",
       "      <td>-0.169105</td>\n",
       "      <td>0.019311</td>\n",
       "      <td>0.001506</td>\n",
       "      <td>0.101963</td>\n",
       "      <td>-0.006108</td>\n",
       "      <td>0.101589</td>\n",
       "      <td>-0.044933</td>\n",
       "      <td>0.001212</td>\n",
       "      <td>-0.039403</td>\n",
       "      <td>...</td>\n",
       "      <td>-0.021222</td>\n",
       "      <td>0.021642</td>\n",
       "      <td>0.013984</td>\n",
       "      <td>0.782208</td>\n",
       "      <td>-0.018191</td>\n",
       "      <td>0.037818</td>\n",
       "      <td>0.534739</td>\n",
       "      <td>0.389447</td>\n",
       "      <td>0.353885</td>\n",
       "      <td>0.375281</td>\n",
       "    </tr>\n",
       "    <tr>\n",
       "      <th>JobRole</th>\n",
       "      <td>-0.122427</td>\n",
       "      <td>0.067151</td>\n",
       "      <td>0.002724</td>\n",
       "      <td>-0.002018</td>\n",
       "      <td>0.662431</td>\n",
       "      <td>-0.014893</td>\n",
       "      <td>0.004236</td>\n",
       "      <td>0.015599</td>\n",
       "      <td>-0.017321</td>\n",
       "      <td>-0.039723</td>\n",
       "      <td>...</td>\n",
       "      <td>-0.024233</td>\n",
       "      <td>-0.020218</td>\n",
       "      <td>-0.019171</td>\n",
       "      <td>-0.145439</td>\n",
       "      <td>0.001342</td>\n",
       "      <td>0.027764</td>\n",
       "      <td>-0.083657</td>\n",
       "      <td>-0.028354</td>\n",
       "      <td>-0.046384</td>\n",
       "      <td>-0.041150</td>\n",
       "    </tr>\n",
       "    <tr>\n",
       "      <th>JobSatisfaction</th>\n",
       "      <td>-0.004892</td>\n",
       "      <td>-0.103481</td>\n",
       "      <td>-0.033962</td>\n",
       "      <td>0.034614</td>\n",
       "      <td>0.021001</td>\n",
       "      <td>-0.002519</td>\n",
       "      <td>-0.011296</td>\n",
       "      <td>-0.034401</td>\n",
       "      <td>-0.006784</td>\n",
       "      <td>0.033252</td>\n",
       "      <td>...</td>\n",
       "      <td>0.002297</td>\n",
       "      <td>-0.012454</td>\n",
       "      <td>0.010690</td>\n",
       "      <td>-0.020185</td>\n",
       "      <td>-0.005779</td>\n",
       "      <td>-0.019459</td>\n",
       "      <td>-0.003803</td>\n",
       "      <td>-0.002305</td>\n",
       "      <td>-0.018214</td>\n",
       "      <td>-0.027656</td>\n",
       "    </tr>\n",
       "    <tr>\n",
       "      <th>MaritalStatus</th>\n",
       "      <td>-0.095029</td>\n",
       "      <td>0.162070</td>\n",
       "      <td>0.024001</td>\n",
       "      <td>-0.064842</td>\n",
       "      <td>0.056073</td>\n",
       "      <td>-0.026432</td>\n",
       "      <td>0.004053</td>\n",
       "      <td>0.014420</td>\n",
       "      <td>-0.003593</td>\n",
       "      <td>-0.047183</td>\n",
       "      <td>...</td>\n",
       "      <td>0.005207</td>\n",
       "      <td>0.022549</td>\n",
       "      <td>-0.662577</td>\n",
       "      <td>-0.077886</td>\n",
       "      <td>0.010629</td>\n",
       "      <td>0.014708</td>\n",
       "      <td>-0.059986</td>\n",
       "      <td>-0.065822</td>\n",
       "      <td>-0.030915</td>\n",
       "      <td>-0.038570</td>\n",
       "    </tr>\n",
       "    <tr>\n",
       "      <th>MonthlyIncome</th>\n",
       "      <td>0.497855</td>\n",
       "      <td>-0.159840</td>\n",
       "      <td>0.034319</td>\n",
       "      <td>0.001331</td>\n",
       "      <td>0.053130</td>\n",
       "      <td>-0.029046</td>\n",
       "      <td>0.094961</td>\n",
       "      <td>-0.041070</td>\n",
       "      <td>-0.006259</td>\n",
       "      <td>-0.031858</td>\n",
       "      <td>...</td>\n",
       "      <td>-0.017120</td>\n",
       "      <td>0.025873</td>\n",
       "      <td>0.005408</td>\n",
       "      <td>0.772893</td>\n",
       "      <td>-0.021736</td>\n",
       "      <td>0.030683</td>\n",
       "      <td>0.514285</td>\n",
       "      <td>0.363818</td>\n",
       "      <td>0.344978</td>\n",
       "      <td>0.344079</td>\n",
       "    </tr>\n",
       "    <tr>\n",
       "      <th>MonthlyRate</th>\n",
       "      <td>0.028051</td>\n",
       "      <td>0.015170</td>\n",
       "      <td>-0.014107</td>\n",
       "      <td>-0.020775</td>\n",
       "      <td>0.023642</td>\n",
       "      <td>0.047099</td>\n",
       "      <td>-0.026084</td>\n",
       "      <td>-0.027182</td>\n",
       "      <td>0.037600</td>\n",
       "      <td>-0.041482</td>\n",
       "      <td>...</td>\n",
       "      <td>-0.009811</td>\n",
       "      <td>-0.004085</td>\n",
       "      <td>-0.034323</td>\n",
       "      <td>0.026442</td>\n",
       "      <td>0.001467</td>\n",
       "      <td>0.007963</td>\n",
       "      <td>-0.023655</td>\n",
       "      <td>-0.012815</td>\n",
       "      <td>0.001567</td>\n",
       "      <td>-0.036746</td>\n",
       "    </tr>\n",
       "    <tr>\n",
       "      <th>NumCompaniesWorked</th>\n",
       "      <td>0.299635</td>\n",
       "      <td>0.043494</td>\n",
       "      <td>0.020875</td>\n",
       "      <td>0.025241</td>\n",
       "      <td>-0.035882</td>\n",
       "      <td>-0.037760</td>\n",
       "      <td>0.126317</td>\n",
       "      <td>-0.008663</td>\n",
       "      <td>0.012594</td>\n",
       "      <td>-0.039147</td>\n",
       "      <td>...</td>\n",
       "      <td>-0.014095</td>\n",
       "      <td>0.052733</td>\n",
       "      <td>0.030075</td>\n",
       "      <td>0.237639</td>\n",
       "      <td>-0.066054</td>\n",
       "      <td>-0.008366</td>\n",
       "      <td>-0.118421</td>\n",
       "      <td>-0.090754</td>\n",
       "      <td>-0.036814</td>\n",
       "      <td>-0.110319</td>\n",
       "    </tr>\n",
       "    <tr>\n",
       "      <th>OverTime</th>\n",
       "      <td>0.028062</td>\n",
       "      <td>0.246118</td>\n",
       "      <td>0.016543</td>\n",
       "      <td>0.011453</td>\n",
       "      <td>0.007481</td>\n",
       "      <td>0.027955</td>\n",
       "      <td>-0.020322</td>\n",
       "      <td>0.002259</td>\n",
       "      <td>0.070132</td>\n",
       "      <td>-0.041924</td>\n",
       "      <td>...</td>\n",
       "      <td>0.004369</td>\n",
       "      <td>0.048493</td>\n",
       "      <td>-0.000449</td>\n",
       "      <td>0.012754</td>\n",
       "      <td>-0.079113</td>\n",
       "      <td>-0.027092</td>\n",
       "      <td>-0.011687</td>\n",
       "      <td>-0.029758</td>\n",
       "      <td>-0.012239</td>\n",
       "      <td>-0.041586</td>\n",
       "    </tr>\n",
       "    <tr>\n",
       "      <th>PercentSalaryHike</th>\n",
       "      <td>0.011461</td>\n",
       "      <td>0.001112</td>\n",
       "      <td>-0.037809</td>\n",
       "      <td>0.006575</td>\n",
       "      <td>-0.023962</td>\n",
       "      <td>0.056154</td>\n",
       "      <td>-0.006775</td>\n",
       "      <td>-0.010640</td>\n",
       "      <td>-0.024988</td>\n",
       "      <td>-0.005252</td>\n",
       "      <td>...</td>\n",
       "      <td>0.807639</td>\n",
       "      <td>-0.039408</td>\n",
       "      <td>0.002131</td>\n",
       "      <td>-0.018015</td>\n",
       "      <td>-0.023388</td>\n",
       "      <td>-0.008269</td>\n",
       "      <td>-0.034535</td>\n",
       "      <td>-0.002355</td>\n",
       "      <td>-0.022778</td>\n",
       "      <td>-0.018834</td>\n",
       "    </tr>\n",
       "    <tr>\n",
       "      <th>PerformanceRating</th>\n",
       "      <td>0.001904</td>\n",
       "      <td>0.002889</td>\n",
       "      <td>-0.026341</td>\n",
       "      <td>0.002464</td>\n",
       "      <td>-0.024604</td>\n",
       "      <td>0.026136</td>\n",
       "      <td>-0.024539</td>\n",
       "      <td>-0.005614</td>\n",
       "      <td>-0.029548</td>\n",
       "      <td>-0.013859</td>\n",
       "      <td>...</td>\n",
       "      <td>1.000000</td>\n",
       "      <td>-0.031351</td>\n",
       "      <td>0.003506</td>\n",
       "      <td>0.006744</td>\n",
       "      <td>-0.015579</td>\n",
       "      <td>0.002572</td>\n",
       "      <td>0.003435</td>\n",
       "      <td>0.034986</td>\n",
       "      <td>0.017896</td>\n",
       "      <td>0.022827</td>\n",
       "    </tr>\n",
       "    <tr>\n",
       "      <th>RelationshipSatisfaction</th>\n",
       "      <td>0.053535</td>\n",
       "      <td>-0.045872</td>\n",
       "      <td>-0.035986</td>\n",
       "      <td>0.014105</td>\n",
       "      <td>-0.022414</td>\n",
       "      <td>0.014239</td>\n",
       "      <td>-0.009118</td>\n",
       "      <td>-0.004378</td>\n",
       "      <td>0.007665</td>\n",
       "      <td>0.022868</td>\n",
       "      <td>...</td>\n",
       "      <td>-0.031351</td>\n",
       "      <td>1.000000</td>\n",
       "      <td>-0.045952</td>\n",
       "      <td>0.024054</td>\n",
       "      <td>0.002497</td>\n",
       "      <td>0.019604</td>\n",
       "      <td>0.019367</td>\n",
       "      <td>-0.015123</td>\n",
       "      <td>0.033493</td>\n",
       "      <td>-0.000867</td>\n",
       "    </tr>\n",
       "    <tr>\n",
       "      <th>StockOptionLevel</th>\n",
       "      <td>0.037510</td>\n",
       "      <td>-0.137145</td>\n",
       "      <td>-0.016727</td>\n",
       "      <td>0.040983</td>\n",
       "      <td>-0.012193</td>\n",
       "      <td>0.045196</td>\n",
       "      <td>0.018422</td>\n",
       "      <td>-0.016185</td>\n",
       "      <td>0.003432</td>\n",
       "      <td>0.012716</td>\n",
       "      <td>...</td>\n",
       "      <td>0.003506</td>\n",
       "      <td>-0.045952</td>\n",
       "      <td>1.000000</td>\n",
       "      <td>0.010136</td>\n",
       "      <td>0.011274</td>\n",
       "      <td>0.004129</td>\n",
       "      <td>0.015058</td>\n",
       "      <td>0.050818</td>\n",
       "      <td>0.014352</td>\n",
       "      <td>0.024698</td>\n",
       "    </tr>\n",
       "    <tr>\n",
       "      <th>TotalWorkingYears</th>\n",
       "      <td>0.680381</td>\n",
       "      <td>-0.171063</td>\n",
       "      <td>0.034226</td>\n",
       "      <td>0.010857</td>\n",
       "      <td>-0.015762</td>\n",
       "      <td>-0.007565</td>\n",
       "      <td>0.148280</td>\n",
       "      <td>-0.027848</td>\n",
       "      <td>-0.002693</td>\n",
       "      <td>-0.046881</td>\n",
       "      <td>...</td>\n",
       "      <td>0.006744</td>\n",
       "      <td>0.024054</td>\n",
       "      <td>0.010136</td>\n",
       "      <td>1.000000</td>\n",
       "      <td>-0.035662</td>\n",
       "      <td>0.001008</td>\n",
       "      <td>0.628133</td>\n",
       "      <td>0.460365</td>\n",
       "      <td>0.404858</td>\n",
       "      <td>0.459188</td>\n",
       "    </tr>\n",
       "    <tr>\n",
       "      <th>TrainingTimesLastYear</th>\n",
       "      <td>-0.019621</td>\n",
       "      <td>-0.059478</td>\n",
       "      <td>0.015240</td>\n",
       "      <td>0.019500</td>\n",
       "      <td>0.036875</td>\n",
       "      <td>-0.028062</td>\n",
       "      <td>-0.025100</td>\n",
       "      <td>0.049195</td>\n",
       "      <td>-0.019359</td>\n",
       "      <td>-0.038787</td>\n",
       "      <td>...</td>\n",
       "      <td>-0.015579</td>\n",
       "      <td>0.002497</td>\n",
       "      <td>0.011274</td>\n",
       "      <td>-0.035662</td>\n",
       "      <td>1.000000</td>\n",
       "      <td>0.028072</td>\n",
       "      <td>0.003569</td>\n",
       "      <td>-0.005738</td>\n",
       "      <td>-0.002067</td>\n",
       "      <td>-0.004096</td>\n",
       "    </tr>\n",
       "    <tr>\n",
       "      <th>WorkLifeBalance</th>\n",
       "      <td>-0.021490</td>\n",
       "      <td>-0.063939</td>\n",
       "      <td>-0.011256</td>\n",
       "      <td>-0.029061</td>\n",
       "      <td>0.026383</td>\n",
       "      <td>-0.034866</td>\n",
       "      <td>0.009819</td>\n",
       "      <td>0.041191</td>\n",
       "      <td>0.027627</td>\n",
       "      <td>-0.002753</td>\n",
       "      <td>...</td>\n",
       "      <td>0.002572</td>\n",
       "      <td>0.019604</td>\n",
       "      <td>0.004129</td>\n",
       "      <td>0.001008</td>\n",
       "      <td>0.028072</td>\n",
       "      <td>1.000000</td>\n",
       "      <td>0.012089</td>\n",
       "      <td>0.049856</td>\n",
       "      <td>0.008941</td>\n",
       "      <td>0.002759</td>\n",
       "    </tr>\n",
       "    <tr>\n",
       "      <th>YearsAtCompany</th>\n",
       "      <td>0.311309</td>\n",
       "      <td>-0.134392</td>\n",
       "      <td>-0.014575</td>\n",
       "      <td>-0.016605</td>\n",
       "      <td>0.022920</td>\n",
       "      <td>0.002294</td>\n",
       "      <td>0.069114</td>\n",
       "      <td>-0.018692</td>\n",
       "      <td>0.001458</td>\n",
       "      <td>-0.029747</td>\n",
       "      <td>...</td>\n",
       "      <td>0.003435</td>\n",
       "      <td>0.019367</td>\n",
       "      <td>0.015058</td>\n",
       "      <td>0.628133</td>\n",
       "      <td>0.003569</td>\n",
       "      <td>0.012089</td>\n",
       "      <td>1.000000</td>\n",
       "      <td>0.758754</td>\n",
       "      <td>0.618409</td>\n",
       "      <td>0.769212</td>\n",
       "    </tr>\n",
       "    <tr>\n",
       "      <th>YearsInCurrentRole</th>\n",
       "      <td>0.212901</td>\n",
       "      <td>-0.160545</td>\n",
       "      <td>-0.011497</td>\n",
       "      <td>0.022805</td>\n",
       "      <td>0.056315</td>\n",
       "      <td>0.016878</td>\n",
       "      <td>0.060236</td>\n",
       "      <td>-0.010506</td>\n",
       "      <td>0.018007</td>\n",
       "      <td>-0.041483</td>\n",
       "      <td>...</td>\n",
       "      <td>0.034986</td>\n",
       "      <td>-0.015123</td>\n",
       "      <td>0.050818</td>\n",
       "      <td>0.460365</td>\n",
       "      <td>-0.005738</td>\n",
       "      <td>0.049856</td>\n",
       "      <td>0.758754</td>\n",
       "      <td>1.000000</td>\n",
       "      <td>0.548056</td>\n",
       "      <td>0.714365</td>\n",
       "    </tr>\n",
       "    <tr>\n",
       "      <th>YearsSinceLastPromotion</th>\n",
       "      <td>0.216513</td>\n",
       "      <td>-0.033019</td>\n",
       "      <td>-0.032591</td>\n",
       "      <td>-0.030845</td>\n",
       "      <td>0.040061</td>\n",
       "      <td>0.011324</td>\n",
       "      <td>0.054254</td>\n",
       "      <td>0.002326</td>\n",
       "      <td>0.016194</td>\n",
       "      <td>-0.026985</td>\n",
       "      <td>...</td>\n",
       "      <td>0.017896</td>\n",
       "      <td>0.033493</td>\n",
       "      <td>0.014352</td>\n",
       "      <td>0.404858</td>\n",
       "      <td>-0.002067</td>\n",
       "      <td>0.008941</td>\n",
       "      <td>0.618409</td>\n",
       "      <td>0.548056</td>\n",
       "      <td>1.000000</td>\n",
       "      <td>0.510224</td>\n",
       "    </tr>\n",
       "    <tr>\n",
       "      <th>YearsWithCurrManager</th>\n",
       "      <td>0.202089</td>\n",
       "      <td>-0.156199</td>\n",
       "      <td>-0.022636</td>\n",
       "      <td>-0.016111</td>\n",
       "      <td>0.034282</td>\n",
       "      <td>0.013450</td>\n",
       "      <td>0.069065</td>\n",
       "      <td>-0.004130</td>\n",
       "      <td>-0.004999</td>\n",
       "      <td>-0.030599</td>\n",
       "      <td>...</td>\n",
       "      <td>0.022827</td>\n",
       "      <td>-0.000867</td>\n",
       "      <td>0.024698</td>\n",
       "      <td>0.459188</td>\n",
       "      <td>-0.004096</td>\n",
       "      <td>0.002759</td>\n",
       "      <td>0.769212</td>\n",
       "      <td>0.714365</td>\n",
       "      <td>0.510224</td>\n",
       "      <td>1.000000</td>\n",
       "    </tr>\n",
       "  </tbody>\n",
       "</table>\n",
       "<p>31 rows × 31 columns</p>\n",
       "</div>"
      ],
      "text/plain": [
       "                               Age  Attrition  BusinessTravel  DailyRate  \\\n",
       "Age                       1.000000  -0.159205        0.024751  -0.005075   \n",
       "Attrition                -0.159205   1.000000        0.000074  -0.066331   \n",
       "BusinessTravel            0.024751   0.000074        1.000000  -0.000250   \n",
       "DailyRate                -0.005075  -0.066331       -0.000250   1.000000   \n",
       "Department               -0.031882   0.063991       -0.009044   0.017941   \n",
       "DistanceFromHome         -0.009238   0.072614       -0.019336  -0.013360   \n",
       "Education                 0.208034  -0.031373        0.000757  -0.029520   \n",
       "EducationField           -0.040873   0.026846        0.023724   0.051635   \n",
       "EnvironmentSatisfaction   0.010146  -0.103369        0.004174  -0.000401   \n",
       "Gender                   -0.036311   0.029453       -0.032981   0.009845   \n",
       "HourlyRate                0.024287  -0.006846        0.026528   0.019387   \n",
       "JobInvolvement            0.029820  -0.130016        0.039062   0.060319   \n",
       "JobLevel                  0.509604  -0.169105        0.019311   0.001506   \n",
       "JobRole                  -0.122427   0.067151        0.002724  -0.002018   \n",
       "JobSatisfaction          -0.004892  -0.103481       -0.033962   0.034614   \n",
       "MaritalStatus            -0.095029   0.162070        0.024001  -0.064842   \n",
       "MonthlyIncome             0.497855  -0.159840        0.034319   0.001331   \n",
       "MonthlyRate               0.028051   0.015170       -0.014107  -0.020775   \n",
       "NumCompaniesWorked        0.299635   0.043494        0.020875   0.025241   \n",
       "OverTime                  0.028062   0.246118        0.016543   0.011453   \n",
       "PercentSalaryHike         0.011461   0.001112       -0.037809   0.006575   \n",
       "PerformanceRating         0.001904   0.002889       -0.026341   0.002464   \n",
       "RelationshipSatisfaction  0.053535  -0.045872       -0.035986   0.014105   \n",
       "StockOptionLevel          0.037510  -0.137145       -0.016727   0.040983   \n",
       "TotalWorkingYears         0.680381  -0.171063        0.034226   0.010857   \n",
       "TrainingTimesLastYear    -0.019621  -0.059478        0.015240   0.019500   \n",
       "WorkLifeBalance          -0.021490  -0.063939       -0.011256  -0.029061   \n",
       "YearsAtCompany            0.311309  -0.134392       -0.014575  -0.016605   \n",
       "YearsInCurrentRole        0.212901  -0.160545       -0.011497   0.022805   \n",
       "YearsSinceLastPromotion   0.216513  -0.033019       -0.032591  -0.030845   \n",
       "YearsWithCurrManager      0.202089  -0.156199       -0.022636  -0.016111   \n",
       "\n",
       "                          Department  DistanceFromHome  Education  \\\n",
       "Age                        -0.031882         -0.009238   0.208034   \n",
       "Attrition                   0.063991          0.072614  -0.031373   \n",
       "BusinessTravel             -0.009044         -0.019336   0.000757   \n",
       "DailyRate                   0.017941         -0.013360  -0.029520   \n",
       "Department                  1.000000          0.000625   0.007996   \n",
       "DistanceFromHome            0.000625          1.000000   0.021638   \n",
       "Education                   0.007996          0.021638   1.000000   \n",
       "EducationField              0.013720         -0.010240  -0.039592   \n",
       "EnvironmentSatisfaction    -0.019395         -0.009827  -0.027128   \n",
       "Gender                     -0.041583          0.007767  -0.016547   \n",
       "HourlyRate                 -0.004144          0.025829   0.016775   \n",
       "JobInvolvement             -0.024586          0.010432   0.042438   \n",
       "JobLevel                    0.101963         -0.006108   0.101589   \n",
       "JobRole                     0.662431         -0.014893   0.004236   \n",
       "JobSatisfaction             0.021001         -0.002519  -0.011296   \n",
       "MaritalStatus               0.056073         -0.026432   0.004053   \n",
       "MonthlyIncome               0.053130         -0.029046   0.094961   \n",
       "MonthlyRate                 0.023642          0.047099  -0.026084   \n",
       "NumCompaniesWorked         -0.035882         -0.037760   0.126317   \n",
       "OverTime                    0.007481          0.027955  -0.020322   \n",
       "PercentSalaryHike          -0.023962          0.056154  -0.006775   \n",
       "PerformanceRating          -0.024604          0.026136  -0.024539   \n",
       "RelationshipSatisfaction   -0.022414          0.014239  -0.009118   \n",
       "StockOptionLevel           -0.012193          0.045196   0.018422   \n",
       "TotalWorkingYears          -0.015762         -0.007565   0.148280   \n",
       "TrainingTimesLastYear       0.036875         -0.028062  -0.025100   \n",
       "WorkLifeBalance             0.026383         -0.034866   0.009819   \n",
       "YearsAtCompany              0.022920          0.002294   0.069114   \n",
       "YearsInCurrentRole          0.056315          0.016878   0.060236   \n",
       "YearsSinceLastPromotion     0.040061          0.011324   0.054254   \n",
       "YearsWithCurrManager        0.034282          0.013450   0.069065   \n",
       "\n",
       "                          EducationField  EnvironmentSatisfaction    Gender  \\\n",
       "Age                            -0.040873                 0.010146 -0.036311   \n",
       "Attrition                       0.026846                -0.103369  0.029453   \n",
       "BusinessTravel                  0.023724                 0.004174 -0.032981   \n",
       "DailyRate                       0.051635                -0.000401  0.009845   \n",
       "Department                      0.013720                -0.019395 -0.041583   \n",
       "DistanceFromHome               -0.010240                -0.009827  0.007767   \n",
       "Education                      -0.039592                -0.027128 -0.016547   \n",
       "EducationField                  1.000000                 0.043163 -0.002504   \n",
       "EnvironmentSatisfaction         0.043163                 1.000000  0.000508   \n",
       "Gender                         -0.002504                 0.000508  1.000000   \n",
       "HourlyRate                     -0.021941                -0.049857 -0.000478   \n",
       "JobInvolvement                 -0.002655                -0.008278  0.017960   \n",
       "JobLevel                       -0.044933                 0.001212 -0.039403   \n",
       "JobRole                         0.015599                -0.017321 -0.039723   \n",
       "JobSatisfaction                -0.034401                -0.006784  0.033252   \n",
       "MaritalStatus                   0.014420                -0.003593 -0.047183   \n",
       "MonthlyIncome                  -0.041070                -0.006259 -0.031858   \n",
       "MonthlyRate                    -0.027182                 0.037600 -0.041482   \n",
       "NumCompaniesWorked             -0.008663                 0.012594 -0.039147   \n",
       "OverTime                        0.002259                 0.070132 -0.041924   \n",
       "PercentSalaryHike              -0.010640                -0.024988 -0.005252   \n",
       "PerformanceRating              -0.005614                -0.029548 -0.013859   \n",
       "RelationshipSatisfaction       -0.004378                 0.007665  0.022868   \n",
       "StockOptionLevel               -0.016185                 0.003432  0.012716   \n",
       "TotalWorkingYears              -0.027848                -0.002693 -0.046881   \n",
       "TrainingTimesLastYear           0.049195                -0.019359 -0.038787   \n",
       "WorkLifeBalance                 0.041191                 0.027627 -0.002753   \n",
       "YearsAtCompany                 -0.018692                 0.001458 -0.029747   \n",
       "YearsInCurrentRole             -0.010506                 0.018007 -0.041483   \n",
       "YearsSinceLastPromotion         0.002326                 0.016194 -0.026985   \n",
       "YearsWithCurrManager           -0.004130                -0.004999 -0.030599   \n",
       "\n",
       "                          ...  PerformanceRating  RelationshipSatisfaction  \\\n",
       "Age                       ...           0.001904                  0.053535   \n",
       "Attrition                 ...           0.002889                 -0.045872   \n",
       "BusinessTravel            ...          -0.026341                 -0.035986   \n",
       "DailyRate                 ...           0.002464                  0.014105   \n",
       "Department                ...          -0.024604                 -0.022414   \n",
       "DistanceFromHome          ...           0.026136                  0.014239   \n",
       "Education                 ...          -0.024539                 -0.009118   \n",
       "EducationField            ...          -0.005614                 -0.004378   \n",
       "EnvironmentSatisfaction   ...          -0.029548                  0.007665   \n",
       "Gender                    ...          -0.013859                  0.022868   \n",
       "HourlyRate                ...          -0.002172                  0.001330   \n",
       "JobInvolvement            ...          -0.029071                  0.034297   \n",
       "JobLevel                  ...          -0.021222                  0.021642   \n",
       "JobRole                   ...          -0.024233                 -0.020218   \n",
       "JobSatisfaction           ...           0.002297                 -0.012454   \n",
       "MaritalStatus             ...           0.005207                  0.022549   \n",
       "MonthlyIncome             ...          -0.017120                  0.025873   \n",
       "MonthlyRate               ...          -0.009811                 -0.004085   \n",
       "NumCompaniesWorked        ...          -0.014095                  0.052733   \n",
       "OverTime                  ...           0.004369                  0.048493   \n",
       "PercentSalaryHike         ...           0.807639                 -0.039408   \n",
       "PerformanceRating         ...           1.000000                 -0.031351   \n",
       "RelationshipSatisfaction  ...          -0.031351                  1.000000   \n",
       "StockOptionLevel          ...           0.003506                 -0.045952   \n",
       "TotalWorkingYears         ...           0.006744                  0.024054   \n",
       "TrainingTimesLastYear     ...          -0.015579                  0.002497   \n",
       "WorkLifeBalance           ...           0.002572                  0.019604   \n",
       "YearsAtCompany            ...           0.003435                  0.019367   \n",
       "YearsInCurrentRole        ...           0.034986                 -0.015123   \n",
       "YearsSinceLastPromotion   ...           0.017896                  0.033493   \n",
       "YearsWithCurrManager      ...           0.022827                 -0.000867   \n",
       "\n",
       "                          StockOptionLevel  TotalWorkingYears  \\\n",
       "Age                               0.037510           0.680381   \n",
       "Attrition                        -0.137145          -0.171063   \n",
       "BusinessTravel                   -0.016727           0.034226   \n",
       "DailyRate                         0.040983           0.010857   \n",
       "Department                       -0.012193          -0.015762   \n",
       "DistanceFromHome                  0.045196          -0.007565   \n",
       "Education                         0.018422           0.148280   \n",
       "EducationField                   -0.016185          -0.027848   \n",
       "EnvironmentSatisfaction           0.003432          -0.002693   \n",
       "Gender                            0.012716          -0.046881   \n",
       "HourlyRate                        0.050263          -0.002334   \n",
       "JobInvolvement                    0.021523          -0.005533   \n",
       "JobLevel                          0.013984           0.782208   \n",
       "JobRole                          -0.019171          -0.145439   \n",
       "JobSatisfaction                   0.010690          -0.020185   \n",
       "MaritalStatus                    -0.662577          -0.077886   \n",
       "MonthlyIncome                     0.005408           0.772893   \n",
       "MonthlyRate                      -0.034323           0.026442   \n",
       "NumCompaniesWorked                0.030075           0.237639   \n",
       "OverTime                         -0.000449           0.012754   \n",
       "PercentSalaryHike                 0.002131          -0.018015   \n",
       "PerformanceRating                 0.003506           0.006744   \n",
       "RelationshipSatisfaction         -0.045952           0.024054   \n",
       "StockOptionLevel                  1.000000           0.010136   \n",
       "TotalWorkingYears                 0.010136           1.000000   \n",
       "TrainingTimesLastYear             0.011274          -0.035662   \n",
       "WorkLifeBalance                   0.004129           0.001008   \n",
       "YearsAtCompany                    0.015058           0.628133   \n",
       "YearsInCurrentRole                0.050818           0.460365   \n",
       "YearsSinceLastPromotion           0.014352           0.404858   \n",
       "YearsWithCurrManager              0.024698           0.459188   \n",
       "\n",
       "                          TrainingTimesLastYear  WorkLifeBalance  \\\n",
       "Age                                   -0.019621        -0.021490   \n",
       "Attrition                             -0.059478        -0.063939   \n",
       "BusinessTravel                         0.015240        -0.011256   \n",
       "DailyRate                              0.019500        -0.029061   \n",
       "Department                             0.036875         0.026383   \n",
       "DistanceFromHome                      -0.028062        -0.034866   \n",
       "Education                             -0.025100         0.009819   \n",
       "EducationField                         0.049195         0.041191   \n",
       "EnvironmentSatisfaction               -0.019359         0.027627   \n",
       "Gender                                -0.038787        -0.002753   \n",
       "HourlyRate                            -0.008548        -0.004607   \n",
       "JobInvolvement                        -0.015338        -0.014617   \n",
       "JobLevel                              -0.018191         0.037818   \n",
       "JobRole                                0.001342         0.027764   \n",
       "JobSatisfaction                       -0.005779        -0.019459   \n",
       "MaritalStatus                          0.010629         0.014708   \n",
       "MonthlyIncome                         -0.021736         0.030683   \n",
       "MonthlyRate                            0.001467         0.007963   \n",
       "NumCompaniesWorked                    -0.066054        -0.008366   \n",
       "OverTime                              -0.079113        -0.027092   \n",
       "PercentSalaryHike                     -0.023388        -0.008269   \n",
       "PerformanceRating                     -0.015579         0.002572   \n",
       "RelationshipSatisfaction               0.002497         0.019604   \n",
       "StockOptionLevel                       0.011274         0.004129   \n",
       "TotalWorkingYears                     -0.035662         0.001008   \n",
       "TrainingTimesLastYear                  1.000000         0.028072   \n",
       "WorkLifeBalance                        0.028072         1.000000   \n",
       "YearsAtCompany                         0.003569         0.012089   \n",
       "YearsInCurrentRole                    -0.005738         0.049856   \n",
       "YearsSinceLastPromotion               -0.002067         0.008941   \n",
       "YearsWithCurrManager                  -0.004096         0.002759   \n",
       "\n",
       "                          YearsAtCompany  YearsInCurrentRole  \\\n",
       "Age                             0.311309            0.212901   \n",
       "Attrition                      -0.134392           -0.160545   \n",
       "BusinessTravel                 -0.014575           -0.011497   \n",
       "DailyRate                      -0.016605            0.022805   \n",
       "Department                      0.022920            0.056315   \n",
       "DistanceFromHome                0.002294            0.016878   \n",
       "Education                       0.069114            0.060236   \n",
       "EducationField                 -0.018692           -0.010506   \n",
       "EnvironmentSatisfaction         0.001458            0.018007   \n",
       "Gender                         -0.029747           -0.041483   \n",
       "HourlyRate                     -0.019582           -0.024106   \n",
       "JobInvolvement                 -0.021355            0.008717   \n",
       "JobLevel                        0.534739            0.389447   \n",
       "JobRole                        -0.083657           -0.028354   \n",
       "JobSatisfaction                -0.003803           -0.002305   \n",
       "MaritalStatus                  -0.059986           -0.065822   \n",
       "MonthlyIncome                   0.514285            0.363818   \n",
       "MonthlyRate                    -0.023655           -0.012815   \n",
       "NumCompaniesWorked             -0.118421           -0.090754   \n",
       "OverTime                       -0.011687           -0.029758   \n",
       "PercentSalaryHike              -0.034535           -0.002355   \n",
       "PerformanceRating               0.003435            0.034986   \n",
       "RelationshipSatisfaction        0.019367           -0.015123   \n",
       "StockOptionLevel                0.015058            0.050818   \n",
       "TotalWorkingYears               0.628133            0.460365   \n",
       "TrainingTimesLastYear           0.003569           -0.005738   \n",
       "WorkLifeBalance                 0.012089            0.049856   \n",
       "YearsAtCompany                  1.000000            0.758754   \n",
       "YearsInCurrentRole              0.758754            1.000000   \n",
       "YearsSinceLastPromotion         0.618409            0.548056   \n",
       "YearsWithCurrManager            0.769212            0.714365   \n",
       "\n",
       "                          YearsSinceLastPromotion  YearsWithCurrManager  \n",
       "Age                                      0.216513              0.202089  \n",
       "Attrition                               -0.033019             -0.156199  \n",
       "BusinessTravel                          -0.032591             -0.022636  \n",
       "DailyRate                               -0.030845             -0.016111  \n",
       "Department                               0.040061              0.034282  \n",
       "DistanceFromHome                         0.011324              0.013450  \n",
       "Education                                0.054254              0.069065  \n",
       "EducationField                           0.002326             -0.004130  \n",
       "EnvironmentSatisfaction                  0.016194             -0.004999  \n",
       "Gender                                  -0.026985             -0.030599  \n",
       "HourlyRate                              -0.026716             -0.020123  \n",
       "JobInvolvement                          -0.024184              0.025976  \n",
       "JobLevel                                 0.353885              0.375281  \n",
       "JobRole                                 -0.046384             -0.041150  \n",
       "JobSatisfaction                         -0.018214             -0.027656  \n",
       "MaritalStatus                           -0.030915             -0.038570  \n",
       "MonthlyIncome                            0.344978              0.344079  \n",
       "MonthlyRate                              0.001567             -0.036746  \n",
       "NumCompaniesWorked                      -0.036814             -0.110319  \n",
       "OverTime                                -0.012239             -0.041586  \n",
       "PercentSalaryHike                       -0.022778             -0.018834  \n",
       "PerformanceRating                        0.017896              0.022827  \n",
       "RelationshipSatisfaction                 0.033493             -0.000867  \n",
       "StockOptionLevel                         0.014352              0.024698  \n",
       "TotalWorkingYears                        0.404858              0.459188  \n",
       "TrainingTimesLastYear                   -0.002067             -0.004096  \n",
       "WorkLifeBalance                          0.008941              0.002759  \n",
       "YearsAtCompany                           0.618409              0.769212  \n",
       "YearsInCurrentRole                       0.548056              0.714365  \n",
       "YearsSinceLastPromotion                  1.000000              0.510224  \n",
       "YearsWithCurrManager                     0.510224              1.000000  \n",
       "\n",
       "[31 rows x 31 columns]"
      ]
     },
     "execution_count": 95,
     "metadata": {},
     "output_type": "execute_result"
    }
   ],
   "source": [
    "cor=df.corr()\n",
    "cor"
   ]
  },
  {
   "cell_type": "markdown",
   "id": "12f9f28a",
   "metadata": {},
   "source": [
    "### There are many columns, so we should use VIF to find the multi-collinearity between the columns."
   ]
  },
  {
   "cell_type": "markdown",
   "id": "a9398fad",
   "metadata": {},
   "source": [
    "## Outliers Removal"
   ]
  },
  {
   "cell_type": "code",
   "execution_count": 98,
   "id": "b98c4b24",
   "metadata": {},
   "outputs": [
    {
     "data": {
      "text/plain": [
       "(1387, 31)"
      ]
     },
     "execution_count": 98,
     "metadata": {},
     "output_type": "execute_result"
    }
   ],
   "source": [
    "from scipy.stats import zscore\n",
    "z=np.abs(zscore(df))\n",
    "n_df=df[(z<3).all(axis=1)]\n",
    "n_df.shape"
   ]
  },
  {
   "cell_type": "code",
   "execution_count": 99,
   "id": "9d753ee4",
   "metadata": {},
   "outputs": [
    {
     "data": {
      "text/plain": [
       "(1470, 31)"
      ]
     },
     "execution_count": 99,
     "metadata": {},
     "output_type": "execute_result"
    }
   ],
   "source": [
    "df.shape"
   ]
  },
  {
   "cell_type": "code",
   "execution_count": 100,
   "id": "9a0dd9da",
   "metadata": {},
   "outputs": [
    {
     "name": "stdout",
     "output_type": "stream",
     "text": [
      "5.646258503401361\n"
     ]
    }
   ],
   "source": [
    "dataloss=(1470-1387)/1470\n",
    "print(dataloss*100)"
   ]
  },
  {
   "cell_type": "markdown",
   "id": "4ba4b97c",
   "metadata": {},
   "source": [
    "### Dataloss is less than 7.5%, we can continue with the new data set"
   ]
  },
  {
   "cell_type": "markdown",
   "id": "811f0b1a",
   "metadata": {},
   "source": [
    "## Skewness"
   ]
  },
  {
   "cell_type": "code",
   "execution_count": 103,
   "id": "0373c8f1",
   "metadata": {},
   "outputs": [
    {
     "data": {
      "text/plain": [
       "Age                         0.472280\n",
       "Attrition                   1.805983\n",
       "BusinessTravel             -1.426774\n",
       "DailyRate                  -0.027173\n",
       "Department                  0.183919\n",
       "DistanceFromHome            0.675579\n",
       "Education                  -0.289024\n",
       "EducationField              0.544868\n",
       "EnvironmentSatisfaction    -0.325285\n",
       "Gender                     -0.417296\n",
       "HourlyRate                 -0.030481\n",
       "JobInvolvement             -0.501401\n",
       "JobLevel                    1.126075\n",
       "JobRole                    -0.386843\n",
       "JobSatisfaction            -0.345612\n",
       "MaritalStatus              -0.160952\n",
       "MonthlyIncome               1.544770\n",
       "MonthlyRate                 0.030596\n",
       "NumCompaniesWorked          1.037715\n",
       "OverTime                    0.954751\n",
       "PercentSalaryHike           0.796450\n",
       "PerformanceRating           1.931566\n",
       "RelationshipSatisfaction   -0.295686\n",
       "StockOptionLevel            0.962332\n",
       "TotalWorkingYears           1.034487\n",
       "TrainingTimesLastYear       0.577614\n",
       "WorkLifeBalance            -0.557100\n",
       "YearsAtCompany              1.248623\n",
       "YearsInCurrentRole          0.726675\n",
       "YearsSinceLastPromotion     1.756335\n",
       "YearsWithCurrManager        0.694506\n",
       "dtype: float64"
      ]
     },
     "execution_count": 103,
     "metadata": {},
     "output_type": "execute_result"
    }
   ],
   "source": [
    "n_df.skew()"
   ]
  },
  {
   "cell_type": "code",
   "execution_count": 104,
   "id": "febb6888",
   "metadata": {},
   "outputs": [],
   "source": [
    "from sklearn.preprocessing import PowerTransformer\n",
    "pt = PowerTransformer(method = 'yeo-johnson')\n",
    "s=['DistanceFromHome','JobLevel','MonthlyIncome','NumCompaniesWorked','PercentSalaryHike','PerformanceRating','StockOptionLevel',\n",
    "  'TotalWorkingYears','YearsAtCompany','YearsInCurrentRole','YearsSinceLastPromotion','YearsWithCurrManager','TrainingTimesLastYear']\n",
    "for i in s:\n",
    "    n_df[i] = pt.fit_transform(np.array(n_df[i]).reshape(-1,1))[:,0]"
   ]
  },
  {
   "cell_type": "code",
   "execution_count": 105,
   "id": "45864c1e",
   "metadata": {},
   "outputs": [
    {
     "data": {
      "text/plain": [
       "Age                         0.472280\n",
       "Attrition                   1.805983\n",
       "BusinessTravel             -1.426774\n",
       "DailyRate                  -0.027173\n",
       "Department                  0.183919\n",
       "DistanceFromHome            0.102456\n",
       "Education                  -0.289024\n",
       "EducationField              0.544868\n",
       "EnvironmentSatisfaction    -0.325285\n",
       "Gender                     -0.417296\n",
       "HourlyRate                 -0.030481\n",
       "JobInvolvement             -0.501401\n",
       "JobLevel                    0.110769\n",
       "JobRole                    -0.386843\n",
       "JobSatisfaction            -0.345612\n",
       "MaritalStatus              -0.160952\n",
       "MonthlyIncome               0.027700\n",
       "MonthlyRate                 0.030596\n",
       "NumCompaniesWorked          0.016175\n",
       "OverTime                    0.954751\n",
       "PercentSalaryHike           0.344800\n",
       "PerformanceRating           0.000000\n",
       "RelationshipSatisfaction   -0.295686\n",
       "StockOptionLevel            0.089929\n",
       "TotalWorkingYears          -0.009666\n",
       "TrainingTimesLastYear       0.057949\n",
       "WorkLifeBalance            -0.557100\n",
       "YearsAtCompany             -0.025230\n",
       "YearsInCurrentRole         -0.069631\n",
       "YearsSinceLastPromotion     0.212301\n",
       "YearsWithCurrManager       -0.070570\n",
       "dtype: float64"
      ]
     },
     "execution_count": 105,
     "metadata": {},
     "output_type": "execute_result"
    }
   ],
   "source": [
    "n_df.skew()"
   ]
  },
  {
   "cell_type": "code",
   "execution_count": 106,
   "id": "5d30ed43",
   "metadata": {},
   "outputs": [],
   "source": [
    "x=df.drop(['Attrition'],axis=1)\n",
    "y=df['Attrition']"
   ]
  },
  {
   "cell_type": "markdown",
   "id": "b2d1c21a",
   "metadata": {},
   "source": [
    "## VIF"
   ]
  },
  {
   "cell_type": "code",
   "execution_count": 108,
   "id": "11a475dd",
   "metadata": {},
   "outputs": [
    {
     "data": {
      "text/html": [
       "<div>\n",
       "<style scoped>\n",
       "    .dataframe tbody tr th:only-of-type {\n",
       "        vertical-align: middle;\n",
       "    }\n",
       "\n",
       "    .dataframe tbody tr th {\n",
       "        vertical-align: top;\n",
       "    }\n",
       "\n",
       "    .dataframe thead th {\n",
       "        text-align: right;\n",
       "    }\n",
       "</style>\n",
       "<table border=\"1\" class=\"dataframe\">\n",
       "  <thead>\n",
       "    <tr style=\"text-align: right;\">\n",
       "      <th></th>\n",
       "      <th>vif</th>\n",
       "      <th>col</th>\n",
       "    </tr>\n",
       "  </thead>\n",
       "  <tbody>\n",
       "    <tr>\n",
       "      <th>0</th>\n",
       "      <td>33.282907</td>\n",
       "      <td>Age</td>\n",
       "    </tr>\n",
       "    <tr>\n",
       "      <th>1</th>\n",
       "      <td>6.762954</td>\n",
       "      <td>BusinessTravel</td>\n",
       "    </tr>\n",
       "    <tr>\n",
       "      <th>2</th>\n",
       "      <td>5.834966</td>\n",
       "      <td>DailyRate</td>\n",
       "    </tr>\n",
       "    <tr>\n",
       "      <th>3</th>\n",
       "      <td>12.986299</td>\n",
       "      <td>Department</td>\n",
       "    </tr>\n",
       "    <tr>\n",
       "      <th>4</th>\n",
       "      <td>3.484006</td>\n",
       "      <td>DistanceFromHome</td>\n",
       "    </tr>\n",
       "    <tr>\n",
       "      <th>5</th>\n",
       "      <td>9.459486</td>\n",
       "      <td>Education</td>\n",
       "    </tr>\n",
       "    <tr>\n",
       "      <th>6</th>\n",
       "      <td>3.871928</td>\n",
       "      <td>EducationField</td>\n",
       "    </tr>\n",
       "    <tr>\n",
       "      <th>7</th>\n",
       "      <td>7.093147</td>\n",
       "      <td>EnvironmentSatisfaction</td>\n",
       "    </tr>\n",
       "    <tr>\n",
       "      <th>8</th>\n",
       "      <td>2.510615</td>\n",
       "      <td>Gender</td>\n",
       "    </tr>\n",
       "    <tr>\n",
       "      <th>9</th>\n",
       "      <td>11.281644</td>\n",
       "      <td>HourlyRate</td>\n",
       "    </tr>\n",
       "    <tr>\n",
       "      <th>10</th>\n",
       "      <td>15.147695</td>\n",
       "      <td>JobInvolvement</td>\n",
       "    </tr>\n",
       "    <tr>\n",
       "      <th>11</th>\n",
       "      <td>52.521441</td>\n",
       "      <td>JobLevel</td>\n",
       "    </tr>\n",
       "    <tr>\n",
       "      <th>12</th>\n",
       "      <td>8.079711</td>\n",
       "      <td>JobRole</td>\n",
       "    </tr>\n",
       "    <tr>\n",
       "      <th>13</th>\n",
       "      <td>7.045347</td>\n",
       "      <td>JobSatisfaction</td>\n",
       "    </tr>\n",
       "    <tr>\n",
       "      <th>14</th>\n",
       "      <td>5.791416</td>\n",
       "      <td>MaritalStatus</td>\n",
       "    </tr>\n",
       "    <tr>\n",
       "      <th>15</th>\n",
       "      <td>32.068965</td>\n",
       "      <td>MonthlyIncome</td>\n",
       "    </tr>\n",
       "    <tr>\n",
       "      <th>16</th>\n",
       "      <td>5.024655</td>\n",
       "      <td>MonthlyRate</td>\n",
       "    </tr>\n",
       "    <tr>\n",
       "      <th>17</th>\n",
       "      <td>2.726297</td>\n",
       "      <td>NumCompaniesWorked</td>\n",
       "    </tr>\n",
       "    <tr>\n",
       "      <th>18</th>\n",
       "      <td>1.436403</td>\n",
       "      <td>OverTime</td>\n",
       "    </tr>\n",
       "    <tr>\n",
       "      <th>19</th>\n",
       "      <td>52.049799</td>\n",
       "      <td>PercentSalaryHike</td>\n",
       "    </tr>\n",
       "    <tr>\n",
       "      <th>20</th>\n",
       "      <td>143.299942</td>\n",
       "      <td>PerformanceRating</td>\n",
       "    </tr>\n",
       "    <tr>\n",
       "      <th>21</th>\n",
       "      <td>7.284726</td>\n",
       "      <td>RelationshipSatisfaction</td>\n",
       "    </tr>\n",
       "    <tr>\n",
       "      <th>22</th>\n",
       "      <td>3.326928</td>\n",
       "      <td>StockOptionLevel</td>\n",
       "    </tr>\n",
       "    <tr>\n",
       "      <th>23</th>\n",
       "      <td>14.590966</td>\n",
       "      <td>TotalWorkingYears</td>\n",
       "    </tr>\n",
       "    <tr>\n",
       "      <th>24</th>\n",
       "      <td>5.738161</td>\n",
       "      <td>TrainingTimesLastYear</td>\n",
       "    </tr>\n",
       "    <tr>\n",
       "      <th>25</th>\n",
       "      <td>15.636513</td>\n",
       "      <td>WorkLifeBalance</td>\n",
       "    </tr>\n",
       "    <tr>\n",
       "      <th>26</th>\n",
       "      <td>10.556403</td>\n",
       "      <td>YearsAtCompany</td>\n",
       "    </tr>\n",
       "    <tr>\n",
       "      <th>27</th>\n",
       "      <td>6.441741</td>\n",
       "      <td>YearsInCurrentRole</td>\n",
       "    </tr>\n",
       "    <tr>\n",
       "      <th>28</th>\n",
       "      <td>2.453623</td>\n",
       "      <td>YearsSinceLastPromotion</td>\n",
       "    </tr>\n",
       "    <tr>\n",
       "      <th>29</th>\n",
       "      <td>6.503775</td>\n",
       "      <td>YearsWithCurrManager</td>\n",
       "    </tr>\n",
       "  </tbody>\n",
       "</table>\n",
       "</div>"
      ],
      "text/plain": [
       "           vif                       col\n",
       "0    33.282907                       Age\n",
       "1     6.762954            BusinessTravel\n",
       "2     5.834966                 DailyRate\n",
       "3    12.986299                Department\n",
       "4     3.484006          DistanceFromHome\n",
       "5     9.459486                 Education\n",
       "6     3.871928            EducationField\n",
       "7     7.093147   EnvironmentSatisfaction\n",
       "8     2.510615                    Gender\n",
       "9    11.281644                HourlyRate\n",
       "10   15.147695            JobInvolvement\n",
       "11   52.521441                  JobLevel\n",
       "12    8.079711                   JobRole\n",
       "13    7.045347           JobSatisfaction\n",
       "14    5.791416             MaritalStatus\n",
       "15   32.068965             MonthlyIncome\n",
       "16    5.024655               MonthlyRate\n",
       "17    2.726297        NumCompaniesWorked\n",
       "18    1.436403                  OverTime\n",
       "19   52.049799         PercentSalaryHike\n",
       "20  143.299942         PerformanceRating\n",
       "21    7.284726  RelationshipSatisfaction\n",
       "22    3.326928          StockOptionLevel\n",
       "23   14.590966         TotalWorkingYears\n",
       "24    5.738161     TrainingTimesLastYear\n",
       "25   15.636513           WorkLifeBalance\n",
       "26   10.556403            YearsAtCompany\n",
       "27    6.441741        YearsInCurrentRole\n",
       "28    2.453623   YearsSinceLastPromotion\n",
       "29    6.503775      YearsWithCurrManager"
      ]
     },
     "execution_count": 108,
     "metadata": {},
     "output_type": "execute_result"
    }
   ],
   "source": [
    "from statsmodels.stats.outliers_influence import variance_inflation_factor\n",
    "vif=pd.DataFrame()\n",
    "vif['vif']=[variance_inflation_factor(x.values,i) for i in range(len(x.columns))]\n",
    "vif['col']=x.columns\n",
    "vif"
   ]
  },
  {
   "cell_type": "markdown",
   "id": "9c1c354f",
   "metadata": {},
   "source": [
    "### We should drop the column with highest VIF score until all the values are below 5 or 10."
   ]
  },
  {
   "cell_type": "code",
   "execution_count": 110,
   "id": "26905e1e",
   "metadata": {},
   "outputs": [],
   "source": [
    "x.drop(['PerformanceRating'],axis=1,inplace=True)"
   ]
  },
  {
   "cell_type": "code",
   "execution_count": 111,
   "id": "0fb4112f",
   "metadata": {},
   "outputs": [
    {
     "data": {
      "text/html": [
       "<div>\n",
       "<style scoped>\n",
       "    .dataframe tbody tr th:only-of-type {\n",
       "        vertical-align: middle;\n",
       "    }\n",
       "\n",
       "    .dataframe tbody tr th {\n",
       "        vertical-align: top;\n",
       "    }\n",
       "\n",
       "    .dataframe thead th {\n",
       "        text-align: right;\n",
       "    }\n",
       "</style>\n",
       "<table border=\"1\" class=\"dataframe\">\n",
       "  <thead>\n",
       "    <tr style=\"text-align: right;\">\n",
       "      <th></th>\n",
       "      <th>vif</th>\n",
       "      <th>col</th>\n",
       "    </tr>\n",
       "  </thead>\n",
       "  <tbody>\n",
       "    <tr>\n",
       "      <th>0</th>\n",
       "      <td>32.462102</td>\n",
       "      <td>Age</td>\n",
       "    </tr>\n",
       "    <tr>\n",
       "      <th>1</th>\n",
       "      <td>6.634966</td>\n",
       "      <td>BusinessTravel</td>\n",
       "    </tr>\n",
       "    <tr>\n",
       "      <th>2</th>\n",
       "      <td>5.780167</td>\n",
       "      <td>DailyRate</td>\n",
       "    </tr>\n",
       "    <tr>\n",
       "      <th>3</th>\n",
       "      <td>12.951007</td>\n",
       "      <td>Department</td>\n",
       "    </tr>\n",
       "    <tr>\n",
       "      <th>4</th>\n",
       "      <td>3.480031</td>\n",
       "      <td>DistanceFromHome</td>\n",
       "    </tr>\n",
       "    <tr>\n",
       "      <th>5</th>\n",
       "      <td>9.400955</td>\n",
       "      <td>Education</td>\n",
       "    </tr>\n",
       "    <tr>\n",
       "      <th>6</th>\n",
       "      <td>3.843796</td>\n",
       "      <td>EducationField</td>\n",
       "    </tr>\n",
       "    <tr>\n",
       "      <th>7</th>\n",
       "      <td>7.001277</td>\n",
       "      <td>EnvironmentSatisfaction</td>\n",
       "    </tr>\n",
       "    <tr>\n",
       "      <th>8</th>\n",
       "      <td>2.496494</td>\n",
       "      <td>Gender</td>\n",
       "    </tr>\n",
       "    <tr>\n",
       "      <th>9</th>\n",
       "      <td>10.891875</td>\n",
       "      <td>HourlyRate</td>\n",
       "    </tr>\n",
       "    <tr>\n",
       "      <th>10</th>\n",
       "      <td>14.786124</td>\n",
       "      <td>JobInvolvement</td>\n",
       "    </tr>\n",
       "    <tr>\n",
       "      <th>11</th>\n",
       "      <td>52.433929</td>\n",
       "      <td>JobLevel</td>\n",
       "    </tr>\n",
       "    <tr>\n",
       "      <th>12</th>\n",
       "      <td>8.074609</td>\n",
       "      <td>JobRole</td>\n",
       "    </tr>\n",
       "    <tr>\n",
       "      <th>13</th>\n",
       "      <td>6.908221</td>\n",
       "      <td>JobSatisfaction</td>\n",
       "    </tr>\n",
       "    <tr>\n",
       "      <th>14</th>\n",
       "      <td>5.677227</td>\n",
       "      <td>MaritalStatus</td>\n",
       "    </tr>\n",
       "    <tr>\n",
       "      <th>15</th>\n",
       "      <td>32.031328</td>\n",
       "      <td>MonthlyIncome</td>\n",
       "    </tr>\n",
       "    <tr>\n",
       "      <th>16</th>\n",
       "      <td>4.975004</td>\n",
       "      <td>MonthlyRate</td>\n",
       "    </tr>\n",
       "    <tr>\n",
       "      <th>17</th>\n",
       "      <td>2.726191</td>\n",
       "      <td>NumCompaniesWorked</td>\n",
       "    </tr>\n",
       "    <tr>\n",
       "      <th>18</th>\n",
       "      <td>1.431389</td>\n",
       "      <td>OverTime</td>\n",
       "    </tr>\n",
       "    <tr>\n",
       "      <th>19</th>\n",
       "      <td>16.951818</td>\n",
       "      <td>PercentSalaryHike</td>\n",
       "    </tr>\n",
       "    <tr>\n",
       "      <th>20</th>\n",
       "      <td>7.179238</td>\n",
       "      <td>RelationshipSatisfaction</td>\n",
       "    </tr>\n",
       "    <tr>\n",
       "      <th>21</th>\n",
       "      <td>3.284605</td>\n",
       "      <td>StockOptionLevel</td>\n",
       "    </tr>\n",
       "    <tr>\n",
       "      <th>22</th>\n",
       "      <td>14.536033</td>\n",
       "      <td>TotalWorkingYears</td>\n",
       "    </tr>\n",
       "    <tr>\n",
       "      <th>23</th>\n",
       "      <td>5.662504</td>\n",
       "      <td>TrainingTimesLastYear</td>\n",
       "    </tr>\n",
       "    <tr>\n",
       "      <th>24</th>\n",
       "      <td>14.958228</td>\n",
       "      <td>WorkLifeBalance</td>\n",
       "    </tr>\n",
       "    <tr>\n",
       "      <th>25</th>\n",
       "      <td>10.551987</td>\n",
       "      <td>YearsAtCompany</td>\n",
       "    </tr>\n",
       "    <tr>\n",
       "      <th>26</th>\n",
       "      <td>6.441733</td>\n",
       "      <td>YearsInCurrentRole</td>\n",
       "    </tr>\n",
       "    <tr>\n",
       "      <th>27</th>\n",
       "      <td>2.452618</td>\n",
       "      <td>YearsSinceLastPromotion</td>\n",
       "    </tr>\n",
       "    <tr>\n",
       "      <th>28</th>\n",
       "      <td>6.486243</td>\n",
       "      <td>YearsWithCurrManager</td>\n",
       "    </tr>\n",
       "  </tbody>\n",
       "</table>\n",
       "</div>"
      ],
      "text/plain": [
       "          vif                       col\n",
       "0   32.462102                       Age\n",
       "1    6.634966            BusinessTravel\n",
       "2    5.780167                 DailyRate\n",
       "3   12.951007                Department\n",
       "4    3.480031          DistanceFromHome\n",
       "5    9.400955                 Education\n",
       "6    3.843796            EducationField\n",
       "7    7.001277   EnvironmentSatisfaction\n",
       "8    2.496494                    Gender\n",
       "9   10.891875                HourlyRate\n",
       "10  14.786124            JobInvolvement\n",
       "11  52.433929                  JobLevel\n",
       "12   8.074609                   JobRole\n",
       "13   6.908221           JobSatisfaction\n",
       "14   5.677227             MaritalStatus\n",
       "15  32.031328             MonthlyIncome\n",
       "16   4.975004               MonthlyRate\n",
       "17   2.726191        NumCompaniesWorked\n",
       "18   1.431389                  OverTime\n",
       "19  16.951818         PercentSalaryHike\n",
       "20   7.179238  RelationshipSatisfaction\n",
       "21   3.284605          StockOptionLevel\n",
       "22  14.536033         TotalWorkingYears\n",
       "23   5.662504     TrainingTimesLastYear\n",
       "24  14.958228           WorkLifeBalance\n",
       "25  10.551987            YearsAtCompany\n",
       "26   6.441733        YearsInCurrentRole\n",
       "27   2.452618   YearsSinceLastPromotion\n",
       "28   6.486243      YearsWithCurrManager"
      ]
     },
     "execution_count": 111,
     "metadata": {},
     "output_type": "execute_result"
    }
   ],
   "source": [
    "vif=pd.DataFrame()\n",
    "vif['vif']=[variance_inflation_factor(x.values,i) for i in range(len(x.columns))]\n",
    "vif['col']=x.columns\n",
    "vif"
   ]
  },
  {
   "cell_type": "code",
   "execution_count": 112,
   "id": "f4dcd2e0",
   "metadata": {},
   "outputs": [],
   "source": [
    "x.drop(['JobLevel'],axis=1,inplace=True)"
   ]
  },
  {
   "cell_type": "code",
   "execution_count": 113,
   "id": "a6dfe4dd",
   "metadata": {},
   "outputs": [
    {
     "data": {
      "text/html": [
       "<div>\n",
       "<style scoped>\n",
       "    .dataframe tbody tr th:only-of-type {\n",
       "        vertical-align: middle;\n",
       "    }\n",
       "\n",
       "    .dataframe tbody tr th {\n",
       "        vertical-align: top;\n",
       "    }\n",
       "\n",
       "    .dataframe thead th {\n",
       "        text-align: right;\n",
       "    }\n",
       "</style>\n",
       "<table border=\"1\" class=\"dataframe\">\n",
       "  <thead>\n",
       "    <tr style=\"text-align: right;\">\n",
       "      <th></th>\n",
       "      <th>vif</th>\n",
       "      <th>col</th>\n",
       "    </tr>\n",
       "  </thead>\n",
       "  <tbody>\n",
       "    <tr>\n",
       "      <th>0</th>\n",
       "      <td>32.345292</td>\n",
       "      <td>Age</td>\n",
       "    </tr>\n",
       "    <tr>\n",
       "      <th>1</th>\n",
       "      <td>6.632691</td>\n",
       "      <td>BusinessTravel</td>\n",
       "    </tr>\n",
       "    <tr>\n",
       "      <th>2</th>\n",
       "      <td>5.779345</td>\n",
       "      <td>DailyRate</td>\n",
       "    </tr>\n",
       "    <tr>\n",
       "      <th>3</th>\n",
       "      <td>12.277283</td>\n",
       "      <td>Department</td>\n",
       "    </tr>\n",
       "    <tr>\n",
       "      <th>4</th>\n",
       "      <td>3.461413</td>\n",
       "      <td>DistanceFromHome</td>\n",
       "    </tr>\n",
       "    <tr>\n",
       "      <th>5</th>\n",
       "      <td>9.396893</td>\n",
       "      <td>Education</td>\n",
       "    </tr>\n",
       "    <tr>\n",
       "      <th>6</th>\n",
       "      <td>3.843257</td>\n",
       "      <td>EducationField</td>\n",
       "    </tr>\n",
       "    <tr>\n",
       "      <th>7</th>\n",
       "      <td>6.986175</td>\n",
       "      <td>EnvironmentSatisfaction</td>\n",
       "    </tr>\n",
       "    <tr>\n",
       "      <th>8</th>\n",
       "      <td>2.496416</td>\n",
       "      <td>Gender</td>\n",
       "    </tr>\n",
       "    <tr>\n",
       "      <th>9</th>\n",
       "      <td>10.885076</td>\n",
       "      <td>HourlyRate</td>\n",
       "    </tr>\n",
       "    <tr>\n",
       "      <th>10</th>\n",
       "      <td>14.761159</td>\n",
       "      <td>JobInvolvement</td>\n",
       "    </tr>\n",
       "    <tr>\n",
       "      <th>11</th>\n",
       "      <td>7.969839</td>\n",
       "      <td>JobRole</td>\n",
       "    </tr>\n",
       "    <tr>\n",
       "      <th>12</th>\n",
       "      <td>6.898855</td>\n",
       "      <td>JobSatisfaction</td>\n",
       "    </tr>\n",
       "    <tr>\n",
       "      <th>13</th>\n",
       "      <td>5.673978</td>\n",
       "      <td>MaritalStatus</td>\n",
       "    </tr>\n",
       "    <tr>\n",
       "      <th>14</th>\n",
       "      <td>7.480985</td>\n",
       "      <td>MonthlyIncome</td>\n",
       "    </tr>\n",
       "    <tr>\n",
       "      <th>15</th>\n",
       "      <td>4.969475</td>\n",
       "      <td>MonthlyRate</td>\n",
       "    </tr>\n",
       "    <tr>\n",
       "      <th>16</th>\n",
       "      <td>2.725369</td>\n",
       "      <td>NumCompaniesWorked</td>\n",
       "    </tr>\n",
       "    <tr>\n",
       "      <th>17</th>\n",
       "      <td>1.431175</td>\n",
       "      <td>OverTime</td>\n",
       "    </tr>\n",
       "    <tr>\n",
       "      <th>18</th>\n",
       "      <td>16.944458</td>\n",
       "      <td>PercentSalaryHike</td>\n",
       "    </tr>\n",
       "    <tr>\n",
       "      <th>19</th>\n",
       "      <td>7.178376</td>\n",
       "      <td>RelationshipSatisfaction</td>\n",
       "    </tr>\n",
       "    <tr>\n",
       "      <th>20</th>\n",
       "      <td>3.280163</td>\n",
       "      <td>StockOptionLevel</td>\n",
       "    </tr>\n",
       "    <tr>\n",
       "      <th>21</th>\n",
       "      <td>14.228615</td>\n",
       "      <td>TotalWorkingYears</td>\n",
       "    </tr>\n",
       "    <tr>\n",
       "      <th>22</th>\n",
       "      <td>5.660380</td>\n",
       "      <td>TrainingTimesLastYear</td>\n",
       "    </tr>\n",
       "    <tr>\n",
       "      <th>23</th>\n",
       "      <td>14.883274</td>\n",
       "      <td>WorkLifeBalance</td>\n",
       "    </tr>\n",
       "    <tr>\n",
       "      <th>24</th>\n",
       "      <td>10.548013</td>\n",
       "      <td>YearsAtCompany</td>\n",
       "    </tr>\n",
       "    <tr>\n",
       "      <th>25</th>\n",
       "      <td>6.441125</td>\n",
       "      <td>YearsInCurrentRole</td>\n",
       "    </tr>\n",
       "    <tr>\n",
       "      <th>26</th>\n",
       "      <td>2.451178</td>\n",
       "      <td>YearsSinceLastPromotion</td>\n",
       "    </tr>\n",
       "    <tr>\n",
       "      <th>27</th>\n",
       "      <td>6.469991</td>\n",
       "      <td>YearsWithCurrManager</td>\n",
       "    </tr>\n",
       "  </tbody>\n",
       "</table>\n",
       "</div>"
      ],
      "text/plain": [
       "          vif                       col\n",
       "0   32.345292                       Age\n",
       "1    6.632691            BusinessTravel\n",
       "2    5.779345                 DailyRate\n",
       "3   12.277283                Department\n",
       "4    3.461413          DistanceFromHome\n",
       "5    9.396893                 Education\n",
       "6    3.843257            EducationField\n",
       "7    6.986175   EnvironmentSatisfaction\n",
       "8    2.496416                    Gender\n",
       "9   10.885076                HourlyRate\n",
       "10  14.761159            JobInvolvement\n",
       "11   7.969839                   JobRole\n",
       "12   6.898855           JobSatisfaction\n",
       "13   5.673978             MaritalStatus\n",
       "14   7.480985             MonthlyIncome\n",
       "15   4.969475               MonthlyRate\n",
       "16   2.725369        NumCompaniesWorked\n",
       "17   1.431175                  OverTime\n",
       "18  16.944458         PercentSalaryHike\n",
       "19   7.178376  RelationshipSatisfaction\n",
       "20   3.280163          StockOptionLevel\n",
       "21  14.228615         TotalWorkingYears\n",
       "22   5.660380     TrainingTimesLastYear\n",
       "23  14.883274           WorkLifeBalance\n",
       "24  10.548013            YearsAtCompany\n",
       "25   6.441125        YearsInCurrentRole\n",
       "26   2.451178   YearsSinceLastPromotion\n",
       "27   6.469991      YearsWithCurrManager"
      ]
     },
     "execution_count": 113,
     "metadata": {},
     "output_type": "execute_result"
    }
   ],
   "source": [
    "vif=pd.DataFrame()\n",
    "vif['vif']=[variance_inflation_factor(x.values,i) for i in range(len(x.columns))]\n",
    "vif['col']=x.columns\n",
    "vif"
   ]
  },
  {
   "cell_type": "code",
   "execution_count": 114,
   "id": "8428f7d3",
   "metadata": {},
   "outputs": [],
   "source": [
    "x.drop(['Age'],axis=1,inplace=True)"
   ]
  },
  {
   "cell_type": "code",
   "execution_count": 115,
   "id": "c6a94915",
   "metadata": {},
   "outputs": [
    {
     "data": {
      "text/html": [
       "<div>\n",
       "<style scoped>\n",
       "    .dataframe tbody tr th:only-of-type {\n",
       "        vertical-align: middle;\n",
       "    }\n",
       "\n",
       "    .dataframe tbody tr th {\n",
       "        vertical-align: top;\n",
       "    }\n",
       "\n",
       "    .dataframe thead th {\n",
       "        text-align: right;\n",
       "    }\n",
       "</style>\n",
       "<table border=\"1\" class=\"dataframe\">\n",
       "  <thead>\n",
       "    <tr style=\"text-align: right;\">\n",
       "      <th></th>\n",
       "      <th>vif</th>\n",
       "      <th>col</th>\n",
       "    </tr>\n",
       "  </thead>\n",
       "  <tbody>\n",
       "    <tr>\n",
       "      <th>0</th>\n",
       "      <td>6.604101</td>\n",
       "      <td>BusinessTravel</td>\n",
       "    </tr>\n",
       "    <tr>\n",
       "      <th>1</th>\n",
       "      <td>5.776451</td>\n",
       "      <td>DailyRate</td>\n",
       "    </tr>\n",
       "    <tr>\n",
       "      <th>2</th>\n",
       "      <td>12.253313</td>\n",
       "      <td>Department</td>\n",
       "    </tr>\n",
       "    <tr>\n",
       "      <th>3</th>\n",
       "      <td>3.459627</td>\n",
       "      <td>DistanceFromHome</td>\n",
       "    </tr>\n",
       "    <tr>\n",
       "      <th>4</th>\n",
       "      <td>9.021665</td>\n",
       "      <td>Education</td>\n",
       "    </tr>\n",
       "    <tr>\n",
       "      <th>5</th>\n",
       "      <td>3.841909</td>\n",
       "      <td>EducationField</td>\n",
       "    </tr>\n",
       "    <tr>\n",
       "      <th>6</th>\n",
       "      <td>6.927535</td>\n",
       "      <td>EnvironmentSatisfaction</td>\n",
       "    </tr>\n",
       "    <tr>\n",
       "      <th>7</th>\n",
       "      <td>2.492736</td>\n",
       "      <td>Gender</td>\n",
       "    </tr>\n",
       "    <tr>\n",
       "      <th>8</th>\n",
       "      <td>10.732995</td>\n",
       "      <td>HourlyRate</td>\n",
       "    </tr>\n",
       "    <tr>\n",
       "      <th>9</th>\n",
       "      <td>14.489548</td>\n",
       "      <td>JobInvolvement</td>\n",
       "    </tr>\n",
       "    <tr>\n",
       "      <th>10</th>\n",
       "      <td>7.969086</td>\n",
       "      <td>JobRole</td>\n",
       "    </tr>\n",
       "    <tr>\n",
       "      <th>11</th>\n",
       "      <td>6.827567</td>\n",
       "      <td>JobSatisfaction</td>\n",
       "    </tr>\n",
       "    <tr>\n",
       "      <th>12</th>\n",
       "      <td>5.671060</td>\n",
       "      <td>MaritalStatus</td>\n",
       "    </tr>\n",
       "    <tr>\n",
       "      <th>13</th>\n",
       "      <td>7.472294</td>\n",
       "      <td>MonthlyIncome</td>\n",
       "    </tr>\n",
       "    <tr>\n",
       "      <th>14</th>\n",
       "      <td>4.947389</td>\n",
       "      <td>MonthlyRate</td>\n",
       "    </tr>\n",
       "    <tr>\n",
       "      <th>15</th>\n",
       "      <td>2.676100</td>\n",
       "      <td>NumCompaniesWorked</td>\n",
       "    </tr>\n",
       "    <tr>\n",
       "      <th>16</th>\n",
       "      <td>1.428624</td>\n",
       "      <td>OverTime</td>\n",
       "    </tr>\n",
       "    <tr>\n",
       "      <th>17</th>\n",
       "      <td>16.447637</td>\n",
       "      <td>PercentSalaryHike</td>\n",
       "    </tr>\n",
       "    <tr>\n",
       "      <th>18</th>\n",
       "      <td>7.084720</td>\n",
       "      <td>RelationshipSatisfaction</td>\n",
       "    </tr>\n",
       "    <tr>\n",
       "      <th>19</th>\n",
       "      <td>3.269203</td>\n",
       "      <td>StockOptionLevel</td>\n",
       "    </tr>\n",
       "    <tr>\n",
       "      <th>20</th>\n",
       "      <td>10.829387</td>\n",
       "      <td>TotalWorkingYears</td>\n",
       "    </tr>\n",
       "    <tr>\n",
       "      <th>21</th>\n",
       "      <td>5.616352</td>\n",
       "      <td>TrainingTimesLastYear</td>\n",
       "    </tr>\n",
       "    <tr>\n",
       "      <th>22</th>\n",
       "      <td>14.791634</td>\n",
       "      <td>WorkLifeBalance</td>\n",
       "    </tr>\n",
       "    <tr>\n",
       "      <th>23</th>\n",
       "      <td>10.518940</td>\n",
       "      <td>YearsAtCompany</td>\n",
       "    </tr>\n",
       "    <tr>\n",
       "      <th>24</th>\n",
       "      <td>6.437314</td>\n",
       "      <td>YearsInCurrentRole</td>\n",
       "    </tr>\n",
       "    <tr>\n",
       "      <th>25</th>\n",
       "      <td>2.450497</td>\n",
       "      <td>YearsSinceLastPromotion</td>\n",
       "    </tr>\n",
       "    <tr>\n",
       "      <th>26</th>\n",
       "      <td>6.466263</td>\n",
       "      <td>YearsWithCurrManager</td>\n",
       "    </tr>\n",
       "  </tbody>\n",
       "</table>\n",
       "</div>"
      ],
      "text/plain": [
       "          vif                       col\n",
       "0    6.604101            BusinessTravel\n",
       "1    5.776451                 DailyRate\n",
       "2   12.253313                Department\n",
       "3    3.459627          DistanceFromHome\n",
       "4    9.021665                 Education\n",
       "5    3.841909            EducationField\n",
       "6    6.927535   EnvironmentSatisfaction\n",
       "7    2.492736                    Gender\n",
       "8   10.732995                HourlyRate\n",
       "9   14.489548            JobInvolvement\n",
       "10   7.969086                   JobRole\n",
       "11   6.827567           JobSatisfaction\n",
       "12   5.671060             MaritalStatus\n",
       "13   7.472294             MonthlyIncome\n",
       "14   4.947389               MonthlyRate\n",
       "15   2.676100        NumCompaniesWorked\n",
       "16   1.428624                  OverTime\n",
       "17  16.447637         PercentSalaryHike\n",
       "18   7.084720  RelationshipSatisfaction\n",
       "19   3.269203          StockOptionLevel\n",
       "20  10.829387         TotalWorkingYears\n",
       "21   5.616352     TrainingTimesLastYear\n",
       "22  14.791634           WorkLifeBalance\n",
       "23  10.518940            YearsAtCompany\n",
       "24   6.437314        YearsInCurrentRole\n",
       "25   2.450497   YearsSinceLastPromotion\n",
       "26   6.466263      YearsWithCurrManager"
      ]
     },
     "execution_count": 115,
     "metadata": {},
     "output_type": "execute_result"
    }
   ],
   "source": [
    "vif=pd.DataFrame()\n",
    "vif['vif']=[variance_inflation_factor(x.values,i) for i in range(len(x.columns))]\n",
    "vif['col']=x.columns\n",
    "vif"
   ]
  },
  {
   "cell_type": "code",
   "execution_count": 116,
   "id": "5fcd3cce",
   "metadata": {},
   "outputs": [],
   "source": [
    "x.drop(['PercentSalaryHike'],axis=1,inplace=True)"
   ]
  },
  {
   "cell_type": "code",
   "execution_count": 117,
   "id": "a190dd38",
   "metadata": {},
   "outputs": [
    {
     "data": {
      "text/html": [
       "<div>\n",
       "<style scoped>\n",
       "    .dataframe tbody tr th:only-of-type {\n",
       "        vertical-align: middle;\n",
       "    }\n",
       "\n",
       "    .dataframe tbody tr th {\n",
       "        vertical-align: top;\n",
       "    }\n",
       "\n",
       "    .dataframe thead th {\n",
       "        text-align: right;\n",
       "    }\n",
       "</style>\n",
       "<table border=\"1\" class=\"dataframe\">\n",
       "  <thead>\n",
       "    <tr style=\"text-align: right;\">\n",
       "      <th></th>\n",
       "      <th>vif</th>\n",
       "      <th>col</th>\n",
       "    </tr>\n",
       "  </thead>\n",
       "  <tbody>\n",
       "    <tr>\n",
       "      <th>0</th>\n",
       "      <td>6.579662</td>\n",
       "      <td>BusinessTravel</td>\n",
       "    </tr>\n",
       "    <tr>\n",
       "      <th>1</th>\n",
       "      <td>5.734168</td>\n",
       "      <td>DailyRate</td>\n",
       "    </tr>\n",
       "    <tr>\n",
       "      <th>2</th>\n",
       "      <td>12.240236</td>\n",
       "      <td>Department</td>\n",
       "    </tr>\n",
       "    <tr>\n",
       "      <th>3</th>\n",
       "      <td>3.416067</td>\n",
       "      <td>DistanceFromHome</td>\n",
       "    </tr>\n",
       "    <tr>\n",
       "      <th>4</th>\n",
       "      <td>8.941008</td>\n",
       "      <td>Education</td>\n",
       "    </tr>\n",
       "    <tr>\n",
       "      <th>5</th>\n",
       "      <td>3.831222</td>\n",
       "      <td>EducationField</td>\n",
       "    </tr>\n",
       "    <tr>\n",
       "      <th>6</th>\n",
       "      <td>6.883259</td>\n",
       "      <td>EnvironmentSatisfaction</td>\n",
       "    </tr>\n",
       "    <tr>\n",
       "      <th>7</th>\n",
       "      <td>2.484380</td>\n",
       "      <td>Gender</td>\n",
       "    </tr>\n",
       "    <tr>\n",
       "      <th>8</th>\n",
       "      <td>10.588298</td>\n",
       "      <td>HourlyRate</td>\n",
       "    </tr>\n",
       "    <tr>\n",
       "      <th>9</th>\n",
       "      <td>14.236357</td>\n",
       "      <td>JobInvolvement</td>\n",
       "    </tr>\n",
       "    <tr>\n",
       "      <th>10</th>\n",
       "      <td>7.966316</td>\n",
       "      <td>JobRole</td>\n",
       "    </tr>\n",
       "    <tr>\n",
       "      <th>11</th>\n",
       "      <td>6.736296</td>\n",
       "      <td>JobSatisfaction</td>\n",
       "    </tr>\n",
       "    <tr>\n",
       "      <th>12</th>\n",
       "      <td>5.588131</td>\n",
       "      <td>MaritalStatus</td>\n",
       "    </tr>\n",
       "    <tr>\n",
       "      <th>13</th>\n",
       "      <td>7.472275</td>\n",
       "      <td>MonthlyIncome</td>\n",
       "    </tr>\n",
       "    <tr>\n",
       "      <th>14</th>\n",
       "      <td>4.917145</td>\n",
       "      <td>MonthlyRate</td>\n",
       "    </tr>\n",
       "    <tr>\n",
       "      <th>15</th>\n",
       "      <td>2.672767</td>\n",
       "      <td>NumCompaniesWorked</td>\n",
       "    </tr>\n",
       "    <tr>\n",
       "      <th>16</th>\n",
       "      <td>1.428495</td>\n",
       "      <td>OverTime</td>\n",
       "    </tr>\n",
       "    <tr>\n",
       "      <th>17</th>\n",
       "      <td>7.060089</td>\n",
       "      <td>RelationshipSatisfaction</td>\n",
       "    </tr>\n",
       "    <tr>\n",
       "      <th>18</th>\n",
       "      <td>3.239024</td>\n",
       "      <td>StockOptionLevel</td>\n",
       "    </tr>\n",
       "    <tr>\n",
       "      <th>19</th>\n",
       "      <td>10.826235</td>\n",
       "      <td>TotalWorkingYears</td>\n",
       "    </tr>\n",
       "    <tr>\n",
       "      <th>20</th>\n",
       "      <td>5.589833</td>\n",
       "      <td>TrainingTimesLastYear</td>\n",
       "    </tr>\n",
       "    <tr>\n",
       "      <th>21</th>\n",
       "      <td>14.451885</td>\n",
       "      <td>WorkLifeBalance</td>\n",
       "    </tr>\n",
       "    <tr>\n",
       "      <th>22</th>\n",
       "      <td>10.516483</td>\n",
       "      <td>YearsAtCompany</td>\n",
       "    </tr>\n",
       "    <tr>\n",
       "      <th>23</th>\n",
       "      <td>6.434156</td>\n",
       "      <td>YearsInCurrentRole</td>\n",
       "    </tr>\n",
       "    <tr>\n",
       "      <th>24</th>\n",
       "      <td>2.450169</td>\n",
       "      <td>YearsSinceLastPromotion</td>\n",
       "    </tr>\n",
       "    <tr>\n",
       "      <th>25</th>\n",
       "      <td>6.464317</td>\n",
       "      <td>YearsWithCurrManager</td>\n",
       "    </tr>\n",
       "  </tbody>\n",
       "</table>\n",
       "</div>"
      ],
      "text/plain": [
       "          vif                       col\n",
       "0    6.579662            BusinessTravel\n",
       "1    5.734168                 DailyRate\n",
       "2   12.240236                Department\n",
       "3    3.416067          DistanceFromHome\n",
       "4    8.941008                 Education\n",
       "5    3.831222            EducationField\n",
       "6    6.883259   EnvironmentSatisfaction\n",
       "7    2.484380                    Gender\n",
       "8   10.588298                HourlyRate\n",
       "9   14.236357            JobInvolvement\n",
       "10   7.966316                   JobRole\n",
       "11   6.736296           JobSatisfaction\n",
       "12   5.588131             MaritalStatus\n",
       "13   7.472275             MonthlyIncome\n",
       "14   4.917145               MonthlyRate\n",
       "15   2.672767        NumCompaniesWorked\n",
       "16   1.428495                  OverTime\n",
       "17   7.060089  RelationshipSatisfaction\n",
       "18   3.239024          StockOptionLevel\n",
       "19  10.826235         TotalWorkingYears\n",
       "20   5.589833     TrainingTimesLastYear\n",
       "21  14.451885           WorkLifeBalance\n",
       "22  10.516483            YearsAtCompany\n",
       "23   6.434156        YearsInCurrentRole\n",
       "24   2.450169   YearsSinceLastPromotion\n",
       "25   6.464317      YearsWithCurrManager"
      ]
     },
     "execution_count": 117,
     "metadata": {},
     "output_type": "execute_result"
    }
   ],
   "source": [
    "vif=pd.DataFrame()\n",
    "vif['vif']=[variance_inflation_factor(x.values,i) for i in range(len(x.columns))]\n",
    "vif['col']=x.columns\n",
    "vif"
   ]
  },
  {
   "cell_type": "code",
   "execution_count": 118,
   "id": "253919b2",
   "metadata": {},
   "outputs": [],
   "source": [
    "x.drop(['WorkLifeBalance'],axis=1,inplace=True)"
   ]
  },
  {
   "cell_type": "code",
   "execution_count": 119,
   "id": "ede6f30e",
   "metadata": {},
   "outputs": [
    {
     "data": {
      "text/html": [
       "<div>\n",
       "<style scoped>\n",
       "    .dataframe tbody tr th:only-of-type {\n",
       "        vertical-align: middle;\n",
       "    }\n",
       "\n",
       "    .dataframe tbody tr th {\n",
       "        vertical-align: top;\n",
       "    }\n",
       "\n",
       "    .dataframe thead th {\n",
       "        text-align: right;\n",
       "    }\n",
       "</style>\n",
       "<table border=\"1\" class=\"dataframe\">\n",
       "  <thead>\n",
       "    <tr style=\"text-align: right;\">\n",
       "      <th></th>\n",
       "      <th>vif</th>\n",
       "      <th>col</th>\n",
       "    </tr>\n",
       "  </thead>\n",
       "  <tbody>\n",
       "    <tr>\n",
       "      <th>0</th>\n",
       "      <td>6.544492</td>\n",
       "      <td>BusinessTravel</td>\n",
       "    </tr>\n",
       "    <tr>\n",
       "      <th>1</th>\n",
       "      <td>5.726707</td>\n",
       "      <td>DailyRate</td>\n",
       "    </tr>\n",
       "    <tr>\n",
       "      <th>2</th>\n",
       "      <td>12.215527</td>\n",
       "      <td>Department</td>\n",
       "    </tr>\n",
       "    <tr>\n",
       "      <th>3</th>\n",
       "      <td>3.414740</td>\n",
       "      <td>DistanceFromHome</td>\n",
       "    </tr>\n",
       "    <tr>\n",
       "      <th>4</th>\n",
       "      <td>8.834523</td>\n",
       "      <td>Education</td>\n",
       "    </tr>\n",
       "    <tr>\n",
       "      <th>5</th>\n",
       "      <td>3.791536</td>\n",
       "      <td>EducationField</td>\n",
       "    </tr>\n",
       "    <tr>\n",
       "      <th>6</th>\n",
       "      <td>6.777538</td>\n",
       "      <td>EnvironmentSatisfaction</td>\n",
       "    </tr>\n",
       "    <tr>\n",
       "      <th>7</th>\n",
       "      <td>2.474935</td>\n",
       "      <td>Gender</td>\n",
       "    </tr>\n",
       "    <tr>\n",
       "      <th>8</th>\n",
       "      <td>10.424808</td>\n",
       "      <td>HourlyRate</td>\n",
       "    </tr>\n",
       "    <tr>\n",
       "      <th>9</th>\n",
       "      <td>14.024790</td>\n",
       "      <td>JobInvolvement</td>\n",
       "    </tr>\n",
       "    <tr>\n",
       "      <th>10</th>\n",
       "      <td>7.954677</td>\n",
       "      <td>JobRole</td>\n",
       "    </tr>\n",
       "    <tr>\n",
       "      <th>11</th>\n",
       "      <td>6.688454</td>\n",
       "      <td>JobSatisfaction</td>\n",
       "    </tr>\n",
       "    <tr>\n",
       "      <th>12</th>\n",
       "      <td>5.500621</td>\n",
       "      <td>MaritalStatus</td>\n",
       "    </tr>\n",
       "    <tr>\n",
       "      <th>13</th>\n",
       "      <td>7.443289</td>\n",
       "      <td>MonthlyIncome</td>\n",
       "    </tr>\n",
       "    <tr>\n",
       "      <th>14</th>\n",
       "      <td>4.879872</td>\n",
       "      <td>MonthlyRate</td>\n",
       "    </tr>\n",
       "    <tr>\n",
       "      <th>15</th>\n",
       "      <td>2.671093</td>\n",
       "      <td>NumCompaniesWorked</td>\n",
       "    </tr>\n",
       "    <tr>\n",
       "      <th>16</th>\n",
       "      <td>1.428454</td>\n",
       "      <td>OverTime</td>\n",
       "    </tr>\n",
       "    <tr>\n",
       "      <th>17</th>\n",
       "      <td>6.967993</td>\n",
       "      <td>RelationshipSatisfaction</td>\n",
       "    </tr>\n",
       "    <tr>\n",
       "      <th>18</th>\n",
       "      <td>3.203848</td>\n",
       "      <td>StockOptionLevel</td>\n",
       "    </tr>\n",
       "    <tr>\n",
       "      <th>19</th>\n",
       "      <td>10.818048</td>\n",
       "      <td>TotalWorkingYears</td>\n",
       "    </tr>\n",
       "    <tr>\n",
       "      <th>20</th>\n",
       "      <td>5.525665</td>\n",
       "      <td>TrainingTimesLastYear</td>\n",
       "    </tr>\n",
       "    <tr>\n",
       "      <th>21</th>\n",
       "      <td>10.516475</td>\n",
       "      <td>YearsAtCompany</td>\n",
       "    </tr>\n",
       "    <tr>\n",
       "      <th>22</th>\n",
       "      <td>6.403750</td>\n",
       "      <td>YearsInCurrentRole</td>\n",
       "    </tr>\n",
       "    <tr>\n",
       "      <th>23</th>\n",
       "      <td>2.449311</td>\n",
       "      <td>YearsSinceLastPromotion</td>\n",
       "    </tr>\n",
       "    <tr>\n",
       "      <th>24</th>\n",
       "      <td>6.462866</td>\n",
       "      <td>YearsWithCurrManager</td>\n",
       "    </tr>\n",
       "  </tbody>\n",
       "</table>\n",
       "</div>"
      ],
      "text/plain": [
       "          vif                       col\n",
       "0    6.544492            BusinessTravel\n",
       "1    5.726707                 DailyRate\n",
       "2   12.215527                Department\n",
       "3    3.414740          DistanceFromHome\n",
       "4    8.834523                 Education\n",
       "5    3.791536            EducationField\n",
       "6    6.777538   EnvironmentSatisfaction\n",
       "7    2.474935                    Gender\n",
       "8   10.424808                HourlyRate\n",
       "9   14.024790            JobInvolvement\n",
       "10   7.954677                   JobRole\n",
       "11   6.688454           JobSatisfaction\n",
       "12   5.500621             MaritalStatus\n",
       "13   7.443289             MonthlyIncome\n",
       "14   4.879872               MonthlyRate\n",
       "15   2.671093        NumCompaniesWorked\n",
       "16   1.428454                  OverTime\n",
       "17   6.967993  RelationshipSatisfaction\n",
       "18   3.203848          StockOptionLevel\n",
       "19  10.818048         TotalWorkingYears\n",
       "20   5.525665     TrainingTimesLastYear\n",
       "21  10.516475            YearsAtCompany\n",
       "22   6.403750        YearsInCurrentRole\n",
       "23   2.449311   YearsSinceLastPromotion\n",
       "24   6.462866      YearsWithCurrManager"
      ]
     },
     "execution_count": 119,
     "metadata": {},
     "output_type": "execute_result"
    }
   ],
   "source": [
    "vif=pd.DataFrame()\n",
    "vif['vif']=[variance_inflation_factor(x.values,i) for i in range(len(x.columns))]\n",
    "vif['col']=x.columns\n",
    "vif"
   ]
  },
  {
   "cell_type": "code",
   "execution_count": 120,
   "id": "35d867c0",
   "metadata": {},
   "outputs": [],
   "source": [
    "x.drop(['JobInvolvement'],axis=1,inplace=True)"
   ]
  },
  {
   "cell_type": "code",
   "execution_count": 121,
   "id": "3f113f72",
   "metadata": {},
   "outputs": [
    {
     "data": {
      "text/html": [
       "<div>\n",
       "<style scoped>\n",
       "    .dataframe tbody tr th:only-of-type {\n",
       "        vertical-align: middle;\n",
       "    }\n",
       "\n",
       "    .dataframe tbody tr th {\n",
       "        vertical-align: top;\n",
       "    }\n",
       "\n",
       "    .dataframe thead th {\n",
       "        text-align: right;\n",
       "    }\n",
       "</style>\n",
       "<table border=\"1\" class=\"dataframe\">\n",
       "  <thead>\n",
       "    <tr style=\"text-align: right;\">\n",
       "      <th></th>\n",
       "      <th>vif</th>\n",
       "      <th>col</th>\n",
       "    </tr>\n",
       "  </thead>\n",
       "  <tbody>\n",
       "    <tr>\n",
       "      <th>0</th>\n",
       "      <td>6.422364</td>\n",
       "      <td>BusinessTravel</td>\n",
       "    </tr>\n",
       "    <tr>\n",
       "      <th>1</th>\n",
       "      <td>5.622412</td>\n",
       "      <td>DailyRate</td>\n",
       "    </tr>\n",
       "    <tr>\n",
       "      <th>2</th>\n",
       "      <td>12.214639</td>\n",
       "      <td>Department</td>\n",
       "    </tr>\n",
       "    <tr>\n",
       "      <th>3</th>\n",
       "      <td>3.400706</td>\n",
       "      <td>DistanceFromHome</td>\n",
       "    </tr>\n",
       "    <tr>\n",
       "      <th>4</th>\n",
       "      <td>8.636406</td>\n",
       "      <td>Education</td>\n",
       "    </tr>\n",
       "    <tr>\n",
       "      <th>5</th>\n",
       "      <td>3.777336</td>\n",
       "      <td>EducationField</td>\n",
       "    </tr>\n",
       "    <tr>\n",
       "      <th>6</th>\n",
       "      <td>6.709499</td>\n",
       "      <td>EnvironmentSatisfaction</td>\n",
       "    </tr>\n",
       "    <tr>\n",
       "      <th>7</th>\n",
       "      <td>2.458336</td>\n",
       "      <td>Gender</td>\n",
       "    </tr>\n",
       "    <tr>\n",
       "      <th>8</th>\n",
       "      <td>10.099673</td>\n",
       "      <td>HourlyRate</td>\n",
       "    </tr>\n",
       "    <tr>\n",
       "      <th>9</th>\n",
       "      <td>7.930672</td>\n",
       "      <td>JobRole</td>\n",
       "    </tr>\n",
       "    <tr>\n",
       "      <th>10</th>\n",
       "      <td>6.629593</td>\n",
       "      <td>JobSatisfaction</td>\n",
       "    </tr>\n",
       "    <tr>\n",
       "      <th>11</th>\n",
       "      <td>5.469773</td>\n",
       "      <td>MaritalStatus</td>\n",
       "    </tr>\n",
       "    <tr>\n",
       "      <th>12</th>\n",
       "      <td>7.441518</td>\n",
       "      <td>MonthlyIncome</td>\n",
       "    </tr>\n",
       "    <tr>\n",
       "      <th>13</th>\n",
       "      <td>4.852362</td>\n",
       "      <td>MonthlyRate</td>\n",
       "    </tr>\n",
       "    <tr>\n",
       "      <th>14</th>\n",
       "      <td>2.667752</td>\n",
       "      <td>NumCompaniesWorked</td>\n",
       "    </tr>\n",
       "    <tr>\n",
       "      <th>15</th>\n",
       "      <td>1.428094</td>\n",
       "      <td>OverTime</td>\n",
       "    </tr>\n",
       "    <tr>\n",
       "      <th>16</th>\n",
       "      <td>6.834006</td>\n",
       "      <td>RelationshipSatisfaction</td>\n",
       "    </tr>\n",
       "    <tr>\n",
       "      <th>17</th>\n",
       "      <td>3.182496</td>\n",
       "      <td>StockOptionLevel</td>\n",
       "    </tr>\n",
       "    <tr>\n",
       "      <th>18</th>\n",
       "      <td>10.817781</td>\n",
       "      <td>TotalWorkingYears</td>\n",
       "    </tr>\n",
       "    <tr>\n",
       "      <th>19</th>\n",
       "      <td>5.492014</td>\n",
       "      <td>TrainingTimesLastYear</td>\n",
       "    </tr>\n",
       "    <tr>\n",
       "      <th>20</th>\n",
       "      <td>10.499642</td>\n",
       "      <td>YearsAtCompany</td>\n",
       "    </tr>\n",
       "    <tr>\n",
       "      <th>21</th>\n",
       "      <td>6.400592</td>\n",
       "      <td>YearsInCurrentRole</td>\n",
       "    </tr>\n",
       "    <tr>\n",
       "      <th>22</th>\n",
       "      <td>2.447666</td>\n",
       "      <td>YearsSinceLastPromotion</td>\n",
       "    </tr>\n",
       "    <tr>\n",
       "      <th>23</th>\n",
       "      <td>6.424420</td>\n",
       "      <td>YearsWithCurrManager</td>\n",
       "    </tr>\n",
       "  </tbody>\n",
       "</table>\n",
       "</div>"
      ],
      "text/plain": [
       "          vif                       col\n",
       "0    6.422364            BusinessTravel\n",
       "1    5.622412                 DailyRate\n",
       "2   12.214639                Department\n",
       "3    3.400706          DistanceFromHome\n",
       "4    8.636406                 Education\n",
       "5    3.777336            EducationField\n",
       "6    6.709499   EnvironmentSatisfaction\n",
       "7    2.458336                    Gender\n",
       "8   10.099673                HourlyRate\n",
       "9    7.930672                   JobRole\n",
       "10   6.629593           JobSatisfaction\n",
       "11   5.469773             MaritalStatus\n",
       "12   7.441518             MonthlyIncome\n",
       "13   4.852362               MonthlyRate\n",
       "14   2.667752        NumCompaniesWorked\n",
       "15   1.428094                  OverTime\n",
       "16   6.834006  RelationshipSatisfaction\n",
       "17   3.182496          StockOptionLevel\n",
       "18  10.817781         TotalWorkingYears\n",
       "19   5.492014     TrainingTimesLastYear\n",
       "20  10.499642            YearsAtCompany\n",
       "21   6.400592        YearsInCurrentRole\n",
       "22   2.447666   YearsSinceLastPromotion\n",
       "23   6.424420      YearsWithCurrManager"
      ]
     },
     "execution_count": 121,
     "metadata": {},
     "output_type": "execute_result"
    }
   ],
   "source": [
    "vif=pd.DataFrame()\n",
    "vif['vif']=[variance_inflation_factor(x.values,i) for i in range(len(x.columns))]\n",
    "vif['col']=x.columns\n",
    "vif"
   ]
  },
  {
   "cell_type": "code",
   "execution_count": 122,
   "id": "db458b0c",
   "metadata": {},
   "outputs": [],
   "source": [
    "x.drop(['Department'],axis=1,inplace=True)"
   ]
  },
  {
   "cell_type": "code",
   "execution_count": 123,
   "id": "06eeecf3",
   "metadata": {},
   "outputs": [
    {
     "data": {
      "text/html": [
       "<div>\n",
       "<style scoped>\n",
       "    .dataframe tbody tr th:only-of-type {\n",
       "        vertical-align: middle;\n",
       "    }\n",
       "\n",
       "    .dataframe tbody tr th {\n",
       "        vertical-align: top;\n",
       "    }\n",
       "\n",
       "    .dataframe thead th {\n",
       "        text-align: right;\n",
       "    }\n",
       "</style>\n",
       "<table border=\"1\" class=\"dataframe\">\n",
       "  <thead>\n",
       "    <tr style=\"text-align: right;\">\n",
       "      <th></th>\n",
       "      <th>vif</th>\n",
       "      <th>col</th>\n",
       "    </tr>\n",
       "  </thead>\n",
       "  <tbody>\n",
       "    <tr>\n",
       "      <th>0</th>\n",
       "      <td>6.421219</td>\n",
       "      <td>BusinessTravel</td>\n",
       "    </tr>\n",
       "    <tr>\n",
       "      <th>1</th>\n",
       "      <td>5.605422</td>\n",
       "      <td>DailyRate</td>\n",
       "    </tr>\n",
       "    <tr>\n",
       "      <th>2</th>\n",
       "      <td>3.395791</td>\n",
       "      <td>DistanceFromHome</td>\n",
       "    </tr>\n",
       "    <tr>\n",
       "      <th>3</th>\n",
       "      <td>8.628048</td>\n",
       "      <td>Education</td>\n",
       "    </tr>\n",
       "    <tr>\n",
       "      <th>4</th>\n",
       "      <td>3.773767</td>\n",
       "      <td>EducationField</td>\n",
       "    </tr>\n",
       "    <tr>\n",
       "      <th>5</th>\n",
       "      <td>6.704856</td>\n",
       "      <td>EnvironmentSatisfaction</td>\n",
       "    </tr>\n",
       "    <tr>\n",
       "      <th>6</th>\n",
       "      <td>2.458089</td>\n",
       "      <td>Gender</td>\n",
       "    </tr>\n",
       "    <tr>\n",
       "      <th>7</th>\n",
       "      <td>10.057049</td>\n",
       "      <td>HourlyRate</td>\n",
       "    </tr>\n",
       "    <tr>\n",
       "      <th>8</th>\n",
       "      <td>4.242454</td>\n",
       "      <td>JobRole</td>\n",
       "    </tr>\n",
       "    <tr>\n",
       "      <th>9</th>\n",
       "      <td>6.612965</td>\n",
       "      <td>JobSatisfaction</td>\n",
       "    </tr>\n",
       "    <tr>\n",
       "      <th>10</th>\n",
       "      <td>5.443032</td>\n",
       "      <td>MaritalStatus</td>\n",
       "    </tr>\n",
       "    <tr>\n",
       "      <th>11</th>\n",
       "      <td>7.336316</td>\n",
       "      <td>MonthlyIncome</td>\n",
       "    </tr>\n",
       "    <tr>\n",
       "      <th>12</th>\n",
       "      <td>4.839570</td>\n",
       "      <td>MonthlyRate</td>\n",
       "    </tr>\n",
       "    <tr>\n",
       "      <th>13</th>\n",
       "      <td>2.667491</td>\n",
       "      <td>NumCompaniesWorked</td>\n",
       "    </tr>\n",
       "    <tr>\n",
       "      <th>14</th>\n",
       "      <td>1.427783</td>\n",
       "      <td>OverTime</td>\n",
       "    </tr>\n",
       "    <tr>\n",
       "      <th>15</th>\n",
       "      <td>6.831746</td>\n",
       "      <td>RelationshipSatisfaction</td>\n",
       "    </tr>\n",
       "    <tr>\n",
       "      <th>16</th>\n",
       "      <td>3.175001</td>\n",
       "      <td>StockOptionLevel</td>\n",
       "    </tr>\n",
       "    <tr>\n",
       "      <th>17</th>\n",
       "      <td>10.808949</td>\n",
       "      <td>TotalWorkingYears</td>\n",
       "    </tr>\n",
       "    <tr>\n",
       "      <th>18</th>\n",
       "      <td>5.457554</td>\n",
       "      <td>TrainingTimesLastYear</td>\n",
       "    </tr>\n",
       "    <tr>\n",
       "      <th>19</th>\n",
       "      <td>10.499621</td>\n",
       "      <td>YearsAtCompany</td>\n",
       "    </tr>\n",
       "    <tr>\n",
       "      <th>20</th>\n",
       "      <td>6.394929</td>\n",
       "      <td>YearsInCurrentRole</td>\n",
       "    </tr>\n",
       "    <tr>\n",
       "      <th>21</th>\n",
       "      <td>2.446075</td>\n",
       "      <td>YearsSinceLastPromotion</td>\n",
       "    </tr>\n",
       "    <tr>\n",
       "      <th>22</th>\n",
       "      <td>6.423873</td>\n",
       "      <td>YearsWithCurrManager</td>\n",
       "    </tr>\n",
       "  </tbody>\n",
       "</table>\n",
       "</div>"
      ],
      "text/plain": [
       "          vif                       col\n",
       "0    6.421219            BusinessTravel\n",
       "1    5.605422                 DailyRate\n",
       "2    3.395791          DistanceFromHome\n",
       "3    8.628048                 Education\n",
       "4    3.773767            EducationField\n",
       "5    6.704856   EnvironmentSatisfaction\n",
       "6    2.458089                    Gender\n",
       "7   10.057049                HourlyRate\n",
       "8    4.242454                   JobRole\n",
       "9    6.612965           JobSatisfaction\n",
       "10   5.443032             MaritalStatus\n",
       "11   7.336316             MonthlyIncome\n",
       "12   4.839570               MonthlyRate\n",
       "13   2.667491        NumCompaniesWorked\n",
       "14   1.427783                  OverTime\n",
       "15   6.831746  RelationshipSatisfaction\n",
       "16   3.175001          StockOptionLevel\n",
       "17  10.808949         TotalWorkingYears\n",
       "18   5.457554     TrainingTimesLastYear\n",
       "19  10.499621            YearsAtCompany\n",
       "20   6.394929        YearsInCurrentRole\n",
       "21   2.446075   YearsSinceLastPromotion\n",
       "22   6.423873      YearsWithCurrManager"
      ]
     },
     "execution_count": 123,
     "metadata": {},
     "output_type": "execute_result"
    }
   ],
   "source": [
    "vif=pd.DataFrame()\n",
    "vif['vif']=[variance_inflation_factor(x.values,i) for i in range(len(x.columns))]\n",
    "vif['col']=x.columns\n",
    "vif"
   ]
  },
  {
   "cell_type": "code",
   "execution_count": 124,
   "id": "153d1d3c",
   "metadata": {},
   "outputs": [],
   "source": [
    "x.drop(['TotalWorkingYears'],axis=1,inplace=True)"
   ]
  },
  {
   "cell_type": "code",
   "execution_count": 125,
   "id": "fb9cad39",
   "metadata": {},
   "outputs": [
    {
     "data": {
      "text/html": [
       "<div>\n",
       "<style scoped>\n",
       "    .dataframe tbody tr th:only-of-type {\n",
       "        vertical-align: middle;\n",
       "    }\n",
       "\n",
       "    .dataframe tbody tr th {\n",
       "        vertical-align: top;\n",
       "    }\n",
       "\n",
       "    .dataframe thead th {\n",
       "        text-align: right;\n",
       "    }\n",
       "</style>\n",
       "<table border=\"1\" class=\"dataframe\">\n",
       "  <thead>\n",
       "    <tr style=\"text-align: right;\">\n",
       "      <th></th>\n",
       "      <th>vif</th>\n",
       "      <th>col</th>\n",
       "    </tr>\n",
       "  </thead>\n",
       "  <tbody>\n",
       "    <tr>\n",
       "      <th>0</th>\n",
       "      <td>6.415405</td>\n",
       "      <td>BusinessTravel</td>\n",
       "    </tr>\n",
       "    <tr>\n",
       "      <th>1</th>\n",
       "      <td>5.602380</td>\n",
       "      <td>DailyRate</td>\n",
       "    </tr>\n",
       "    <tr>\n",
       "      <th>2</th>\n",
       "      <td>3.394133</td>\n",
       "      <td>DistanceFromHome</td>\n",
       "    </tr>\n",
       "    <tr>\n",
       "      <th>3</th>\n",
       "      <td>8.557075</td>\n",
       "      <td>Education</td>\n",
       "    </tr>\n",
       "    <tr>\n",
       "      <th>4</th>\n",
       "      <td>3.773387</td>\n",
       "      <td>EducationField</td>\n",
       "    </tr>\n",
       "    <tr>\n",
       "      <th>5</th>\n",
       "      <td>6.704472</td>\n",
       "      <td>EnvironmentSatisfaction</td>\n",
       "    </tr>\n",
       "    <tr>\n",
       "      <th>6</th>\n",
       "      <td>2.456832</td>\n",
       "      <td>Gender</td>\n",
       "    </tr>\n",
       "    <tr>\n",
       "      <th>7</th>\n",
       "      <td>10.055511</td>\n",
       "      <td>HourlyRate</td>\n",
       "    </tr>\n",
       "    <tr>\n",
       "      <th>8</th>\n",
       "      <td>4.197980</td>\n",
       "      <td>JobRole</td>\n",
       "    </tr>\n",
       "    <tr>\n",
       "      <th>9</th>\n",
       "      <td>6.612873</td>\n",
       "      <td>JobSatisfaction</td>\n",
       "    </tr>\n",
       "    <tr>\n",
       "      <th>10</th>\n",
       "      <td>5.439970</td>\n",
       "      <td>MaritalStatus</td>\n",
       "    </tr>\n",
       "    <tr>\n",
       "      <th>11</th>\n",
       "      <td>4.286763</td>\n",
       "      <td>MonthlyIncome</td>\n",
       "    </tr>\n",
       "    <tr>\n",
       "      <th>12</th>\n",
       "      <td>4.836414</td>\n",
       "      <td>MonthlyRate</td>\n",
       "    </tr>\n",
       "    <tr>\n",
       "      <th>13</th>\n",
       "      <td>2.398799</td>\n",
       "      <td>NumCompaniesWorked</td>\n",
       "    </tr>\n",
       "    <tr>\n",
       "      <th>14</th>\n",
       "      <td>1.425967</td>\n",
       "      <td>OverTime</td>\n",
       "    </tr>\n",
       "    <tr>\n",
       "      <th>15</th>\n",
       "      <td>6.829776</td>\n",
       "      <td>RelationshipSatisfaction</td>\n",
       "    </tr>\n",
       "    <tr>\n",
       "      <th>16</th>\n",
       "      <td>3.172986</td>\n",
       "      <td>StockOptionLevel</td>\n",
       "    </tr>\n",
       "    <tr>\n",
       "      <th>17</th>\n",
       "      <td>5.455246</td>\n",
       "      <td>TrainingTimesLastYear</td>\n",
       "    </tr>\n",
       "    <tr>\n",
       "      <th>18</th>\n",
       "      <td>9.505386</td>\n",
       "      <td>YearsAtCompany</td>\n",
       "    </tr>\n",
       "    <tr>\n",
       "      <th>19</th>\n",
       "      <td>6.394455</td>\n",
       "      <td>YearsInCurrentRole</td>\n",
       "    </tr>\n",
       "    <tr>\n",
       "      <th>20</th>\n",
       "      <td>2.445726</td>\n",
       "      <td>YearsSinceLastPromotion</td>\n",
       "    </tr>\n",
       "    <tr>\n",
       "      <th>21</th>\n",
       "      <td>6.418440</td>\n",
       "      <td>YearsWithCurrManager</td>\n",
       "    </tr>\n",
       "  </tbody>\n",
       "</table>\n",
       "</div>"
      ],
      "text/plain": [
       "          vif                       col\n",
       "0    6.415405            BusinessTravel\n",
       "1    5.602380                 DailyRate\n",
       "2    3.394133          DistanceFromHome\n",
       "3    8.557075                 Education\n",
       "4    3.773387            EducationField\n",
       "5    6.704472   EnvironmentSatisfaction\n",
       "6    2.456832                    Gender\n",
       "7   10.055511                HourlyRate\n",
       "8    4.197980                   JobRole\n",
       "9    6.612873           JobSatisfaction\n",
       "10   5.439970             MaritalStatus\n",
       "11   4.286763             MonthlyIncome\n",
       "12   4.836414               MonthlyRate\n",
       "13   2.398799        NumCompaniesWorked\n",
       "14   1.425967                  OverTime\n",
       "15   6.829776  RelationshipSatisfaction\n",
       "16   3.172986          StockOptionLevel\n",
       "17   5.455246     TrainingTimesLastYear\n",
       "18   9.505386            YearsAtCompany\n",
       "19   6.394455        YearsInCurrentRole\n",
       "20   2.445726   YearsSinceLastPromotion\n",
       "21   6.418440      YearsWithCurrManager"
      ]
     },
     "execution_count": 125,
     "metadata": {},
     "output_type": "execute_result"
    }
   ],
   "source": [
    "vif=pd.DataFrame()\n",
    "vif['vif']=[variance_inflation_factor(x.values,i) for i in range(len(x.columns))]\n",
    "vif['col']=x.columns\n",
    "vif"
   ]
  },
  {
   "cell_type": "code",
   "execution_count": 126,
   "id": "859baf3d",
   "metadata": {},
   "outputs": [],
   "source": [
    "x.drop(['HourlyRate'],axis=1,inplace=True)"
   ]
  },
  {
   "cell_type": "code",
   "execution_count": 127,
   "id": "e4f01636",
   "metadata": {},
   "outputs": [
    {
     "data": {
      "text/html": [
       "<div>\n",
       "<style scoped>\n",
       "    .dataframe tbody tr th:only-of-type {\n",
       "        vertical-align: middle;\n",
       "    }\n",
       "\n",
       "    .dataframe tbody tr th {\n",
       "        vertical-align: top;\n",
       "    }\n",
       "\n",
       "    .dataframe thead th {\n",
       "        text-align: right;\n",
       "    }\n",
       "</style>\n",
       "<table border=\"1\" class=\"dataframe\">\n",
       "  <thead>\n",
       "    <tr style=\"text-align: right;\">\n",
       "      <th></th>\n",
       "      <th>vif</th>\n",
       "      <th>col</th>\n",
       "    </tr>\n",
       "  </thead>\n",
       "  <tbody>\n",
       "    <tr>\n",
       "      <th>0</th>\n",
       "      <td>6.289026</td>\n",
       "      <td>BusinessTravel</td>\n",
       "    </tr>\n",
       "    <tr>\n",
       "      <th>1</th>\n",
       "      <td>5.523526</td>\n",
       "      <td>DailyRate</td>\n",
       "    </tr>\n",
       "    <tr>\n",
       "      <th>2</th>\n",
       "      <td>3.365492</td>\n",
       "      <td>DistanceFromHome</td>\n",
       "    </tr>\n",
       "    <tr>\n",
       "      <th>3</th>\n",
       "      <td>8.387489</td>\n",
       "      <td>Education</td>\n",
       "    </tr>\n",
       "    <tr>\n",
       "      <th>4</th>\n",
       "      <td>3.763608</td>\n",
       "      <td>EducationField</td>\n",
       "    </tr>\n",
       "    <tr>\n",
       "      <th>5</th>\n",
       "      <td>6.675393</td>\n",
       "      <td>EnvironmentSatisfaction</td>\n",
       "    </tr>\n",
       "    <tr>\n",
       "      <th>6</th>\n",
       "      <td>2.442594</td>\n",
       "      <td>Gender</td>\n",
       "    </tr>\n",
       "    <tr>\n",
       "      <th>7</th>\n",
       "      <td>4.179159</td>\n",
       "      <td>JobRole</td>\n",
       "    </tr>\n",
       "    <tr>\n",
       "      <th>8</th>\n",
       "      <td>6.600470</td>\n",
       "      <td>JobSatisfaction</td>\n",
       "    </tr>\n",
       "    <tr>\n",
       "      <th>9</th>\n",
       "      <td>5.314311</td>\n",
       "      <td>MaritalStatus</td>\n",
       "    </tr>\n",
       "    <tr>\n",
       "      <th>10</th>\n",
       "      <td>4.284709</td>\n",
       "      <td>MonthlyIncome</td>\n",
       "    </tr>\n",
       "    <tr>\n",
       "      <th>11</th>\n",
       "      <td>4.801998</td>\n",
       "      <td>MonthlyRate</td>\n",
       "    </tr>\n",
       "    <tr>\n",
       "      <th>12</th>\n",
       "      <td>2.391273</td>\n",
       "      <td>NumCompaniesWorked</td>\n",
       "    </tr>\n",
       "    <tr>\n",
       "      <th>13</th>\n",
       "      <td>1.425543</td>\n",
       "      <td>OverTime</td>\n",
       "    </tr>\n",
       "    <tr>\n",
       "      <th>14</th>\n",
       "      <td>6.731239</td>\n",
       "      <td>RelationshipSatisfaction</td>\n",
       "    </tr>\n",
       "    <tr>\n",
       "      <th>15</th>\n",
       "      <td>3.087041</td>\n",
       "      <td>StockOptionLevel</td>\n",
       "    </tr>\n",
       "    <tr>\n",
       "      <th>16</th>\n",
       "      <td>5.406639</td>\n",
       "      <td>TrainingTimesLastYear</td>\n",
       "    </tr>\n",
       "    <tr>\n",
       "      <th>17</th>\n",
       "      <td>9.500802</td>\n",
       "      <td>YearsAtCompany</td>\n",
       "    </tr>\n",
       "    <tr>\n",
       "      <th>18</th>\n",
       "      <td>6.394176</td>\n",
       "      <td>YearsInCurrentRole</td>\n",
       "    </tr>\n",
       "    <tr>\n",
       "      <th>19</th>\n",
       "      <td>2.444015</td>\n",
       "      <td>YearsSinceLastPromotion</td>\n",
       "    </tr>\n",
       "    <tr>\n",
       "      <th>20</th>\n",
       "      <td>6.416596</td>\n",
       "      <td>YearsWithCurrManager</td>\n",
       "    </tr>\n",
       "  </tbody>\n",
       "</table>\n",
       "</div>"
      ],
      "text/plain": [
       "         vif                       col\n",
       "0   6.289026            BusinessTravel\n",
       "1   5.523526                 DailyRate\n",
       "2   3.365492          DistanceFromHome\n",
       "3   8.387489                 Education\n",
       "4   3.763608            EducationField\n",
       "5   6.675393   EnvironmentSatisfaction\n",
       "6   2.442594                    Gender\n",
       "7   4.179159                   JobRole\n",
       "8   6.600470           JobSatisfaction\n",
       "9   5.314311             MaritalStatus\n",
       "10  4.284709             MonthlyIncome\n",
       "11  4.801998               MonthlyRate\n",
       "12  2.391273        NumCompaniesWorked\n",
       "13  1.425543                  OverTime\n",
       "14  6.731239  RelationshipSatisfaction\n",
       "15  3.087041          StockOptionLevel\n",
       "16  5.406639     TrainingTimesLastYear\n",
       "17  9.500802            YearsAtCompany\n",
       "18  6.394176        YearsInCurrentRole\n",
       "19  2.444015   YearsSinceLastPromotion\n",
       "20  6.416596      YearsWithCurrManager"
      ]
     },
     "execution_count": 127,
     "metadata": {},
     "output_type": "execute_result"
    }
   ],
   "source": [
    "vif=pd.DataFrame()\n",
    "vif['vif']=[variance_inflation_factor(x.values,i) for i in range(len(x.columns))]\n",
    "vif['col']=x.columns\n",
    "vif"
   ]
  },
  {
   "cell_type": "markdown",
   "id": "e43948ed",
   "metadata": {},
   "source": [
    "### Here for all the columns, VIF score is less than 10. Therefore, Multi-Collinearity in data is removed."
   ]
  },
  {
   "cell_type": "markdown",
   "id": "274030c4",
   "metadata": {},
   "source": [
    "## Sampling"
   ]
  },
  {
   "cell_type": "code",
   "execution_count": 130,
   "id": "a6cd3fa2",
   "metadata": {},
   "outputs": [],
   "source": [
    "from imblearn.over_sampling import SMOTE\n",
    "smo=SMOTE()\n",
    "x,y=smo.fit_resample(x,y)"
   ]
  },
  {
   "cell_type": "code",
   "execution_count": 131,
   "id": "ca4ac75a",
   "metadata": {},
   "outputs": [
    {
     "data": {
      "text/plain": [
       "0    1233\n",
       "1    1233\n",
       "Name: Attrition, dtype: int64"
      ]
     },
     "execution_count": 131,
     "metadata": {},
     "output_type": "execute_result"
    }
   ],
   "source": [
    "y.value_counts()"
   ]
  },
  {
   "cell_type": "markdown",
   "id": "438b2f9f",
   "metadata": {},
   "source": [
    "## Scaling"
   ]
  },
  {
   "cell_type": "code",
   "execution_count": 133,
   "id": "1becf30c",
   "metadata": {},
   "outputs": [
    {
     "data": {
      "text/html": [
       "<div>\n",
       "<style scoped>\n",
       "    .dataframe tbody tr th:only-of-type {\n",
       "        vertical-align: middle;\n",
       "    }\n",
       "\n",
       "    .dataframe tbody tr th {\n",
       "        vertical-align: top;\n",
       "    }\n",
       "\n",
       "    .dataframe thead th {\n",
       "        text-align: right;\n",
       "    }\n",
       "</style>\n",
       "<table border=\"1\" class=\"dataframe\">\n",
       "  <thead>\n",
       "    <tr style=\"text-align: right;\">\n",
       "      <th></th>\n",
       "      <th>BusinessTravel</th>\n",
       "      <th>DailyRate</th>\n",
       "      <th>DistanceFromHome</th>\n",
       "      <th>Education</th>\n",
       "      <th>EducationField</th>\n",
       "      <th>EnvironmentSatisfaction</th>\n",
       "      <th>Gender</th>\n",
       "      <th>JobRole</th>\n",
       "      <th>JobSatisfaction</th>\n",
       "      <th>MaritalStatus</th>\n",
       "      <th>...</th>\n",
       "      <th>MonthlyRate</th>\n",
       "      <th>NumCompaniesWorked</th>\n",
       "      <th>OverTime</th>\n",
       "      <th>RelationshipSatisfaction</th>\n",
       "      <th>StockOptionLevel</th>\n",
       "      <th>TrainingTimesLastYear</th>\n",
       "      <th>YearsAtCompany</th>\n",
       "      <th>YearsInCurrentRole</th>\n",
       "      <th>YearsSinceLastPromotion</th>\n",
       "      <th>YearsWithCurrManager</th>\n",
       "    </tr>\n",
       "  </thead>\n",
       "  <tbody>\n",
       "    <tr>\n",
       "      <th>0</th>\n",
       "      <td>0.750848</td>\n",
       "      <td>0.057103</td>\n",
       "      <td>-1.022740</td>\n",
       "      <td>-0.768489</td>\n",
       "      <td>-0.920581</td>\n",
       "      <td>-0.449888</td>\n",
       "      <td>-1.003249</td>\n",
       "      <td>1.072350</td>\n",
       "      <td>1.429184</td>\n",
       "      <td>1.305715</td>\n",
       "      <td>...</td>\n",
       "      <td>0.709443</td>\n",
       "      <td>2.316764</td>\n",
       "      <td>1.610823</td>\n",
       "      <td>-1.415624</td>\n",
       "      <td>-0.747058</td>\n",
       "      <td>-2.150685</td>\n",
       "      <td>-0.003132</td>\n",
       "      <td>0.140012</td>\n",
       "      <td>-0.646416</td>\n",
       "      <td>0.478344</td>\n",
       "    </tr>\n",
       "    <tr>\n",
       "      <th>1</th>\n",
       "      <td>-0.775608</td>\n",
       "      <td>-1.454206</td>\n",
       "      <td>-0.016392</td>\n",
       "      <td>-1.791758</td>\n",
       "      <td>-0.920581</td>\n",
       "      <td>0.483971</td>\n",
       "      <td>0.996761</td>\n",
       "      <td>0.644104</td>\n",
       "      <td>-0.434575</td>\n",
       "      <td>-0.101581</td>\n",
       "      <td>...</td>\n",
       "      <td>1.475662</td>\n",
       "      <td>-0.700360</td>\n",
       "      <td>-0.620800</td>\n",
       "      <td>1.430242</td>\n",
       "      <td>0.524333</td>\n",
       "      <td>0.341603</td>\n",
       "      <td>0.683321</td>\n",
       "      <td>1.041500</td>\n",
       "      <td>-0.314735</td>\n",
       "      <td>1.084042</td>\n",
       "    </tr>\n",
       "    <tr>\n",
       "      <th>2</th>\n",
       "      <td>0.750848</td>\n",
       "      <td>1.564094</td>\n",
       "      <td>-1.022740</td>\n",
       "      <td>-0.768489</td>\n",
       "      <td>1.489347</td>\n",
       "      <td>1.417830</td>\n",
       "      <td>0.996761</td>\n",
       "      <td>-1.068877</td>\n",
       "      <td>0.497305</td>\n",
       "      <td>1.305715</td>\n",
       "      <td>...</td>\n",
       "      <td>-1.702001</td>\n",
       "      <td>1.454728</td>\n",
       "      <td>1.610823</td>\n",
       "      <td>-0.467002</td>\n",
       "      <td>-0.747058</td>\n",
       "      <td>0.341603</td>\n",
       "      <td>-1.032810</td>\n",
       "      <td>-1.061972</td>\n",
       "      <td>-0.646416</td>\n",
       "      <td>-1.035900</td>\n",
       "    </tr>\n",
       "    <tr>\n",
       "      <th>3</th>\n",
       "      <td>-0.775608</td>\n",
       "      <td>1.564094</td>\n",
       "      <td>-1.022740</td>\n",
       "      <td>1.278049</td>\n",
       "      <td>-0.920581</td>\n",
       "      <td>1.417830</td>\n",
       "      <td>-1.003249</td>\n",
       "      <td>0.644104</td>\n",
       "      <td>0.497305</td>\n",
       "      <td>-0.101581</td>\n",
       "      <td>...</td>\n",
       "      <td>1.228913</td>\n",
       "      <td>-0.700360</td>\n",
       "      <td>1.610823</td>\n",
       "      <td>0.481620</td>\n",
       "      <td>-0.747058</td>\n",
       "      <td>0.341603</td>\n",
       "      <td>0.340094</td>\n",
       "      <td>1.041500</td>\n",
       "      <td>0.348629</td>\n",
       "      <td>-1.035900</td>\n",
       "    </tr>\n",
       "    <tr>\n",
       "      <th>4</th>\n",
       "      <td>0.750848</td>\n",
       "      <td>0.057103</td>\n",
       "      <td>-1.022740</td>\n",
       "      <td>-1.791758</td>\n",
       "      <td>0.686038</td>\n",
       "      <td>-1.383748</td>\n",
       "      <td>0.996761</td>\n",
       "      <td>-1.068877</td>\n",
       "      <td>-0.434575</td>\n",
       "      <td>-0.101581</td>\n",
       "      <td>...</td>\n",
       "      <td>0.307559</td>\n",
       "      <td>2.747782</td>\n",
       "      <td>-0.620800</td>\n",
       "      <td>1.430242</td>\n",
       "      <td>0.524333</td>\n",
       "      <td>0.341603</td>\n",
       "      <td>-0.689584</td>\n",
       "      <td>-0.460980</td>\n",
       "      <td>0.016947</td>\n",
       "      <td>-0.430203</td>\n",
       "    </tr>\n",
       "  </tbody>\n",
       "</table>\n",
       "<p>5 rows × 21 columns</p>\n",
       "</div>"
      ],
      "text/plain": [
       "   BusinessTravel  DailyRate  DistanceFromHome  Education  EducationField  \\\n",
       "0        0.750848   0.057103         -1.022740  -0.768489       -0.920581   \n",
       "1       -0.775608  -1.454206         -0.016392  -1.791758       -0.920581   \n",
       "2        0.750848   1.564094         -1.022740  -0.768489        1.489347   \n",
       "3       -0.775608   1.564094         -1.022740   1.278049       -0.920581   \n",
       "4        0.750848   0.057103         -1.022740  -1.791758        0.686038   \n",
       "\n",
       "   EnvironmentSatisfaction    Gender   JobRole  JobSatisfaction  \\\n",
       "0                -0.449888 -1.003249  1.072350         1.429184   \n",
       "1                 0.483971  0.996761  0.644104        -0.434575   \n",
       "2                 1.417830  0.996761 -1.068877         0.497305   \n",
       "3                 1.417830 -1.003249  0.644104         0.497305   \n",
       "4                -1.383748  0.996761 -1.068877        -0.434575   \n",
       "\n",
       "   MaritalStatus  ...  MonthlyRate  NumCompaniesWorked  OverTime  \\\n",
       "0       1.305715  ...     0.709443            2.316764  1.610823   \n",
       "1      -0.101581  ...     1.475662           -0.700360 -0.620800   \n",
       "2       1.305715  ...    -1.702001            1.454728  1.610823   \n",
       "3      -0.101581  ...     1.228913           -0.700360  1.610823   \n",
       "4      -0.101581  ...     0.307559            2.747782 -0.620800   \n",
       "\n",
       "   RelationshipSatisfaction  StockOptionLevel  TrainingTimesLastYear  \\\n",
       "0                 -1.415624         -0.747058              -2.150685   \n",
       "1                  1.430242          0.524333               0.341603   \n",
       "2                 -0.467002         -0.747058               0.341603   \n",
       "3                  0.481620         -0.747058               0.341603   \n",
       "4                  1.430242          0.524333               0.341603   \n",
       "\n",
       "   YearsAtCompany  YearsInCurrentRole  YearsSinceLastPromotion  \\\n",
       "0       -0.003132            0.140012                -0.646416   \n",
       "1        0.683321            1.041500                -0.314735   \n",
       "2       -1.032810           -1.061972                -0.646416   \n",
       "3        0.340094            1.041500                 0.348629   \n",
       "4       -0.689584           -0.460980                 0.016947   \n",
       "\n",
       "   YearsWithCurrManager  \n",
       "0              0.478344  \n",
       "1              1.084042  \n",
       "2             -1.035900  \n",
       "3             -1.035900  \n",
       "4             -0.430203  \n",
       "\n",
       "[5 rows x 21 columns]"
      ]
     },
     "execution_count": 133,
     "metadata": {},
     "output_type": "execute_result"
    }
   ],
   "source": [
    "from sklearn.preprocessing import StandardScaler\n",
    "scaler=StandardScaler()\n",
    "x=pd.DataFrame(scaler.fit_transform(x),columns=x.columns)\n",
    "x.head()"
   ]
  },
  {
   "cell_type": "markdown",
   "id": "9e41bccb",
   "metadata": {},
   "source": [
    "## Choosing Random State Value"
   ]
  },
  {
   "cell_type": "code",
   "execution_count": 135,
   "id": "aeb5a045",
   "metadata": {},
   "outputs": [
    {
     "name": "stdout",
     "output_type": "stream",
     "text": [
      "max accuracy= 0.8324324324324325 ran state= 26\n"
     ]
    }
   ],
   "source": [
    "from sklearn.model_selection import train_test_split\n",
    "from sklearn.tree import DecisionTreeClassifier\n",
    "from sklearn.metrics import accuracy_score,classification_report\n",
    "maxac=0\n",
    "maxran=0\n",
    "for i in range(1,200):\n",
    "    x_train,x_test,y_train,y_test=train_test_split(x,y,test_size=0.3,random_state=i)\n",
    "    sam=DecisionTreeClassifier()\n",
    "    sam.fit(x_train,y_train)\n",
    "    pred=sam.predict(x_test)\n",
    "    acc=accuracy_score(y_test,pred)\n",
    "    if acc>maxac:\n",
    "        maxac=acc\n",
    "        maxran=i\n",
    "print('max accuracy=',maxac,'ran state=',maxran)"
   ]
  },
  {
   "cell_type": "code",
   "execution_count": 136,
   "id": "54ee3e65",
   "metadata": {},
   "outputs": [],
   "source": [
    "x_train,x_test,y_train,y_test=train_test_split(x,y,test_size=0.3,random_state=maxran)"
   ]
  },
  {
   "cell_type": "markdown",
   "id": "ed82c6e3",
   "metadata": {},
   "source": [
    "## Model Selection"
   ]
  },
  {
   "cell_type": "markdown",
   "id": "6d6af414",
   "metadata": {},
   "source": [
    "### Decision Tree Classifier"
   ]
  },
  {
   "cell_type": "code",
   "execution_count": 139,
   "id": "a6452b45",
   "metadata": {},
   "outputs": [
    {
     "name": "stdout",
     "output_type": "stream",
     "text": [
      "0.8351351351351352\n",
      "              precision    recall  f1-score   support\n",
      "\n",
      "           0       0.83      0.83      0.83       364\n",
      "           1       0.84      0.84      0.84       376\n",
      "\n",
      "    accuracy                           0.84       740\n",
      "   macro avg       0.84      0.84      0.84       740\n",
      "weighted avg       0.84      0.84      0.84       740\n",
      "\n"
     ]
    }
   ],
   "source": [
    "from sklearn.tree import DecisionTreeClassifier\n",
    "dtc=DecisionTreeClassifier()\n",
    "dtc.fit(x_train,y_train)\n",
    "pred1=dtc.predict(x_test)\n",
    "dtc_clas1=classification_report(y_test,pred1)\n",
    "acc1=accuracy_score(y_test,pred1)\n",
    "print(acc1)\n",
    "print(dtc_clas1)"
   ]
  },
  {
   "cell_type": "code",
   "execution_count": 140,
   "id": "e7e2aaf5",
   "metadata": {},
   "outputs": [
    {
     "data": {
      "text/plain": [
       "array([[303,  61],\n",
       "       [ 61, 315]], dtype=int64)"
      ]
     },
     "execution_count": 140,
     "metadata": {},
     "output_type": "execute_result"
    }
   ],
   "source": [
    "from sklearn.metrics import confusion_matrix\n",
    "con1=confusion_matrix(y_test,pred1)\n",
    "con1"
   ]
  },
  {
   "cell_type": "code",
   "execution_count": 141,
   "id": "88c3fae1",
   "metadata": {},
   "outputs": [
    {
     "data": {
      "image/png": "[encoded data removed]",
      "text/plain": [
       "<Figure size 432x288 with 1 Axes>"
      ]
     },
     "metadata": {
      "needs_background": "light"
     },
     "output_type": "display_data"
    }
   ],
   "source": [
    "from sklearn.metrics import roc_curve,roc_auc_score\n",
    "fpr, tpr, thresholds =roc_curve(y_test, pred1)\n",
    "area_under_curve=roc_auc_score(y_test, pred1)\n",
    "# Printing ROC curve\n",
    "plt.plot(fpr,tpr,label='ROC')\n",
    "plt.plot([0,1],[0,1],color='darkblue',linestyle='--',label='ROC Curve(area=%0.3f)'%area_under_curve)\n",
    "plt.legend()\n",
    "plt.show()"
   ]
  },
  {
   "cell_type": "markdown",
   "id": "9c95a3ee",
   "metadata": {},
   "source": [
    "### Random Forest"
   ]
  },
  {
   "cell_type": "code",
   "execution_count": 143,
   "id": "b574e258",
   "metadata": {},
   "outputs": [
    {
     "name": "stdout",
     "output_type": "stream",
     "text": [
      "0.9256756756756757\n",
      "              precision    recall  f1-score   support\n",
      "\n",
      "           0       0.90      0.95      0.93       364\n",
      "           1       0.95      0.90      0.92       376\n",
      "\n",
      "    accuracy                           0.93       740\n",
      "   macro avg       0.93      0.93      0.93       740\n",
      "weighted avg       0.93      0.93      0.93       740\n",
      "\n"
     ]
    }
   ],
   "source": [
    "from sklearn.ensemble import RandomForestClassifier\n",
    "rfc=RandomForestClassifier()\n",
    "rfc.fit(x_train,y_train)\n",
    "pred2=rfc.predict(x_test)\n",
    "rfc_clas2=classification_report(y_test,pred2)\n",
    "acc2=accuracy_score(y_test,pred2)\n",
    "print(acc2)\n",
    "print(rfc_clas2)"
   ]
  },
  {
   "cell_type": "code",
   "execution_count": 144,
   "id": "42b46c45",
   "metadata": {},
   "outputs": [
    {
     "data": {
      "text/plain": [
       "array([[347,  17],\n",
       "       [ 38, 338]], dtype=int64)"
      ]
     },
     "execution_count": 144,
     "metadata": {},
     "output_type": "execute_result"
    }
   ],
   "source": [
    "con2=confusion_matrix(y_test,pred2)\n",
    "con2"
   ]
  },
  {
   "cell_type": "code",
   "execution_count": 145,
   "id": "b41b7304",
   "metadata": {},
   "outputs": [
    {
     "data": {
      "image/png": "[encoded data removed]",
      "text/plain": [
       "<Figure size 432x288 with 1 Axes>"
      ]
     },
     "metadata": {
      "needs_background": "light"
     },
     "output_type": "display_data"
    }
   ],
   "source": [
    "fpr, tpr, thresholds =roc_curve(y_test, pred2)\n",
    "area_under_curve=roc_auc_score(y_test, pred2)\n",
    "# Printing ROC curve\n",
    "plt.plot(fpr,tpr,label='ROC')\n",
    "plt.plot([0,1],[0,1],color='darkblue',linestyle='--',label='ROC Curve(area=%0.3f)'%area_under_curve)\n",
    "plt.legend()\n",
    "plt.show()"
   ]
  },
  {
   "cell_type": "markdown",
   "id": "a15d757e",
   "metadata": {},
   "source": [
    "### Support Vectors"
   ]
  },
  {
   "cell_type": "code",
   "execution_count": 147,
   "id": "b73eb7d4",
   "metadata": {},
   "outputs": [
    {
     "name": "stdout",
     "output_type": "stream",
     "text": [
      "0.8918918918918919\n",
      "              precision    recall  f1-score   support\n",
      "\n",
      "           0       0.88      0.90      0.89       364\n",
      "           1       0.90      0.88      0.89       376\n",
      "\n",
      "    accuracy                           0.89       740\n",
      "   macro avg       0.89      0.89      0.89       740\n",
      "weighted avg       0.89      0.89      0.89       740\n",
      "\n"
     ]
    }
   ],
   "source": [
    "from sklearn.svm import SVC\n",
    "sup=SVC()\n",
    "sup.fit(x_train,y_train)\n",
    "pred3=sup.predict(x_test)\n",
    "sv_clas3=classification_report(y_test,pred3)\n",
    "acc3=accuracy_score(y_test,pred3)\n",
    "print(acc3)\n",
    "print(sv_clas3)"
   ]
  },
  {
   "cell_type": "code",
   "execution_count": 149,
   "id": "e390169a",
   "metadata": {},
   "outputs": [
    {
     "data": {
      "text/plain": [
       "array([[328,  36],\n",
       "       [ 44, 332]], dtype=int64)"
      ]
     },
     "execution_count": 149,
     "metadata": {},
     "output_type": "execute_result"
    }
   ],
   "source": [
    "con3=confusion_matrix(y_test,pred3)\n",
    "con3"
   ]
  },
  {
   "cell_type": "code",
   "execution_count": 150,
   "id": "8168c992",
   "metadata": {},
   "outputs": [
    {
     "data": {
      "image/png": "[encoded data removed]",
      "text/plain": [
       "<Figure size 432x288 with 1 Axes>"
      ]
     },
     "metadata": {
      "needs_background": "light"
     },
     "output_type": "display_data"
    }
   ],
   "source": [
    "fpr, tpr, thresholds =roc_curve(y_test, pred3)\n",
    "area_under_curve=roc_auc_score(y_test, pred3)\n",
    "# Printing ROC curve\n",
    "plt.plot(fpr,tpr,label='ROC')\n",
    "plt.plot([0,1],[0,1],color='darkblue',linestyle='--',label='ROC Curve(area=%0.3f)'%area_under_curve)\n",
    "plt.legend()\n",
    "plt.show()"
   ]
  },
  {
   "cell_type": "markdown",
   "id": "f72d8c3c",
   "metadata": {},
   "source": [
    "### Logistic Regression"
   ]
  },
  {
   "cell_type": "code",
   "execution_count": 152,
   "id": "d76f88e5",
   "metadata": {},
   "outputs": [
    {
     "name": "stdout",
     "output_type": "stream",
     "text": [
      "0.8189189189189189\n",
      "              precision    recall  f1-score   support\n",
      "\n",
      "           0       0.82      0.81      0.81       364\n",
      "           1       0.82      0.83      0.82       376\n",
      "\n",
      "    accuracy                           0.82       740\n",
      "   macro avg       0.82      0.82      0.82       740\n",
      "weighted avg       0.82      0.82      0.82       740\n",
      "\n"
     ]
    }
   ],
   "source": [
    "from sklearn.linear_model import LogisticRegression\n",
    "lr=LogisticRegression()\n",
    "lr.fit(x_train,y_train)\n",
    "pred4=lr.predict(x_test)\n",
    "lr_clas4=classification_report(y_test,pred4)\n",
    "acc4=accuracy_score(y_test,pred4)\n",
    "print(acc4)\n",
    "print(lr_clas4)"
   ]
  },
  {
   "cell_type": "code",
   "execution_count": 153,
   "id": "a5e835d6",
   "metadata": {},
   "outputs": [
    {
     "data": {
      "text/plain": [
       "array([[294,  70],\n",
       "       [ 64, 312]], dtype=int64)"
      ]
     },
     "execution_count": 153,
     "metadata": {},
     "output_type": "execute_result"
    }
   ],
   "source": [
    "con4=confusion_matrix(y_test,pred4)\n",
    "con4"
   ]
  },
  {
   "cell_type": "code",
   "execution_count": 154,
   "id": "f9c3915f",
   "metadata": {},
   "outputs": [
    {
     "data": {
      "image/png": "[encoded data removed]",
      "text/plain": [
       "<Figure size 432x288 with 1 Axes>"
      ]
     },
     "metadata": {
      "needs_background": "light"
     },
     "output_type": "display_data"
    }
   ],
   "source": [
    "fpr, tpr, thresholds =roc_curve(y_test, pred4)\n",
    "area_under_curve=roc_auc_score(y_test, pred4)\n",
    "# Printing ROC curve\n",
    "plt.plot(fpr,tpr,label='ROC')\n",
    "plt.plot([0,1],[0,1],color='darkblue',linestyle='--',label='ROC Curve(area=%0.3f)'%area_under_curve)\n",
    "plt.legend()\n",
    "plt.show()"
   ]
  },
  {
   "cell_type": "markdown",
   "id": "351984b3",
   "metadata": {},
   "source": [
    "## Cross Validation"
   ]
  },
  {
   "cell_type": "code",
   "execution_count": 156,
   "id": "c91af2c9",
   "metadata": {},
   "outputs": [
    {
     "name": "stdout",
     "output_type": "stream",
     "text": [
      "0.7960259529602595 0.9002433090024331 0.8600973236009732 0.7931873479318735\n"
     ]
    }
   ],
   "source": [
    "from sklearn.model_selection import cross_val_score\n",
    "cv1=cross_val_score(dtc,x,y,cv=3).mean()\n",
    "cv2=cross_val_score(rfc,x,y,cv=3).mean()\n",
    "cv3=cross_val_score(sup,x,y,cv=3).mean()\n",
    "cv4=cross_val_score(lr,x,y,cv=3).mean()\n",
    "print(cv1,cv2,cv3,cv4)"
   ]
  },
  {
   "cell_type": "code",
   "execution_count": 157,
   "id": "e26e24a8",
   "metadata": {},
   "outputs": [
    {
     "name": "stdout",
     "output_type": "stream",
     "text": [
      "0.03910918217487569 0.025432366673242557 0.031794568290918646 0.02573157098704537\n"
     ]
    }
   ],
   "source": [
    "print((acc1-cv1),(acc2-cv2),(acc3-cv3),(acc4-cv4))"
   ]
  },
  {
   "cell_type": "markdown",
   "id": "f33a8efe",
   "metadata": {},
   "source": [
    "### We can choose Random Forest Classifier as our model since its cv_score and accuracy score are almost similar."
   ]
  },
  {
   "cell_type": "markdown",
   "id": "4d553d22",
   "metadata": {},
   "source": [
    "## Hyper Parameter Tuning"
   ]
  },
  {
   "cell_type": "code",
   "execution_count": 158,
   "id": "d65adc6d",
   "metadata": {},
   "outputs": [
    {
     "name": "stdout",
     "output_type": "stream",
     "text": [
      "{'bootstrap': False, 'criterion': 'entropy', 'max_depth': 9, 'max_features': 'auto'}\n"
     ]
    }
   ],
   "source": [
    "from sklearn.model_selection import GridSearchCV\n",
    "parameters={'criterion':['gini', 'entropy'],'bootstrap':[True,False],'max_depth':list(range(1,10)),'max_features':['auto', 'sqrt', 'log2']}\n",
    "gsc=GridSearchCV(rfc,parameters)\n",
    "gsc.fit(x_train,y_train)\n",
    "print(gsc.best_params_)"
   ]
  },
  {
   "cell_type": "code",
   "execution_count": 160,
   "id": "773c2b7c",
   "metadata": {},
   "outputs": [
    {
     "data": {
      "text/plain": [
       "90.94594594594595"
      ]
     },
     "execution_count": 160,
     "metadata": {},
     "output_type": "execute_result"
    }
   ],
   "source": [
    "fin_attr_model=RandomForestClassifier(criterion= 'entropy', max_depth= 9, max_features= 'auto', bootstrap=False)\n",
    "fin_attr_model.fit(x_train,y_train)\n",
    "pred5=fin_attr_model.predict(x_test)\n",
    "dtc_acc=accuracy_score(y_test,pred5)\n",
    "dtc_acc*100"
   ]
  },
  {
   "cell_type": "code",
   "execution_count": 161,
   "id": "828f2c00",
   "metadata": {},
   "outputs": [
    {
     "data": {
      "text/plain": [
       "array([[342,  22],\n",
       "       [ 45, 331]], dtype=int64)"
      ]
     },
     "execution_count": 161,
     "metadata": {},
     "output_type": "execute_result"
    }
   ],
   "source": [
    "con5=confusion_matrix(y_test,pred5)\n",
    "con5"
   ]
  },
  {
   "cell_type": "code",
   "execution_count": 162,
   "id": "1d260e95",
   "metadata": {},
   "outputs": [
    {
     "data": {
      "image/png": "[encoded data removed]",
      "text/plain": [
       "<Figure size 432x288 with 1 Axes>"
      ]
     },
     "metadata": {
      "needs_background": "light"
     },
     "output_type": "display_data"
    }
   ],
   "source": [
    "fpr, tpr, thresholds =roc_curve(y_test, pred5)\n",
    "area_under_curve=roc_auc_score(y_test, pred5)\n",
    "# Print ROC curve\n",
    "plt.plot(fpr,tpr,label='ROC')\n",
    "plt.plot([0,1],[0,1],color='darkblue',linestyle='--',label='ROC Curve(area=%0.3f)'%area_under_curve)\n",
    "plt.legend()\n",
    "plt.show()"
   ]
  },
  {
   "cell_type": "markdown",
   "id": "52466828",
   "metadata": {},
   "source": [
    "## Saving the Model"
   ]
  },
  {
   "cell_type": "code",
   "execution_count": 164,
   "id": "4dc9bd30",
   "metadata": {},
   "outputs": [
    {
     "data": {
      "text/plain": [
       "['Final_attrition_mod.pkl']"
      ]
     },
     "execution_count": 164,
     "metadata": {},
     "output_type": "execute_result"
    }
   ],
   "source": [
    "import joblib\n",
    "joblib.dump(fin_attr_model,'Final_attrition_mod.pkl')"
   ]
  }
 ],
 "metadata": {
  "kernelspec": {
   "display_name": "Python 3",
   "language": "python",
   "name": "python3"
  },
  "language_info": {
   "codemirror_mode": {
    "name": "ipython",
    "version": 3
   },
   "file_extension": ".py",
   "mimetype": "text/x-python",
   "name": "python",
   "nbconvert_exporter": "python",
   "pygments_lexer": "ipython3",
   "version": "3.8.8"
  }
 },
 "nbformat": 4,
 "nbformat_minor": 5
}
